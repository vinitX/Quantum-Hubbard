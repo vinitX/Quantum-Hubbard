{
  "nbformat": 4,
  "nbformat_minor": 0,
  "metadata": {
    "colab": {
      "name": "Hubbard: Lanczos_Low_Occupation",
      "provenance": [],
      "collapsed_sections": []
    },
    "kernelspec": {
      "display_name": "Python 3",
      "name": "python3"
    }
  },
  "cells": [
    {
      "cell_type": "code",
      "metadata": {
        "id": "KpHyPor0q4qs"
      },
      "source": [
        "from scipy.sparse import lil_matrix\n",
        "from scipy.sparse.linalg import eigsh\n",
        "import numpy as np\n",
        "import matplotlib.pyplot as plt\n",
        "import itertools\n",
        "import operator as op\n",
        "from functools import reduce\n",
        "import time"
      ],
      "execution_count": null,
      "outputs": []
    },
    {
      "cell_type": "code",
      "metadata": {
        "id": "_gfQ4kWiTYFw"
      },
      "source": [
        "def ncr(n, r):\n",
        "    r = min(r, n-r)\n",
        "    numer = reduce(op.mul, range(n, n-r, -1), 1)\n",
        "    denom = reduce(op.mul, range(1, r+1), 1)\n",
        "    return numer // denom  # or / in Python 2"
      ],
      "execution_count": null,
      "outputs": []
    },
    {
      "cell_type": "code",
      "metadata": {
        "id": "SRgfQaAqSCGU"
      },
      "source": [
        "def binary_to_comb(num):\n",
        "  a=[]\n",
        "  for i in range(len(num)):\n",
        "    if num[i]=='1': a.append(i)\n",
        "  \n",
        "  print(a)\n",
        "  comb=0\n",
        "  for i in range(len(a)):\n",
        "    comb+=ncr(a[i],i)\n",
        "  return comb"
      ],
      "execution_count": null,
      "outputs": []
    },
    {
      "cell_type": "code",
      "metadata": {
        "id": "mDF7maasb5E5"
      },
      "source": [
        "def choose2num(thelist):\n",
        "    n = len(thelist)\n",
        "    k = sum([int(i) for i in thelist]) # total number of 1's\n",
        "    if ((n==0) or (k==0) or (n==k)): \n",
        "        return 0 # base cases of form [], [0,0,...] or [1,1,...]\n",
        "    num = 0\n",
        "    for firstbit in range(n-k+1):\n",
        "        if (thelist[firstbit] == '1'):\n",
        "            return num + choose2num(thelist[firstbit+1:])\n",
        "        num += ncr(n-firstbit-1,k-1)\n",
        "\n",
        "def num2choose(num,n,k):\n",
        "    if (n < k) or (k < 0): raise ValueError(\"num2choose: \" + str(n) + \", \" + str(k))\n",
        "    if (n==k): return '1'*n  # base case of form [1,1,...]\n",
        "    if (k==0): return '0'*n  # base case of form [0,0,...]\n",
        "    num %= ncr(n,k)\n",
        "    thedigit = 0\n",
        "    sum = 0\n",
        "    for thedigit in range(n-k+1):\n",
        "        oldsum = sum\n",
        "        sum += ncr(n-1-thedigit,k-1)\n",
        "        if (num < sum):\n",
        "            return '0'*thedigit + '1' + num2choose(num-oldsum, n-(thedigit+1),k-1)"
      ],
      "execution_count": null,
      "outputs": []
    },
    {
      "cell_type": "code",
      "metadata": {
        "colab": {
          "base_uri": "https://localhost:8080/"
        },
        "id": "nJj92ZimcDZT",
        "outputId": "0b611d84-cfc7-48cf-9d1d-2b9f8ce01144"
      },
      "source": [
        "num2choose(95,10,3), choose2num(['0', '0', '0', '1', '0', '0', '1', '0', '1', '0'])"
      ],
      "execution_count": null,
      "outputs": [
        {
          "output_type": "execute_result",
          "data": {
            "text/plain": [
              "('0001001010', 95)"
            ]
          },
          "metadata": {
            "tags": []
          },
          "execution_count": 67
        }
      ]
    },
    {
      "cell_type": "code",
      "metadata": {
        "id": "Tu397HXlaS61"
      },
      "source": [
        "def Hamiltonian(H,U,n,m):\n",
        "  k=ncr(2*n, m) #total no. of states\n",
        "\n",
        "  for i in range(k):\n",
        "    key=num2choose(i,2*n,m)\n",
        "    key=(2*n-len(key))*'0' + key #Appending additional zeros in the beginning\n",
        "    #print(i,key)\n",
        "    key=[x for x in key]\n",
        "\n",
        "    #Calculate Self-interaction energies\n",
        "    for j in range(0,2*n,2):\n",
        "      if key[j]=='1' and key[j+1]=='1':\n",
        "        H[i,i]+=U\n",
        "    \n",
        "    #Calculate Hopping energies\n",
        "    for j in range(2*n):\n",
        "      if key[j]=='1':\n",
        "        #Hopp right\n",
        "        new_key=key.copy()\n",
        "        new_key[j]='0'\n",
        "        if j+2<2*n and key[j+2]=='0':\n",
        "          new_key[j+2]='1'\n",
        "          str1=\"\"\n",
        "          new_key=str1.join(new_key)\n",
        "          H[i,choose2num(new_key)]=t\n",
        "          #print('right: ', str1.join(key), new_key)\n",
        "\n",
        "        #Hopp left\n",
        "        new_key=key.copy()\n",
        "        new_key[j]='0'\n",
        "        if j-2>=0 and key[j-2]=='0':\n",
        "          new_key[j-2]='1'\n",
        "          str1=\"\"\n",
        "          new_key=str1.join(new_key)\n",
        "          H[i,choose2num(new_key)]=t\n",
        "          #print('left: ', str1.join(key), new_key)\n",
        "\n",
        "  return H"
      ],
      "execution_count": null,
      "outputs": []
    },
    {
      "cell_type": "code",
      "metadata": {
        "id": "bFQOwmgcPc2r"
      },
      "source": [
        "def Hubbard(t,U,n,m):\n",
        "  k=ncr(2*n, m) #total no. of states\n",
        "\n",
        "  H = lil_matrix((k,k))\n",
        "  #tm=time.time()\n",
        "  H=Hamiltonian(H,U,n,m)\n",
        "  #print(time.time()-tm)\n",
        "\n",
        "  #plt.spy(H,markersize=0.1)\n",
        "  #plt.show()\n",
        "  tm=time.time()\n",
        "  l,v=eigsh(H, 1, which='SA') #Only one eigenvalue\n",
        "  print(\"U: \",U,\"  m: \",m,\"  \", time.time()-tm)\n",
        "\n",
        "  return l, v[:,0]"
      ],
      "execution_count": null,
      "outputs": []
    },
    {
      "cell_type": "code",
      "metadata": {
        "id": "2mkg0oDMy9_D"
      },
      "source": [
        "def most_stable_config(gs,n,m):  #Most stable configurations\n",
        "  print(\"Most stable configurations:\")\n",
        "\n",
        "  keys=np.argsort(np.abs(gs))\n",
        "\n",
        "  for i in range(-1,-5,-1):\n",
        "    temp=num2choose(keys[i],2*n,m)\n",
        "    temp=(2*n-len(temp))*'0' + temp\n",
        "    print(temp, round(gs[keys[i]],3))"
      ],
      "execution_count": null,
      "outputs": []
    },
    {
      "cell_type": "code",
      "metadata": {
        "id": "Y2Jc1azlylqQ"
      },
      "source": [
        "def magnetization(gs,n,m):\n",
        "  l=len(gs)\n",
        "  net_mag=0\n",
        "  for i in range(l):\n",
        "    state_mag=0\n",
        "    temp=num2choose(i,2*n,m)\n",
        "    temp=(2*n-len(temp))*'0' + temp\n",
        "\n",
        "    for j in range(2*n):\n",
        "      if j%2==0 and temp[j]=='1': state_mag+=1\n",
        "      elif j%2==1 and temp[j]=='1': state_mag-=1\n",
        "    net_mag+=(gs[i]**2)*np.abs(state_mag)\n",
        "  return net_mag"
      ],
      "execution_count": null,
      "outputs": []
    },
    {
      "cell_type": "code",
      "metadata": {
        "id": "sAek8wPWzbIF"
      },
      "source": [
        "def neel(gs,n,m):\n",
        "  l=len(gs)\n",
        "  net_mag=0\n",
        "  for i in range(l):\n",
        "    state_mag=0\n",
        "    temp=num2choose(i,2*n,m)\n",
        "    temp=(2*n-len(temp))*'0' + temp\n",
        "\n",
        "    for j in range(2*n):\n",
        "      phi=(-1)**(j//2)\n",
        "      if j%2==0 and temp[j]=='1': state_mag+=phi\n",
        "      elif j%2==1 and temp[j]=='1': state_mag-=phi\n",
        "\n",
        "    net_mag+=(gs[i]**2)*np.abs(state_mag)\n",
        "  return net_mag"
      ],
      "execution_count": null,
      "outputs": []
    },
    {
      "cell_type": "code",
      "metadata": {
        "id": "tvt1DcVpHXom"
      },
      "source": [
        "def pairing_order(gs,n,m):\n",
        "  "
      ],
      "execution_count": null,
      "outputs": []
    },
    {
      "cell_type": "code",
      "metadata": {
        "id": "jEuusICLJNDx"
      },
      "source": [
        "t=-1\n",
        "n=10 #no. of sites\n",
        "U=np.arange(17)\n",
        "m=np.arange(2,2*n,2)"
      ],
      "execution_count": null,
      "outputs": []
    },
    {
      "cell_type": "code",
      "metadata": {
        "id": "ke-F3epFGPvX"
      },
      "source": [
        "energies=np.zeros((17,n-1))\n",
        "mag=np.zeros((17,n-1))\n",
        "anti_mag=np.zeros((17,n-1))"
      ],
      "execution_count": null,
      "outputs": []
    },
    {
      "cell_type": "code",
      "metadata": {
        "colab": {
          "base_uri": "https://localhost:8080/"
        },
        "id": "HL52UPg4ZLAh",
        "outputId": "2b543bf6-b7f0-4f5a-9fe5-f593c3f6fbb1"
      },
      "source": [
        "U=1\n",
        "n=6\n",
        "m=8\n",
        "l,gs=Hubbard(t,U,n,m)\n",
        "print(neel(gs,n,m), magnetization(gs,n,m))\n",
        "most_stable_config(gs,n,m)"
      ],
      "execution_count": null,
      "outputs": [
        {
          "output_type": "stream",
          "text": [
            "U:  1   m:  8    0.06946301460266113\n",
            "1.5977734630130285 5.121339079824803e-30\n",
            "Most stable configurations:\n",
            "111001100111 0.146\n",
            "110110011011 0.146\n",
            "110011011011 0.142\n",
            "111001110011 0.142\n"
          ],
          "name": "stdout"
        }
      ]
    },
    {
      "cell_type": "code",
      "metadata": {
        "colab": {
          "base_uri": "https://localhost:8080/",
          "height": 1000
        },
        "id": "_ieUOOqY-kcU",
        "outputId": "0158cff0-ce5c-4b21-8756-adad5addcd1f"
      },
      "source": [
        "for i in range(17):\n",
        "  for j in range(n-1):\n",
        "    tm=time.time()\n",
        "    l,gs=Hubbard(t,U[i],n,m[j])\n",
        "    print(l, magnetization(gs,n,m[j]), neel(gs,n,m[j]), time.time()-tm)\n",
        "    energies[i,j]=l\n",
        "    mag[i,j]=magnetization(gs,n,m[j])\n",
        "    anti_mag[i,j]=neel(gs,n,m[j])"
      ],
      "execution_count": null,
      "outputs": [
        {
          "output_type": "stream",
          "text": [
            "U:  0   m:  2    0.019079923629760742\n",
            "[-3.83797189] 4.711417721500208e-31 1.953732314818879e-16 0.0809016227722168\n",
            "U:  0   m:  4    0.9835379123687744\n",
            "[-7.20298603] 7.444970559238662e-30 1.5685873601446347e-16 3.4273719787597656\n",
            "U:  0   m:  6    11.179311037063599\n",
            "[-9.82242896] 1.0582522593474085e-29 -5.534692708299669e-16 37.68216347694397\n",
            "U:  0   m:  8    26.127853870391846\n",
            "[-11.48408901] -2.243631130660805e-30 1.3139703335829974e-15 131.74454188346863\n",
            "U:  0   m:  10    31.945151567459106\n",
            "[-12.05334837] 3.180893505569224e-32 3.859578722741694e-15 208.00498342514038\n",
            "U:  0   m:  12    24.392521381378174\n",
            "[-11.48408901] 1.0774953034389777e-30 8.676755015121548e-16 147.28683495521545\n",
            "U:  0   m:  14    11.541495323181152\n",
            "[-9.82242896] -1.2972576120704154e-29 -5.412294862413314e-17 47.78472447395325\n",
            "U:  0   m:  16    1.0691771507263184\n",
            "[-7.20298603] 8.331147395972723e-29 -1.425797854618955e-16 5.065149545669556\n",
            "U:  0   m:  18    0.01842355728149414\n",
            "[-3.83797189] 2.582168491396942e-29 -2.226951262285226e-16 0.1301884651184082\n",
            "U:  1   m:  2    0.020822525024414062\n",
            "[-3.74398014] -4.97030415965545e-30 1.9103642279194588e-16 0.07277441024780273\n",
            "U:  1   m:  4    1.4824275970458984\n",
            "[-6.83470793] -6.618812026569903e-29 -5.456486819102574e-17 3.909360647201538\n",
            "U:  1   m:  6    13.6539945602417\n",
            "[-8.99813497] 4.459631345050858e-29 -8.117004499105685e-16 39.8561692237854\n",
            "U:  1   m:  8    32.358356952667236\n",
            "[-10.02082249] 4.0261861547405077e-29 -1.4067429752360074e-16 137.57880020141602\n",
            "U:  1   m:  10    44.54431676864624\n",
            "[-9.76627473] 4.9473337615373733e-29 -2.0829469500884886e-14 220.6302421092987\n",
            "U:  1   m:  12    33.40994310379028\n",
            "[-8.02082249] 2.2342129515041256e-28 2.687659062386754e-15 156.54577827453613\n",
            "U:  1   m:  14    13.300471544265747\n",
            "[-4.99813497] 3.7931332589122104e-28 6.342733187976499e-16 49.24540901184082\n",
            "U:  1   m:  16    1.4161136150360107\n",
            "[-0.83470793] -3.17305582763732e-30 7.005945991541389e-17 5.423222303390503\n",
            "U:  1   m:  18    0.02249002456665039\n",
            "[4.25601986] 1.595922555420273e-28 -1.962405932198763e-16 0.13534045219421387\n",
            "U:  2   m:  2    0.024834156036376953\n",
            "[-3.69905214] -9.340166305620724e-28 -3.0200451514583726e-16 0.07874083518981934\n",
            "U:  2   m:  4    1.2664282321929932\n",
            "[-6.59330826] 2.5766493534074255e-28 -1.7277090154016304e-16 3.695976734161377\n",
            "U:  2   m:  6    14.347118139266968\n",
            "[-8.38978726] -1.0430169999841775e-29 -1.0712918479393925e-15 40.45106363296509\n",
            "U:  2   m:  8    34.1854190826416\n",
            "[-8.87176357] -1.200717970013477e-30 -3.937984372277227e-15 138.75006675720215\n",
            "U:  2   m:  10    42.67955017089844\n",
            "[-7.90873603] 1.1261816759929993e-27 3.0516827359236883e-14 217.83082365989685\n",
            "U:  2   m:  12    36.34689903259277\n",
            "[-4.87176357] 4.534874259016277e-30 -1.1999920767865325e-15 158.85751056671143\n",
            "U:  2   m:  14    15.878079652786255\n",
            "[-0.38978726] -2.775630263530668e-29 -6.86193355645941e-17 51.997944355010986\n",
            "U:  2   m:  16    1.5359280109405518\n",
            "[5.40669174] -3.2689410564237695e-29 -2.5829807746147778e-17 5.621447801589966\n",
            "U:  2   m:  18    0.02277207374572754\n",
            "[12.30094786] -1.8152449543344487e-27 -4.2934406030425976e-17 0.13669896125793457\n",
            "U:  3   m:  2    0.023926258087158203\n",
            "[-3.67456665] -4.151490543019124e-27 -4.027811070783649e-17 0.07834863662719727\n",
            "U:  3   m:  4    1.4523015022277832\n",
            "[-6.4296819] 4.083285717916715e-28 -1.3089900238911653e-16 3.8762423992156982\n",
            "U:  3   m:  6    16.52127504348755\n",
            "[-7.93941814] -2.141571818574733e-29 1.094809950435923e-15 42.84682512283325\n",
            "U:  3   m:  8    39.81625533103943\n",
            "[-7.98463027] 1.3331989117484158e-28 -2.8070199212824145e-15 144.6345899105072\n",
            "U:  3   m:  10    54.88918423652649\n",
            "[-6.46703781] 8.726174920883096e-29 -1.4043095721744264e-13 231.14680242538452\n",
            "U:  3   m:  12    42.33813500404358\n",
            "[-1.98463027] 3.347869894952599e-29 7.92189698277251e-16 165.04578685760498\n",
            "U:  3   m:  14    16.636134147644043\n",
            "[4.06058186] -5.454512319430967e-29 -5.785115441514893e-16 52.82546353340149\n",
            "U:  3   m:  16    1.6649293899536133\n",
            "[11.5703181] 9.188300122894729e-28 3.009100480238415e-16 5.687480211257935\n",
            "U:  3   m:  18    0.025516986846923828\n",
            "[20.32543335] 4.463593816467005e-27 -8.982614999042404e-17 0.1418168544769287\n",
            "U:  4   m:  2    0.024391889572143555\n",
            "[-3.65957052] -8.898453201572761e-28 1.1880145305009915e-16 0.07757687568664551\n",
            "U:  4   m:  4    1.7376792430877686\n",
            "[-6.31438557] -1.042138574417854e-29 1.6978585739688355e-16 4.1538121700286865\n",
            "U:  4   m:  6    18.459187984466553\n",
            "[-7.60201576] -1.0971700807101635e-27 -2.4259265084961406e-15 44.728500843048096\n",
            "U:  4   m:  8    47.53878355026245\n",
            "[-7.30439658] -2.0896744076272706e-28 5.884897047381969e-15 152.59925293922424\n",
            "U:  4   m:  10    60.562437772750854\n",
            "[-5.38061882] 5.82029687721408e-31 -8.742767686549576e-17 237.15008878707886\n",
            "U:  4   m:  12    47.875550270080566\n",
            "[0.69560342] -1.896359670625007e-30 -2.6865930444994133e-15 171.09813976287842\n",
            "U:  4   m:  14    19.38340449333191\n",
            "[8.39798424] -3.582245110732111e-30 -8.062076051494026e-15 55.61069178581238\n",
            "U:  4   m:  16    1.9414033889770508\n",
            "[17.68561443] -7.80341965486953e-27 -8.672168185946472e-16 5.945462465286255\n",
            "U:  4   m:  18    0.026447296142578125\n",
            "[28.34042948] 6.322989467761283e-26 -5.458415837378272e-16 0.14217567443847656\n",
            "U:  5   m:  2    0.032143592834472656\n",
            "[-3.64955737] 1.1130394815463226e-27 2.607506224827638e-16 0.08710002899169922\n",
            "U:  5   m:  4    2.0619146823883057\n",
            "[-6.23004557] 5.125592563548558e-27 2.2693096324291227e-16 4.480011463165283\n",
            "U:  5   m:  6    19.329998254776\n",
            "[-7.34476592] 1.2248464722599694e-28 -2.58297528596941e-16 45.74230718612671\n",
            "U:  5   m:  8    50.640830993652344\n",
            "[-6.78056833] 7.380528979396263e-29 -1.5424189819995906e-14 156.04186511039734\n",
            "U:  5   m:  10    75.08925890922546\n",
            "[-4.56422588] 6.717608486100232e-28 -6.507279245808952e-14 251.07091808319092\n"
          ],
          "name": "stdout"
        },
        {
          "output_type": "error",
          "ename": "KeyboardInterrupt",
          "evalue": "ignored",
          "traceback": [
            "\u001b[0;31m---------------------------------------------------------------------------\u001b[0m",
            "\u001b[0;31mKeyboardInterrupt\u001b[0m                         Traceback (most recent call last)",
            "\u001b[0;32m<ipython-input-86-66a535673292>\u001b[0m in \u001b[0;36m<module>\u001b[0;34m()\u001b[0m\n\u001b[1;32m      2\u001b[0m   \u001b[0;32mfor\u001b[0m \u001b[0mj\u001b[0m \u001b[0;32min\u001b[0m \u001b[0mrange\u001b[0m\u001b[0;34m(\u001b[0m\u001b[0mn\u001b[0m\u001b[0;34m-\u001b[0m\u001b[0;36m1\u001b[0m\u001b[0;34m)\u001b[0m\u001b[0;34m:\u001b[0m\u001b[0;34m\u001b[0m\u001b[0;34m\u001b[0m\u001b[0m\n\u001b[1;32m      3\u001b[0m     \u001b[0mtm\u001b[0m\u001b[0;34m=\u001b[0m\u001b[0mtime\u001b[0m\u001b[0;34m.\u001b[0m\u001b[0mtime\u001b[0m\u001b[0;34m(\u001b[0m\u001b[0;34m)\u001b[0m\u001b[0;34m\u001b[0m\u001b[0;34m\u001b[0m\u001b[0m\n\u001b[0;32m----> 4\u001b[0;31m     \u001b[0ml\u001b[0m\u001b[0;34m,\u001b[0m\u001b[0mgs\u001b[0m\u001b[0;34m=\u001b[0m\u001b[0mHubbard\u001b[0m\u001b[0;34m(\u001b[0m\u001b[0mt\u001b[0m\u001b[0;34m,\u001b[0m\u001b[0mU\u001b[0m\u001b[0;34m[\u001b[0m\u001b[0mi\u001b[0m\u001b[0;34m]\u001b[0m\u001b[0;34m,\u001b[0m\u001b[0mn\u001b[0m\u001b[0;34m,\u001b[0m\u001b[0mm\u001b[0m\u001b[0;34m[\u001b[0m\u001b[0mj\u001b[0m\u001b[0;34m]\u001b[0m\u001b[0;34m)\u001b[0m\u001b[0;34m\u001b[0m\u001b[0;34m\u001b[0m\u001b[0m\n\u001b[0m\u001b[1;32m      5\u001b[0m     \u001b[0mprint\u001b[0m\u001b[0;34m(\u001b[0m\u001b[0ml\u001b[0m\u001b[0;34m,\u001b[0m \u001b[0mmagnetization\u001b[0m\u001b[0;34m(\u001b[0m\u001b[0mgs\u001b[0m\u001b[0;34m,\u001b[0m\u001b[0mn\u001b[0m\u001b[0;34m,\u001b[0m\u001b[0mm\u001b[0m\u001b[0;34m[\u001b[0m\u001b[0mj\u001b[0m\u001b[0;34m]\u001b[0m\u001b[0;34m)\u001b[0m\u001b[0;34m,\u001b[0m \u001b[0mneel\u001b[0m\u001b[0;34m(\u001b[0m\u001b[0mgs\u001b[0m\u001b[0;34m,\u001b[0m\u001b[0mn\u001b[0m\u001b[0;34m,\u001b[0m\u001b[0mm\u001b[0m\u001b[0;34m[\u001b[0m\u001b[0mj\u001b[0m\u001b[0;34m]\u001b[0m\u001b[0;34m)\u001b[0m\u001b[0;34m,\u001b[0m \u001b[0mtime\u001b[0m\u001b[0;34m.\u001b[0m\u001b[0mtime\u001b[0m\u001b[0;34m(\u001b[0m\u001b[0;34m)\u001b[0m\u001b[0;34m-\u001b[0m\u001b[0mtm\u001b[0m\u001b[0;34m)\u001b[0m\u001b[0;34m\u001b[0m\u001b[0;34m\u001b[0m\u001b[0m\n\u001b[1;32m      6\u001b[0m     \u001b[0menergies\u001b[0m\u001b[0;34m[\u001b[0m\u001b[0mi\u001b[0m\u001b[0;34m,\u001b[0m\u001b[0mj\u001b[0m\u001b[0;34m]\u001b[0m\u001b[0;34m=\u001b[0m\u001b[0ml\u001b[0m\u001b[0;34m\u001b[0m\u001b[0;34m\u001b[0m\u001b[0m\n",
            "\u001b[0;32m<ipython-input-80-ad84f52ae3e2>\u001b[0m in \u001b[0;36mHubbard\u001b[0;34m(t, U, n, m)\u001b[0m\n\u001b[1;32m      4\u001b[0m   \u001b[0mH\u001b[0m \u001b[0;34m=\u001b[0m \u001b[0mlil_matrix\u001b[0m\u001b[0;34m(\u001b[0m\u001b[0;34m(\u001b[0m\u001b[0mk\u001b[0m\u001b[0;34m,\u001b[0m\u001b[0mk\u001b[0m\u001b[0;34m)\u001b[0m\u001b[0;34m)\u001b[0m\u001b[0;34m\u001b[0m\u001b[0;34m\u001b[0m\u001b[0m\n\u001b[1;32m      5\u001b[0m   \u001b[0;31m#tm=time.time()\u001b[0m\u001b[0;34m\u001b[0m\u001b[0;34m\u001b[0m\u001b[0;34m\u001b[0m\u001b[0m\n\u001b[0;32m----> 6\u001b[0;31m   \u001b[0mH\u001b[0m\u001b[0;34m=\u001b[0m\u001b[0mHamiltonian\u001b[0m\u001b[0;34m(\u001b[0m\u001b[0mH\u001b[0m\u001b[0;34m,\u001b[0m\u001b[0mU\u001b[0m\u001b[0;34m,\u001b[0m\u001b[0mn\u001b[0m\u001b[0;34m,\u001b[0m\u001b[0mm\u001b[0m\u001b[0;34m)\u001b[0m\u001b[0;34m\u001b[0m\u001b[0;34m\u001b[0m\u001b[0m\n\u001b[0m\u001b[1;32m      7\u001b[0m   \u001b[0;31m#print(time.time()-tm)\u001b[0m\u001b[0;34m\u001b[0m\u001b[0;34m\u001b[0m\u001b[0;34m\u001b[0m\u001b[0m\n\u001b[1;32m      8\u001b[0m \u001b[0;34m\u001b[0m\u001b[0m\n",
            "\u001b[0;32m<ipython-input-79-2268e6393042>\u001b[0m in \u001b[0;36mHamiltonian\u001b[0;34m(H, U, n, m)\u001b[0m\n\u001b[1;32m      3\u001b[0m \u001b[0;34m\u001b[0m\u001b[0m\n\u001b[1;32m      4\u001b[0m   \u001b[0;32mfor\u001b[0m \u001b[0mi\u001b[0m \u001b[0;32min\u001b[0m \u001b[0mrange\u001b[0m\u001b[0;34m(\u001b[0m\u001b[0mk\u001b[0m\u001b[0;34m)\u001b[0m\u001b[0;34m:\u001b[0m\u001b[0;34m\u001b[0m\u001b[0;34m\u001b[0m\u001b[0m\n\u001b[0;32m----> 5\u001b[0;31m     \u001b[0mkey\u001b[0m\u001b[0;34m=\u001b[0m\u001b[0mnum2choose\u001b[0m\u001b[0;34m(\u001b[0m\u001b[0mi\u001b[0m\u001b[0;34m,\u001b[0m\u001b[0;36m2\u001b[0m\u001b[0;34m*\u001b[0m\u001b[0mn\u001b[0m\u001b[0;34m,\u001b[0m\u001b[0mm\u001b[0m\u001b[0;34m)\u001b[0m\u001b[0;34m\u001b[0m\u001b[0;34m\u001b[0m\u001b[0m\n\u001b[0m\u001b[1;32m      6\u001b[0m     \u001b[0mkey\u001b[0m\u001b[0;34m=\u001b[0m\u001b[0;34m(\u001b[0m\u001b[0;36m2\u001b[0m\u001b[0;34m*\u001b[0m\u001b[0mn\u001b[0m\u001b[0;34m-\u001b[0m\u001b[0mlen\u001b[0m\u001b[0;34m(\u001b[0m\u001b[0mkey\u001b[0m\u001b[0;34m)\u001b[0m\u001b[0;34m)\u001b[0m\u001b[0;34m*\u001b[0m\u001b[0;34m'0'\u001b[0m \u001b[0;34m+\u001b[0m \u001b[0mkey\u001b[0m \u001b[0;31m#Appending additional zeros in the beginning\u001b[0m\u001b[0;34m\u001b[0m\u001b[0;34m\u001b[0m\u001b[0m\n\u001b[1;32m      7\u001b[0m     \u001b[0;31m#print(i,key)\u001b[0m\u001b[0;34m\u001b[0m\u001b[0;34m\u001b[0m\u001b[0;34m\u001b[0m\u001b[0m\n",
            "\u001b[0;32m<ipython-input-66-780469a37daa>\u001b[0m in \u001b[0;36mnum2choose\u001b[0;34m(num, n, k)\u001b[0m\n\u001b[1;32m     21\u001b[0m         \u001b[0msum\u001b[0m \u001b[0;34m+=\u001b[0m \u001b[0mncr\u001b[0m\u001b[0;34m(\u001b[0m\u001b[0mn\u001b[0m\u001b[0;34m-\u001b[0m\u001b[0;36m1\u001b[0m\u001b[0;34m-\u001b[0m\u001b[0mthedigit\u001b[0m\u001b[0;34m,\u001b[0m\u001b[0mk\u001b[0m\u001b[0;34m-\u001b[0m\u001b[0;36m1\u001b[0m\u001b[0;34m)\u001b[0m\u001b[0;34m\u001b[0m\u001b[0;34m\u001b[0m\u001b[0m\n\u001b[1;32m     22\u001b[0m         \u001b[0;32mif\u001b[0m \u001b[0;34m(\u001b[0m\u001b[0mnum\u001b[0m \u001b[0;34m<\u001b[0m \u001b[0msum\u001b[0m\u001b[0;34m)\u001b[0m\u001b[0;34m:\u001b[0m\u001b[0;34m\u001b[0m\u001b[0;34m\u001b[0m\u001b[0m\n\u001b[0;32m---> 23\u001b[0;31m             \u001b[0;32mreturn\u001b[0m \u001b[0;34m'0'\u001b[0m\u001b[0;34m*\u001b[0m\u001b[0mthedigit\u001b[0m \u001b[0;34m+\u001b[0m \u001b[0;34m'1'\u001b[0m \u001b[0;34m+\u001b[0m \u001b[0mnum2choose\u001b[0m\u001b[0;34m(\u001b[0m\u001b[0mnum\u001b[0m\u001b[0;34m-\u001b[0m\u001b[0moldsum\u001b[0m\u001b[0;34m,\u001b[0m \u001b[0mn\u001b[0m\u001b[0;34m-\u001b[0m\u001b[0;34m(\u001b[0m\u001b[0mthedigit\u001b[0m\u001b[0;34m+\u001b[0m\u001b[0;36m1\u001b[0m\u001b[0;34m)\u001b[0m\u001b[0;34m,\u001b[0m\u001b[0mk\u001b[0m\u001b[0;34m-\u001b[0m\u001b[0;36m1\u001b[0m\u001b[0;34m)\u001b[0m\u001b[0;34m\u001b[0m\u001b[0;34m\u001b[0m\u001b[0m\n\u001b[0m",
            "\u001b[0;32m<ipython-input-66-780469a37daa>\u001b[0m in \u001b[0;36mnum2choose\u001b[0;34m(num, n, k)\u001b[0m\n\u001b[1;32m     21\u001b[0m         \u001b[0msum\u001b[0m \u001b[0;34m+=\u001b[0m \u001b[0mncr\u001b[0m\u001b[0;34m(\u001b[0m\u001b[0mn\u001b[0m\u001b[0;34m-\u001b[0m\u001b[0;36m1\u001b[0m\u001b[0;34m-\u001b[0m\u001b[0mthedigit\u001b[0m\u001b[0;34m,\u001b[0m\u001b[0mk\u001b[0m\u001b[0;34m-\u001b[0m\u001b[0;36m1\u001b[0m\u001b[0;34m)\u001b[0m\u001b[0;34m\u001b[0m\u001b[0;34m\u001b[0m\u001b[0m\n\u001b[1;32m     22\u001b[0m         \u001b[0;32mif\u001b[0m \u001b[0;34m(\u001b[0m\u001b[0mnum\u001b[0m \u001b[0;34m<\u001b[0m \u001b[0msum\u001b[0m\u001b[0;34m)\u001b[0m\u001b[0;34m:\u001b[0m\u001b[0;34m\u001b[0m\u001b[0;34m\u001b[0m\u001b[0m\n\u001b[0;32m---> 23\u001b[0;31m             \u001b[0;32mreturn\u001b[0m \u001b[0;34m'0'\u001b[0m\u001b[0;34m*\u001b[0m\u001b[0mthedigit\u001b[0m \u001b[0;34m+\u001b[0m \u001b[0;34m'1'\u001b[0m \u001b[0;34m+\u001b[0m \u001b[0mnum2choose\u001b[0m\u001b[0;34m(\u001b[0m\u001b[0mnum\u001b[0m\u001b[0;34m-\u001b[0m\u001b[0moldsum\u001b[0m\u001b[0;34m,\u001b[0m \u001b[0mn\u001b[0m\u001b[0;34m-\u001b[0m\u001b[0;34m(\u001b[0m\u001b[0mthedigit\u001b[0m\u001b[0;34m+\u001b[0m\u001b[0;36m1\u001b[0m\u001b[0;34m)\u001b[0m\u001b[0;34m,\u001b[0m\u001b[0mk\u001b[0m\u001b[0;34m-\u001b[0m\u001b[0;36m1\u001b[0m\u001b[0;34m)\u001b[0m\u001b[0;34m\u001b[0m\u001b[0;34m\u001b[0m\u001b[0m\n\u001b[0m",
            "\u001b[0;32m<ipython-input-66-780469a37daa>\u001b[0m in \u001b[0;36mnum2choose\u001b[0;34m(num, n, k)\u001b[0m\n\u001b[1;32m     21\u001b[0m         \u001b[0msum\u001b[0m \u001b[0;34m+=\u001b[0m \u001b[0mncr\u001b[0m\u001b[0;34m(\u001b[0m\u001b[0mn\u001b[0m\u001b[0;34m-\u001b[0m\u001b[0;36m1\u001b[0m\u001b[0;34m-\u001b[0m\u001b[0mthedigit\u001b[0m\u001b[0;34m,\u001b[0m\u001b[0mk\u001b[0m\u001b[0;34m-\u001b[0m\u001b[0;36m1\u001b[0m\u001b[0;34m)\u001b[0m\u001b[0;34m\u001b[0m\u001b[0;34m\u001b[0m\u001b[0m\n\u001b[1;32m     22\u001b[0m         \u001b[0;32mif\u001b[0m \u001b[0;34m(\u001b[0m\u001b[0mnum\u001b[0m \u001b[0;34m<\u001b[0m \u001b[0msum\u001b[0m\u001b[0;34m)\u001b[0m\u001b[0;34m:\u001b[0m\u001b[0;34m\u001b[0m\u001b[0;34m\u001b[0m\u001b[0m\n\u001b[0;32m---> 23\u001b[0;31m             \u001b[0;32mreturn\u001b[0m \u001b[0;34m'0'\u001b[0m\u001b[0;34m*\u001b[0m\u001b[0mthedigit\u001b[0m \u001b[0;34m+\u001b[0m \u001b[0;34m'1'\u001b[0m \u001b[0;34m+\u001b[0m \u001b[0mnum2choose\u001b[0m\u001b[0;34m(\u001b[0m\u001b[0mnum\u001b[0m\u001b[0;34m-\u001b[0m\u001b[0moldsum\u001b[0m\u001b[0;34m,\u001b[0m \u001b[0mn\u001b[0m\u001b[0;34m-\u001b[0m\u001b[0;34m(\u001b[0m\u001b[0mthedigit\u001b[0m\u001b[0;34m+\u001b[0m\u001b[0;36m1\u001b[0m\u001b[0;34m)\u001b[0m\u001b[0;34m,\u001b[0m\u001b[0mk\u001b[0m\u001b[0;34m-\u001b[0m\u001b[0;36m1\u001b[0m\u001b[0;34m)\u001b[0m\u001b[0;34m\u001b[0m\u001b[0;34m\u001b[0m\u001b[0m\n\u001b[0m",
            "\u001b[0;32m<ipython-input-66-780469a37daa>\u001b[0m in \u001b[0;36mnum2choose\u001b[0;34m(num, n, k)\u001b[0m\n\u001b[1;32m     21\u001b[0m         \u001b[0msum\u001b[0m \u001b[0;34m+=\u001b[0m \u001b[0mncr\u001b[0m\u001b[0;34m(\u001b[0m\u001b[0mn\u001b[0m\u001b[0;34m-\u001b[0m\u001b[0;36m1\u001b[0m\u001b[0;34m-\u001b[0m\u001b[0mthedigit\u001b[0m\u001b[0;34m,\u001b[0m\u001b[0mk\u001b[0m\u001b[0;34m-\u001b[0m\u001b[0;36m1\u001b[0m\u001b[0;34m)\u001b[0m\u001b[0;34m\u001b[0m\u001b[0;34m\u001b[0m\u001b[0m\n\u001b[1;32m     22\u001b[0m         \u001b[0;32mif\u001b[0m \u001b[0;34m(\u001b[0m\u001b[0mnum\u001b[0m \u001b[0;34m<\u001b[0m \u001b[0msum\u001b[0m\u001b[0;34m)\u001b[0m\u001b[0;34m:\u001b[0m\u001b[0;34m\u001b[0m\u001b[0;34m\u001b[0m\u001b[0m\n\u001b[0;32m---> 23\u001b[0;31m             \u001b[0;32mreturn\u001b[0m \u001b[0;34m'0'\u001b[0m\u001b[0;34m*\u001b[0m\u001b[0mthedigit\u001b[0m \u001b[0;34m+\u001b[0m \u001b[0;34m'1'\u001b[0m \u001b[0;34m+\u001b[0m \u001b[0mnum2choose\u001b[0m\u001b[0;34m(\u001b[0m\u001b[0mnum\u001b[0m\u001b[0;34m-\u001b[0m\u001b[0moldsum\u001b[0m\u001b[0;34m,\u001b[0m \u001b[0mn\u001b[0m\u001b[0;34m-\u001b[0m\u001b[0;34m(\u001b[0m\u001b[0mthedigit\u001b[0m\u001b[0;34m+\u001b[0m\u001b[0;36m1\u001b[0m\u001b[0;34m)\u001b[0m\u001b[0;34m,\u001b[0m\u001b[0mk\u001b[0m\u001b[0;34m-\u001b[0m\u001b[0;36m1\u001b[0m\u001b[0;34m)\u001b[0m\u001b[0;34m\u001b[0m\u001b[0;34m\u001b[0m\u001b[0m\n\u001b[0m",
            "\u001b[0;32m<ipython-input-66-780469a37daa>\u001b[0m in \u001b[0;36mnum2choose\u001b[0;34m(num, n, k)\u001b[0m\n\u001b[1;32m     21\u001b[0m         \u001b[0msum\u001b[0m \u001b[0;34m+=\u001b[0m \u001b[0mncr\u001b[0m\u001b[0;34m(\u001b[0m\u001b[0mn\u001b[0m\u001b[0;34m-\u001b[0m\u001b[0;36m1\u001b[0m\u001b[0;34m-\u001b[0m\u001b[0mthedigit\u001b[0m\u001b[0;34m,\u001b[0m\u001b[0mk\u001b[0m\u001b[0;34m-\u001b[0m\u001b[0;36m1\u001b[0m\u001b[0;34m)\u001b[0m\u001b[0;34m\u001b[0m\u001b[0;34m\u001b[0m\u001b[0m\n\u001b[1;32m     22\u001b[0m         \u001b[0;32mif\u001b[0m \u001b[0;34m(\u001b[0m\u001b[0mnum\u001b[0m \u001b[0;34m<\u001b[0m \u001b[0msum\u001b[0m\u001b[0;34m)\u001b[0m\u001b[0;34m:\u001b[0m\u001b[0;34m\u001b[0m\u001b[0;34m\u001b[0m\u001b[0m\n\u001b[0;32m---> 23\u001b[0;31m             \u001b[0;32mreturn\u001b[0m \u001b[0;34m'0'\u001b[0m\u001b[0;34m*\u001b[0m\u001b[0mthedigit\u001b[0m \u001b[0;34m+\u001b[0m \u001b[0;34m'1'\u001b[0m \u001b[0;34m+\u001b[0m \u001b[0mnum2choose\u001b[0m\u001b[0;34m(\u001b[0m\u001b[0mnum\u001b[0m\u001b[0;34m-\u001b[0m\u001b[0moldsum\u001b[0m\u001b[0;34m,\u001b[0m \u001b[0mn\u001b[0m\u001b[0;34m-\u001b[0m\u001b[0;34m(\u001b[0m\u001b[0mthedigit\u001b[0m\u001b[0;34m+\u001b[0m\u001b[0;36m1\u001b[0m\u001b[0;34m)\u001b[0m\u001b[0;34m,\u001b[0m\u001b[0mk\u001b[0m\u001b[0;34m-\u001b[0m\u001b[0;36m1\u001b[0m\u001b[0;34m)\u001b[0m\u001b[0;34m\u001b[0m\u001b[0;34m\u001b[0m\u001b[0m\n\u001b[0m",
            "\u001b[0;32m<ipython-input-66-780469a37daa>\u001b[0m in \u001b[0;36mnum2choose\u001b[0;34m(num, n, k)\u001b[0m\n\u001b[1;32m     21\u001b[0m         \u001b[0msum\u001b[0m \u001b[0;34m+=\u001b[0m \u001b[0mncr\u001b[0m\u001b[0;34m(\u001b[0m\u001b[0mn\u001b[0m\u001b[0;34m-\u001b[0m\u001b[0;36m1\u001b[0m\u001b[0;34m-\u001b[0m\u001b[0mthedigit\u001b[0m\u001b[0;34m,\u001b[0m\u001b[0mk\u001b[0m\u001b[0;34m-\u001b[0m\u001b[0;36m1\u001b[0m\u001b[0;34m)\u001b[0m\u001b[0;34m\u001b[0m\u001b[0;34m\u001b[0m\u001b[0m\n\u001b[1;32m     22\u001b[0m         \u001b[0;32mif\u001b[0m \u001b[0;34m(\u001b[0m\u001b[0mnum\u001b[0m \u001b[0;34m<\u001b[0m \u001b[0msum\u001b[0m\u001b[0;34m)\u001b[0m\u001b[0;34m:\u001b[0m\u001b[0;34m\u001b[0m\u001b[0;34m\u001b[0m\u001b[0m\n\u001b[0;32m---> 23\u001b[0;31m             \u001b[0;32mreturn\u001b[0m \u001b[0;34m'0'\u001b[0m\u001b[0;34m*\u001b[0m\u001b[0mthedigit\u001b[0m \u001b[0;34m+\u001b[0m \u001b[0;34m'1'\u001b[0m \u001b[0;34m+\u001b[0m \u001b[0mnum2choose\u001b[0m\u001b[0;34m(\u001b[0m\u001b[0mnum\u001b[0m\u001b[0;34m-\u001b[0m\u001b[0moldsum\u001b[0m\u001b[0;34m,\u001b[0m \u001b[0mn\u001b[0m\u001b[0;34m-\u001b[0m\u001b[0;34m(\u001b[0m\u001b[0mthedigit\u001b[0m\u001b[0;34m+\u001b[0m\u001b[0;36m1\u001b[0m\u001b[0;34m)\u001b[0m\u001b[0;34m,\u001b[0m\u001b[0mk\u001b[0m\u001b[0;34m-\u001b[0m\u001b[0;36m1\u001b[0m\u001b[0;34m)\u001b[0m\u001b[0;34m\u001b[0m\u001b[0;34m\u001b[0m\u001b[0m\n\u001b[0m",
            "\u001b[0;32m<ipython-input-66-780469a37daa>\u001b[0m in \u001b[0;36mnum2choose\u001b[0;34m(num, n, k)\u001b[0m\n\u001b[1;32m     21\u001b[0m         \u001b[0msum\u001b[0m \u001b[0;34m+=\u001b[0m \u001b[0mncr\u001b[0m\u001b[0;34m(\u001b[0m\u001b[0mn\u001b[0m\u001b[0;34m-\u001b[0m\u001b[0;36m1\u001b[0m\u001b[0;34m-\u001b[0m\u001b[0mthedigit\u001b[0m\u001b[0;34m,\u001b[0m\u001b[0mk\u001b[0m\u001b[0;34m-\u001b[0m\u001b[0;36m1\u001b[0m\u001b[0;34m)\u001b[0m\u001b[0;34m\u001b[0m\u001b[0;34m\u001b[0m\u001b[0m\n\u001b[1;32m     22\u001b[0m         \u001b[0;32mif\u001b[0m \u001b[0;34m(\u001b[0m\u001b[0mnum\u001b[0m \u001b[0;34m<\u001b[0m \u001b[0msum\u001b[0m\u001b[0;34m)\u001b[0m\u001b[0;34m:\u001b[0m\u001b[0;34m\u001b[0m\u001b[0;34m\u001b[0m\u001b[0m\n\u001b[0;32m---> 23\u001b[0;31m             \u001b[0;32mreturn\u001b[0m \u001b[0;34m'0'\u001b[0m\u001b[0;34m*\u001b[0m\u001b[0mthedigit\u001b[0m \u001b[0;34m+\u001b[0m \u001b[0;34m'1'\u001b[0m \u001b[0;34m+\u001b[0m \u001b[0mnum2choose\u001b[0m\u001b[0;34m(\u001b[0m\u001b[0mnum\u001b[0m\u001b[0;34m-\u001b[0m\u001b[0moldsum\u001b[0m\u001b[0;34m,\u001b[0m \u001b[0mn\u001b[0m\u001b[0;34m-\u001b[0m\u001b[0;34m(\u001b[0m\u001b[0mthedigit\u001b[0m\u001b[0;34m+\u001b[0m\u001b[0;36m1\u001b[0m\u001b[0;34m)\u001b[0m\u001b[0;34m,\u001b[0m\u001b[0mk\u001b[0m\u001b[0;34m-\u001b[0m\u001b[0;36m1\u001b[0m\u001b[0;34m)\u001b[0m\u001b[0;34m\u001b[0m\u001b[0;34m\u001b[0m\u001b[0m\n\u001b[0m",
            "\u001b[0;32m<ipython-input-66-780469a37daa>\u001b[0m in \u001b[0;36mnum2choose\u001b[0;34m(num, n, k)\u001b[0m\n\u001b[1;32m     21\u001b[0m         \u001b[0msum\u001b[0m \u001b[0;34m+=\u001b[0m \u001b[0mncr\u001b[0m\u001b[0;34m(\u001b[0m\u001b[0mn\u001b[0m\u001b[0;34m-\u001b[0m\u001b[0;36m1\u001b[0m\u001b[0;34m-\u001b[0m\u001b[0mthedigit\u001b[0m\u001b[0;34m,\u001b[0m\u001b[0mk\u001b[0m\u001b[0;34m-\u001b[0m\u001b[0;36m1\u001b[0m\u001b[0;34m)\u001b[0m\u001b[0;34m\u001b[0m\u001b[0;34m\u001b[0m\u001b[0m\n\u001b[1;32m     22\u001b[0m         \u001b[0;32mif\u001b[0m \u001b[0;34m(\u001b[0m\u001b[0mnum\u001b[0m \u001b[0;34m<\u001b[0m \u001b[0msum\u001b[0m\u001b[0;34m)\u001b[0m\u001b[0;34m:\u001b[0m\u001b[0;34m\u001b[0m\u001b[0;34m\u001b[0m\u001b[0m\n\u001b[0;32m---> 23\u001b[0;31m             \u001b[0;32mreturn\u001b[0m \u001b[0;34m'0'\u001b[0m\u001b[0;34m*\u001b[0m\u001b[0mthedigit\u001b[0m \u001b[0;34m+\u001b[0m \u001b[0;34m'1'\u001b[0m \u001b[0;34m+\u001b[0m \u001b[0mnum2choose\u001b[0m\u001b[0;34m(\u001b[0m\u001b[0mnum\u001b[0m\u001b[0;34m-\u001b[0m\u001b[0moldsum\u001b[0m\u001b[0;34m,\u001b[0m \u001b[0mn\u001b[0m\u001b[0;34m-\u001b[0m\u001b[0;34m(\u001b[0m\u001b[0mthedigit\u001b[0m\u001b[0;34m+\u001b[0m\u001b[0;36m1\u001b[0m\u001b[0;34m)\u001b[0m\u001b[0;34m,\u001b[0m\u001b[0mk\u001b[0m\u001b[0;34m-\u001b[0m\u001b[0;36m1\u001b[0m\u001b[0;34m)\u001b[0m\u001b[0;34m\u001b[0m\u001b[0;34m\u001b[0m\u001b[0m\n\u001b[0m",
            "\u001b[0;32m<ipython-input-66-780469a37daa>\u001b[0m in \u001b[0;36mnum2choose\u001b[0;34m(num, n, k)\u001b[0m\n\u001b[1;32m     21\u001b[0m         \u001b[0msum\u001b[0m \u001b[0;34m+=\u001b[0m \u001b[0mncr\u001b[0m\u001b[0;34m(\u001b[0m\u001b[0mn\u001b[0m\u001b[0;34m-\u001b[0m\u001b[0;36m1\u001b[0m\u001b[0;34m-\u001b[0m\u001b[0mthedigit\u001b[0m\u001b[0;34m,\u001b[0m\u001b[0mk\u001b[0m\u001b[0;34m-\u001b[0m\u001b[0;36m1\u001b[0m\u001b[0;34m)\u001b[0m\u001b[0;34m\u001b[0m\u001b[0;34m\u001b[0m\u001b[0m\n\u001b[1;32m     22\u001b[0m         \u001b[0;32mif\u001b[0m \u001b[0;34m(\u001b[0m\u001b[0mnum\u001b[0m \u001b[0;34m<\u001b[0m \u001b[0msum\u001b[0m\u001b[0;34m)\u001b[0m\u001b[0;34m:\u001b[0m\u001b[0;34m\u001b[0m\u001b[0;34m\u001b[0m\u001b[0m\n\u001b[0;32m---> 23\u001b[0;31m             \u001b[0;32mreturn\u001b[0m \u001b[0;34m'0'\u001b[0m\u001b[0;34m*\u001b[0m\u001b[0mthedigit\u001b[0m \u001b[0;34m+\u001b[0m \u001b[0;34m'1'\u001b[0m \u001b[0;34m+\u001b[0m \u001b[0mnum2choose\u001b[0m\u001b[0;34m(\u001b[0m\u001b[0mnum\u001b[0m\u001b[0;34m-\u001b[0m\u001b[0moldsum\u001b[0m\u001b[0;34m,\u001b[0m \u001b[0mn\u001b[0m\u001b[0;34m-\u001b[0m\u001b[0;34m(\u001b[0m\u001b[0mthedigit\u001b[0m\u001b[0;34m+\u001b[0m\u001b[0;36m1\u001b[0m\u001b[0;34m)\u001b[0m\u001b[0;34m,\u001b[0m\u001b[0mk\u001b[0m\u001b[0;34m-\u001b[0m\u001b[0;36m1\u001b[0m\u001b[0;34m)\u001b[0m\u001b[0;34m\u001b[0m\u001b[0;34m\u001b[0m\u001b[0m\n\u001b[0m",
            "\u001b[0;32m<ipython-input-66-780469a37daa>\u001b[0m in \u001b[0;36mnum2choose\u001b[0;34m(num, n, k)\u001b[0m\n\u001b[1;32m     19\u001b[0m     \u001b[0;32mfor\u001b[0m \u001b[0mthedigit\u001b[0m \u001b[0;32min\u001b[0m \u001b[0mrange\u001b[0m\u001b[0;34m(\u001b[0m\u001b[0mn\u001b[0m\u001b[0;34m-\u001b[0m\u001b[0mk\u001b[0m\u001b[0;34m+\u001b[0m\u001b[0;36m1\u001b[0m\u001b[0;34m)\u001b[0m\u001b[0;34m:\u001b[0m\u001b[0;34m\u001b[0m\u001b[0;34m\u001b[0m\u001b[0m\n\u001b[1;32m     20\u001b[0m         \u001b[0moldsum\u001b[0m \u001b[0;34m=\u001b[0m \u001b[0msum\u001b[0m\u001b[0;34m\u001b[0m\u001b[0;34m\u001b[0m\u001b[0m\n\u001b[0;32m---> 21\u001b[0;31m         \u001b[0msum\u001b[0m \u001b[0;34m+=\u001b[0m \u001b[0mncr\u001b[0m\u001b[0;34m(\u001b[0m\u001b[0mn\u001b[0m\u001b[0;34m-\u001b[0m\u001b[0;36m1\u001b[0m\u001b[0;34m-\u001b[0m\u001b[0mthedigit\u001b[0m\u001b[0;34m,\u001b[0m\u001b[0mk\u001b[0m\u001b[0;34m-\u001b[0m\u001b[0;36m1\u001b[0m\u001b[0;34m)\u001b[0m\u001b[0;34m\u001b[0m\u001b[0;34m\u001b[0m\u001b[0m\n\u001b[0m\u001b[1;32m     22\u001b[0m         \u001b[0;32mif\u001b[0m \u001b[0;34m(\u001b[0m\u001b[0mnum\u001b[0m \u001b[0;34m<\u001b[0m \u001b[0msum\u001b[0m\u001b[0;34m)\u001b[0m\u001b[0;34m:\u001b[0m\u001b[0;34m\u001b[0m\u001b[0;34m\u001b[0m\u001b[0m\n\u001b[1;32m     23\u001b[0m             \u001b[0;32mreturn\u001b[0m \u001b[0;34m'0'\u001b[0m\u001b[0;34m*\u001b[0m\u001b[0mthedigit\u001b[0m \u001b[0;34m+\u001b[0m \u001b[0;34m'1'\u001b[0m \u001b[0;34m+\u001b[0m \u001b[0mnum2choose\u001b[0m\u001b[0;34m(\u001b[0m\u001b[0mnum\u001b[0m\u001b[0;34m-\u001b[0m\u001b[0moldsum\u001b[0m\u001b[0;34m,\u001b[0m \u001b[0mn\u001b[0m\u001b[0;34m-\u001b[0m\u001b[0;34m(\u001b[0m\u001b[0mthedigit\u001b[0m\u001b[0;34m+\u001b[0m\u001b[0;36m1\u001b[0m\u001b[0;34m)\u001b[0m\u001b[0;34m,\u001b[0m\u001b[0mk\u001b[0m\u001b[0;34m-\u001b[0m\u001b[0;36m1\u001b[0m\u001b[0;34m)\u001b[0m\u001b[0;34m\u001b[0m\u001b[0;34m\u001b[0m\u001b[0m\n",
            "\u001b[0;32m<ipython-input-64-9a8489e081a9>\u001b[0m in \u001b[0;36mncr\u001b[0;34m(n, r)\u001b[0m\n\u001b[1;32m      1\u001b[0m \u001b[0;32mdef\u001b[0m \u001b[0mncr\u001b[0m\u001b[0;34m(\u001b[0m\u001b[0mn\u001b[0m\u001b[0;34m,\u001b[0m \u001b[0mr\u001b[0m\u001b[0;34m)\u001b[0m\u001b[0;34m:\u001b[0m\u001b[0;34m\u001b[0m\u001b[0;34m\u001b[0m\u001b[0m\n\u001b[0;32m----> 2\u001b[0;31m     \u001b[0mr\u001b[0m \u001b[0;34m=\u001b[0m \u001b[0mmin\u001b[0m\u001b[0;34m(\u001b[0m\u001b[0mr\u001b[0m\u001b[0;34m,\u001b[0m \u001b[0mn\u001b[0m\u001b[0;34m-\u001b[0m\u001b[0mr\u001b[0m\u001b[0;34m)\u001b[0m\u001b[0;34m\u001b[0m\u001b[0;34m\u001b[0m\u001b[0m\n\u001b[0m\u001b[1;32m      3\u001b[0m     \u001b[0mnumer\u001b[0m \u001b[0;34m=\u001b[0m \u001b[0mreduce\u001b[0m\u001b[0;34m(\u001b[0m\u001b[0mop\u001b[0m\u001b[0;34m.\u001b[0m\u001b[0mmul\u001b[0m\u001b[0;34m,\u001b[0m \u001b[0mrange\u001b[0m\u001b[0;34m(\u001b[0m\u001b[0mn\u001b[0m\u001b[0;34m,\u001b[0m \u001b[0mn\u001b[0m\u001b[0;34m-\u001b[0m\u001b[0mr\u001b[0m\u001b[0;34m,\u001b[0m \u001b[0;34m-\u001b[0m\u001b[0;36m1\u001b[0m\u001b[0;34m)\u001b[0m\u001b[0;34m,\u001b[0m \u001b[0;36m1\u001b[0m\u001b[0;34m)\u001b[0m\u001b[0;34m\u001b[0m\u001b[0;34m\u001b[0m\u001b[0m\n\u001b[1;32m      4\u001b[0m     \u001b[0mdenom\u001b[0m \u001b[0;34m=\u001b[0m \u001b[0mreduce\u001b[0m\u001b[0;34m(\u001b[0m\u001b[0mop\u001b[0m\u001b[0;34m.\u001b[0m\u001b[0mmul\u001b[0m\u001b[0;34m,\u001b[0m \u001b[0mrange\u001b[0m\u001b[0;34m(\u001b[0m\u001b[0;36m1\u001b[0m\u001b[0;34m,\u001b[0m \u001b[0mr\u001b[0m\u001b[0;34m+\u001b[0m\u001b[0;36m1\u001b[0m\u001b[0;34m)\u001b[0m\u001b[0;34m,\u001b[0m \u001b[0;36m1\u001b[0m\u001b[0;34m)\u001b[0m\u001b[0;34m\u001b[0m\u001b[0;34m\u001b[0m\u001b[0m\n\u001b[1;32m      5\u001b[0m     \u001b[0;32mreturn\u001b[0m \u001b[0mnumer\u001b[0m \u001b[0;34m//\u001b[0m \u001b[0mdenom\u001b[0m  \u001b[0;31m# or / in Python 2\u001b[0m\u001b[0;34m\u001b[0m\u001b[0;34m\u001b[0m\u001b[0m\n",
            "\u001b[0;31mKeyboardInterrupt\u001b[0m: "
          ]
        }
      ]
    },
    {
      "cell_type": "code",
      "metadata": {
        "colab": {
          "base_uri": "https://localhost:8080/",
          "height": 293
        },
        "id": "zw_nQA2KH3nC",
        "outputId": "964707b5-d502-46e0-e3b7-eb3356f5e8e9"
      },
      "source": [
        "plt.imshow(anti_mag)\n",
        "plt.colorbar()"
      ],
      "execution_count": null,
      "outputs": [
        {
          "output_type": "execute_result",
          "data": {
            "text/plain": [
              "<matplotlib.colorbar.Colorbar at 0x7f49c39a2e90>"
            ]
          },
          "metadata": {
            "tags": []
          },
          "execution_count": 90
        },
        {
          "output_type": "display_data",
          "data": {
            "image/png": "[encoded data removed]",
            "text/plain": [
              "<Figure size 432x288 with 2 Axes>"
            ]
          },
          "metadata": {
            "tags": [],
            "needs_background": "light"
          }
        }
      ]
    },
    {
      "cell_type": "code",
      "metadata": {
        "id": "Uv4CXB2XYSvx"
      },
      "source": [
        ""
      ],
      "execution_count": null,
      "outputs": []
    }
  ]
}