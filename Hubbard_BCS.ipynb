{
  "nbformat": 4,
  "nbformat_minor": 0,
  "metadata": {
    "colab": {
      "name": "Hubbard: BCS",
      "provenance": [],
      "collapsed_sections": []
    },
    "kernelspec": {
      "display_name": "Python 3",
      "name": "python3"
    }
  },
  "cells": [
    {
      "cell_type": "markdown",
      "metadata": {
        "id": "SGpnXiooFAw6"
      },
      "source": [
        "## QAOA"
      ]
    },
    {
      "cell_type": "code",
      "metadata": {
        "id": "HkqL5bwr2VGy",
        "colab": {
          "base_uri": "https://localhost:8080/"
        },
        "outputId": "0678c66a-ffd7-4eaf-f7fa-3ab6714009d5"
      },
      "source": [
        "!pip install cirq"
      ],
      "execution_count": null,
      "outputs": [
        {
          "output_type": "stream",
          "text": [
            "Collecting cirq\n",
            "\u001b[?25l  Downloading https://files.pythonhosted.org/packages/18/05/39c24828744b91f658fd1e5d105a9d168da43698cfaec006179c7646c71c/cirq-0.9.1-py3-none-any.whl (1.6MB)\n",
            "\u001b[K     |████████████████████████████████| 1.6MB 6.1MB/s \n",
            "\u001b[?25hRequirement already satisfied: pandas in /usr/local/lib/python3.6/dist-packages (from cirq) (1.1.5)\n",
            "Requirement already satisfied: protobuf~=3.12.0 in /usr/local/lib/python3.6/dist-packages (from cirq) (3.12.4)\n",
            "Requirement already satisfied: requests~=2.18 in /usr/local/lib/python3.6/dist-packages (from cirq) (2.23.0)\n",
            "Requirement already satisfied: sortedcontainers~=2.0 in /usr/local/lib/python3.6/dist-packages (from cirq) (2.3.0)\n",
            "Requirement already satisfied: typing-extensions in /usr/local/lib/python3.6/dist-packages (from cirq) (3.7.4.3)\n",
            "Collecting freezegun~=0.3.15\n",
            "  Downloading https://files.pythonhosted.org/packages/17/5d/1b9d6d3c7995fff473f35861d674e0113a5f0bd5a72fe0199c3f254665c7/freezegun-0.3.15-py2.py3-none-any.whl\n",
            "Requirement already satisfied: matplotlib~=3.0 in /usr/local/lib/python3.6/dist-packages (from cirq) (3.2.2)\n",
            "Requirement already satisfied: scipy in /usr/local/lib/python3.6/dist-packages (from cirq) (1.4.1)\n",
            "Requirement already satisfied: sympy in /usr/local/lib/python3.6/dist-packages (from cirq) (1.1.1)\n",
            "Requirement already satisfied: dataclasses; python_version < \"3.7\" in /usr/local/lib/python3.6/dist-packages (from cirq) (0.8)\n",
            "Requirement already satisfied: google-api-core[grpc]<2.0.0dev,>=1.14.0 in /usr/local/lib/python3.6/dist-packages (from cirq) (1.16.0)\n",
            "Requirement already satisfied: networkx~=2.4 in /usr/local/lib/python3.6/dist-packages (from cirq) (2.5)\n",
            "Requirement already satisfied: numpy~=1.16 in /usr/local/lib/python3.6/dist-packages (from cirq) (1.19.4)\n",
            "Requirement already satisfied: python-dateutil>=2.7.3 in /usr/local/lib/python3.6/dist-packages (from pandas->cirq) (2.8.1)\n",
            "Requirement already satisfied: pytz>=2017.2 in /usr/local/lib/python3.6/dist-packages (from pandas->cirq) (2018.9)\n",
            "Requirement already satisfied: setuptools in /usr/local/lib/python3.6/dist-packages (from protobuf~=3.12.0->cirq) (51.0.0)\n",
            "Requirement already satisfied: six>=1.9 in /usr/local/lib/python3.6/dist-packages (from protobuf~=3.12.0->cirq) (1.15.0)\n",
            "Requirement already satisfied: chardet<4,>=3.0.2 in /usr/local/lib/python3.6/dist-packages (from requests~=2.18->cirq) (3.0.4)\n",
            "Requirement already satisfied: certifi>=2017.4.17 in /usr/local/lib/python3.6/dist-packages (from requests~=2.18->cirq) (2020.12.5)\n",
            "Requirement already satisfied: urllib3!=1.25.0,!=1.25.1,<1.26,>=1.21.1 in /usr/local/lib/python3.6/dist-packages (from requests~=2.18->cirq) (1.24.3)\n",
            "Requirement already satisfied: idna<3,>=2.5 in /usr/local/lib/python3.6/dist-packages (from requests~=2.18->cirq) (2.10)\n",
            "Requirement already satisfied: kiwisolver>=1.0.1 in /usr/local/lib/python3.6/dist-packages (from matplotlib~=3.0->cirq) (1.3.1)\n",
            "Requirement already satisfied: pyparsing!=2.0.4,!=2.1.2,!=2.1.6,>=2.0.1 in /usr/local/lib/python3.6/dist-packages (from matplotlib~=3.0->cirq) (2.4.7)\n",
            "Requirement already satisfied: cycler>=0.10 in /usr/local/lib/python3.6/dist-packages (from matplotlib~=3.0->cirq) (0.10.0)\n",
            "Requirement already satisfied: mpmath>=0.19 in /usr/local/lib/python3.6/dist-packages (from sympy->cirq) (1.1.0)\n",
            "Requirement already satisfied: googleapis-common-protos<2.0dev,>=1.6.0 in /usr/local/lib/python3.6/dist-packages (from google-api-core[grpc]<2.0.0dev,>=1.14.0->cirq) (1.52.0)\n",
            "Requirement already satisfied: google-auth<2.0dev,>=0.4.0 in /usr/local/lib/python3.6/dist-packages (from google-api-core[grpc]<2.0.0dev,>=1.14.0->cirq) (1.17.2)\n",
            "Requirement already satisfied: grpcio<2.0dev,>=1.8.2; extra == \"grpc\" in /usr/local/lib/python3.6/dist-packages (from google-api-core[grpc]<2.0.0dev,>=1.14.0->cirq) (1.32.0)\n",
            "Requirement already satisfied: decorator>=4.3.0 in /usr/local/lib/python3.6/dist-packages (from networkx~=2.4->cirq) (4.4.2)\n",
            "Requirement already satisfied: pyasn1-modules>=0.2.1 in /usr/local/lib/python3.6/dist-packages (from google-auth<2.0dev,>=0.4.0->google-api-core[grpc]<2.0.0dev,>=1.14.0->cirq) (0.2.8)\n",
            "Requirement already satisfied: cachetools<5.0,>=2.0.0 in /usr/local/lib/python3.6/dist-packages (from google-auth<2.0dev,>=0.4.0->google-api-core[grpc]<2.0.0dev,>=1.14.0->cirq) (4.2.0)\n",
            "Requirement already satisfied: rsa<5,>=3.1.4; python_version >= \"3\" in /usr/local/lib/python3.6/dist-packages (from google-auth<2.0dev,>=0.4.0->google-api-core[grpc]<2.0.0dev,>=1.14.0->cirq) (4.6)\n",
            "Requirement already satisfied: pyasn1<0.5.0,>=0.4.6 in /usr/local/lib/python3.6/dist-packages (from pyasn1-modules>=0.2.1->google-auth<2.0dev,>=0.4.0->google-api-core[grpc]<2.0.0dev,>=1.14.0->cirq) (0.4.8)\n",
            "Installing collected packages: freezegun, cirq\n",
            "Successfully installed cirq-0.9.1 freezegun-0.3.15\n"
          ],
          "name": "stdout"
        }
      ]
    },
    {
      "cell_type": "code",
      "metadata": {
        "id": "C_0igU0Da9YF"
      },
      "source": [
        "import numpy as np\n",
        "import matplotlib.pyplot as plt\n",
        "import itertools\n",
        "import scipy.optimize\n",
        "import cirq\n",
        "from cirq.contrib.svg import SVGCircuit"
      ],
      "execution_count": null,
      "outputs": []
    },
    {
      "cell_type": "code",
      "metadata": {
        "id": "lIYdn1woOS1n"
      },
      "source": [
        "def fswap(p, q):\n",
        "    \"\"\"Decompose the Fermionic SWAP gate into two single-qubit gates and\n",
        "    one iSWAP gate.\n",
        "    Args:\n",
        "        p: the id of the first qubit\n",
        "        q: the id of the second qubit\n",
        "    \"\"\"\n",
        "\n",
        "    yield cirq.ISWAP(q, p), cirq.Z(p) ** 1.5\n",
        "    yield cirq.Z(q) ** 1.5\n",
        "\n",
        "\n",
        "def bogoliubov_trans(p, q, theta):\n",
        "    r\"\"\"The 2-mode Bogoliubov transformation is mapped to two-qubit operations.\n",
        "     We use the identity X S^\\dag X S X = Y X S^\\dag Y S X = X to transform\n",
        "     the Hamiltonian XY+YX to XX+YY type. The time evolution of the XX + YY\n",
        "     Hamiltonian can be expressed as a power of the iSWAP gate.\n",
        "    Args:\n",
        "        p: the first qubit\n",
        "        q: the second qubit\n",
        "        theta: The rotational angle that specifies the Bogoliubov\n",
        "        transformation, which is a function of the kinetic energy and\n",
        "        the superconducting gap.\n",
        "    \"\"\"\n",
        "\n",
        "    # The iSWAP gate corresponds to evolve under the Hamiltonian XX+YY for\n",
        "    # time -pi/4.\n",
        "    expo = -4 * theta / np.pi\n",
        "\n",
        "    yield cirq.X(p)\n",
        "    yield cirq.S(p)\n",
        "    yield cirq.ISWAP(p, q)**expo\n",
        "    yield cirq.S(p) ** 1.5\n",
        "    yield cirq.X(p)\n",
        "\n",
        "\n",
        "def fermi_fourier_trans_2(p, q):\n",
        "    \"\"\"The 2-mode fermionic Fourier transformation can be implemented\n",
        "    straightforwardly by the √iSWAP gate. The √iSWAP gate can be readily\n",
        "    implemented with the gmon qubits using the XX + YY Hamiltonian. The matrix\n",
        "    representation of the 2-qubit fermionic Fourier transformation is:\n",
        "    [1  0      0      0],\n",
        "    [0  1/√2   1/√2   0],\n",
        "    [0  1/√2  -1/√2   0],\n",
        "    [0  0      0     -1]\n",
        "    The square root of the iSWAP gate is:\n",
        "    [1, 0, 0, 0],\n",
        "    [0, 0.5 + 0.5j, 0.5 - 0.5j, 0],\n",
        "    [0, 0.5 - 0.5j, 0.5 + 0.5j, 0],\n",
        "    [0, 0, 0, 1]\n",
        "    Args:\n",
        "        p: the first qubit\n",
        "        q: the second qubit\n",
        "    \"\"\"\n",
        "\n",
        "    yield cirq.Z(p)**1.5\n",
        "    yield cirq.ISWAP(q, p)**0.5\n",
        "    yield cirq.Z(p)**1.5\n",
        "\n",
        "\n",
        "def fermi_fourier_trans_inverse_4(qubits):\n",
        "    \"\"\"The reverse fermionic Fourier transformation implemented on 4 qubits\n",
        "    on a line, which maps the momentum picture to the position picture.\n",
        "    Using the fast Fourier transformation algorithm, the circuit can be\n",
        "    decomposed into 2-mode fermionic Fourier transformation, the fermionic\n",
        "    SWAP gates, and single-qubit rotations.\n",
        "    Args:\n",
        "        qubits: list of four qubits\n",
        "    \"\"\"\n",
        "\n",
        "    yield fswap(qubits[1], qubits[2]),\n",
        "    yield fermi_fourier_trans_2(qubits[0], qubits[1])\n",
        "    yield fermi_fourier_trans_2(qubits[2], qubits[3])\n",
        "    yield fswap(qubits[1], qubits[2])\n",
        "    yield fermi_fourier_trans_2(qubits[0], qubits[1])\n",
        "    yield cirq.S(qubits[2])\n",
        "    yield fermi_fourier_trans_2(qubits[2], qubits[3])\n",
        "    yield fswap(qubits[1], qubits[2])\n",
        "\n",
        "\n",
        "def fermi_fourier_trans_inverse_conjugate_4(qubits):\n",
        "    \"\"\"We will need to map the momentum states in the reversed order for\n",
        "    spin-down states to the position picture. This transformation can be\n",
        "    simply implemented the complex conjugate of the former one. We only\n",
        "    need to change the S gate to S* = S ** 3.\n",
        "    Args:\n",
        "        qubits: list of four qubits\n",
        "    \"\"\"\n",
        "\n",
        "    yield fswap(qubits[1], qubits[2]),\n",
        "    yield fermi_fourier_trans_2(qubits[0], qubits[1])\n",
        "    yield fermi_fourier_trans_2(qubits[2], qubits[3])\n",
        "    yield fswap(qubits[1], qubits[2])\n",
        "    yield fermi_fourier_trans_2(qubits[0], qubits[1])\n",
        "    yield cirq.S(qubits[2]) ** 3\n",
        "    yield fermi_fourier_trans_2(qubits[2], qubits[3])\n",
        "    yield fswap(qubits[1], qubits[2])\n",
        "\n",
        "def bcs_parameters(n_site, n_fermi, u, t) :\n",
        "    \"\"\"Generate the parameters for the BCS ground state, i.e., the\n",
        "    superconducting gap and the rotational angles in the Bogoliubov\n",
        "    transformation.\n",
        "     Args:\n",
        "        n_site: the number of sites in the Hubbard model\n",
        "        n_fermi: the number of fermions\n",
        "        u: the interaction strength\n",
        "        t: the tunneling strength\n",
        "    Returns:\n",
        "        float delta, List[float] bog_theta\n",
        "    \"\"\"\n",
        "\n",
        "    # The wave numbers satisfy the periodic boundary condition.\n",
        "    wave_num = np.linspace(0, 1, n_site, endpoint=False)\n",
        "    # The hopping energy as a function of wave numbers\n",
        "    hop_erg = -2 * t * np.cos(2 * np.pi * wave_num)\n",
        "    # Finding the Fermi energy\n",
        "    fermi_erg = hop_erg[n_fermi // 2]\n",
        "    # Set the Fermi energy to zero\n",
        "    hop_erg = hop_erg - fermi_erg\n",
        "\n",
        "    def _bcs_gap(x):\n",
        "        \"\"\"Defines the self-consistent equation for the BCS state vector.\n",
        "        Args:\n",
        "            x: the superconducting gap\n",
        "        \"\"\"\n",
        "\n",
        "        s = 0.\n",
        "        for i in range(n_site):\n",
        "            s += 1. / np.sqrt(hop_erg[i] ** 2 + x ** 2)\n",
        "        return 1 + s * u / (2 * n_site)\n",
        "\n",
        "    # Superconducting gap\n",
        "    delta = scipy.optimize.bisect(_bcs_gap, 0.01, 10000. * abs(u))\n",
        "    # The amplitude of the double excitation state\n",
        "    bcs_v = np.sqrt(0.5 * (1 - hop_erg / np.sqrt(hop_erg ** 2 + delta ** 2)))\n",
        "    # The rotational angle in the Bogoliubov transformation.\n",
        "    bog_theta = np.arcsin(bcs_v)\n",
        "\n",
        "    return delta, bog_theta\n"
      ],
      "execution_count": null,
      "outputs": []
    },
    {
      "cell_type": "code",
      "metadata": {
        "id": "FVLjXSYb4GYY",
        "colab": {
          "base_uri": "https://localhost:8080/"
        },
        "outputId": "374d2ac8-5094-48e4-ecb0-fc4d0d737a97"
      },
      "source": [
        "# Number of sites in the Fermi-Hubbard model (2*n_site spin orbitals)\n",
        "n_site = 4\n",
        "# Number of fermions\n",
        "n_fermi = 4\n",
        "# Hopping strength between neighboring sites\n",
        "t = 1.\n",
        "# On-site interaction strength. It has to be negative (attractive) for the\n",
        "# BCS theory to work.\n",
        "u = -4.\n",
        "# Calculate the superconducting gap and the angles for BCS\n",
        "delta, bog_theta = bcs_parameters(n_site, n_fermi, u, t)\n",
        "# Initializing the qubits on a ladder\n",
        "\n",
        "print('Quantum circuits to prepare the BCS meanfield state.')\n",
        "print('Number of sites = ', n_site)\n",
        "print('Number of fermions = ', n_fermi)\n",
        "print('Tunneling strength = ', t)\n",
        "print('On-site interaction strength = ', u)\n",
        "print('Superconducting gap = ', delta, '\\n')\n",
        "\n",
        "upper_qubits = [cirq.GridQubit(0, i) for i in range(n_fermi)]\n",
        "lower_qubits = [cirq.GridQubit(1, i) for i in range(n_fermi)]\n",
        "\n",
        "bog_circuit = cirq.Circuit(\n",
        "    bogoliubov_trans(upper_qubits[i], lower_qubits[i], bog_theta[i])\n",
        "    for i in range(n_site))\n",
        "\n",
        "# The inverse fermionic Fourier transformation on the spin-up states\n",
        "fourier_circuit_spin_up = cirq.Circuit(\n",
        "    fermi_fourier_trans_inverse_4(upper_qubits),\n",
        "    strategy=cirq.InsertStrategy.EARLIEST)\n",
        "\n",
        "# The inverse fermionic Fourier transformation on the spin-down states\n",
        "fourier_circuit_spin_down = cirq.Circuit(\n",
        "    fermi_fourier_trans_inverse_conjugate_4(lower_qubits),\n",
        "    strategy=cirq.InsertStrategy.EARLIEST)"
      ],
      "execution_count": null,
      "outputs": [
        {
          "output_type": "stream",
          "text": [
            "Quantum circuits to prepare the BCS meanfield state.\n",
            "Number of sites =  4\n",
            "Number of fermions =  4\n",
            "Tunneling strength =  1.0\n",
            "On-site interaction strength =  -4.0\n",
            "Superconducting gap =  1.1261371093950703 \n",
            "\n"
          ],
          "name": "stdout"
        }
      ]
    },
    {
      "cell_type": "code",
      "metadata": {
        "id": "mgJFXMq31cgE"
      },
      "source": [
        "def State_Prep():\n",
        "  '''The BCS ground state is prepared in the site basis by first preparing the\n",
        "  ground state in the momentum basis and then applying the 2D Fourier\n",
        "  transformation to the two spin states independently. The ground state in the\n",
        "  momentum basis can be prepared by applying a Bogoliubov transformation to the \n",
        "  vacuum state. \n",
        "  '''\n",
        "  circuit = cirq.Circuit()\n",
        "\n",
        "  bog_circuit = cirq.Circuit(\n",
        "    bogoliubov_trans(upper_qubits[i], lower_qubits[i], bog_theta[i])\n",
        "    for i in range(n_site))\n",
        "\n",
        "  # The inverse fermionic Fourier transformation on the spin-up states\n",
        "  fourier_circuit_spin_up = cirq.Circuit(\n",
        "      fermi_fourier_trans_inverse_4(upper_qubits),\n",
        "      strategy=cirq.InsertStrategy.EARLIEST)\n",
        "\n",
        "  # The inverse fermionic Fourier transformation on the spin-down states\n",
        "  fourier_circuit_spin_down = cirq.Circuit(\n",
        "      fermi_fourier_trans_inverse_conjugate_4(lower_qubits),\n",
        "      strategy=cirq.InsertStrategy.EARLIEST)\n",
        "\n",
        "  circuit.append(bog_circuit)\n",
        "  circuit.append(fourier_circuit_spin_up)\n",
        "  circuit.append(fourier_circuit_spin_down)\n",
        "\n",
        "  return circuit\n",
        "\n",
        "def H_FH(dt):\n",
        "  #Fermi-Hubbard Hamiltonian time evolution\n",
        "  circuit = cirq.Circuit()\n",
        "  circuit.append(hopping())\n",
        "  circuit.append(interaction())\n",
        "  circuit.append(chem_pot())\n",
        "  circuit.append(zeeman())\n",
        "  return circuit\n",
        "\n",
        "def H_DW(dt):\n",
        "  #d-wave Hamiltonian time evolution\n",
        "  circuit = cirq.Circuit()\n",
        "  circuit.append(hopping())\n",
        "  circuit.append(chem_pot())\n",
        "  circuit.append(pairing())\n",
        "  return circuit"
      ],
      "execution_count": null,
      "outputs": []
    },
    {
      "cell_type": "code",
      "metadata": {
        "colab": {
          "base_uri": "https://localhost:8080/",
          "height": 498
        },
        "id": "e5TonwlW5Daa",
        "outputId": "baa497f3-c0fb-45dd-b282-2ee673b8e746"
      },
      "source": [
        "SVGCircuit(State_Prep())"
      ],
      "execution_count": null,
      "outputs": [
        {
          "output_type": "stream",
          "text": [
            "findfont: Font family ['Arial'] not found. Falling back to DejaVu Sans.\n"
          ],
          "name": "stderr"
        },
        {
          "output_type": "execute_result",
          "data": {
            "text/plain": [
              "<cirq.contrib.svg.svg.SVGCircuit at 0x7f9b04bca1d0>"
            ],
            "image/svg+xml": "<svg xmlns=\"http://www.w3.org/2000/svg\" width=\"2747.2623828124993\" height=\"440.0\"><line x1=\"34.7588671875\" x2=\"2717.2623828124993\" y1=\"45.0\" y2=\"45.0\" stroke=\"#1967d2\" stroke-width=\"1\" /><line x1=\"34.7588671875\" x2=\"2717.2623828124993\" y1=\"95.0\" y2=\"95.0\" stroke=\"#1967d2\" stroke-width=\"1\" /><line x1=\"34.7588671875\" x2=\"2717.2623828124993\" y1=\"145.0\" y2=\"145.0\" stroke=\"#1967d2\" stroke-width=\"1\" /><line x1=\"34.7588671875\" x2=\"2717.2623828124993\" y1=\"195.0\" y2=\"195.0\" stroke=\"#1967d2\" stroke-width=\"1\" /><line x1=\"34.7588671875\" x2=\"2717.2623828124993\" y1=\"245.0\" y2=\"245.0\" stroke=\"#1967d2\" stroke-width=\"1\" /><line x1=\"34.7588671875\" x2=\"2717.2623828124993\" y1=\"295.0\" y2=\"295.0\" stroke=\"#1967d2\" stroke-width=\"1\" /><line x1=\"34.7588671875\" x2=\"2717.2623828124993\" y1=\"345.0\" y2=\"345.0\" stroke=\"#1967d2\" stroke-width=\"1\" /><line x1=\"34.7588671875\" x2=\"2717.2623828124993\" y1=\"395.0\" y2=\"395.0\" stroke=\"#1967d2\" stroke-width=\"1\" /><line x1=\"189.517734375\" x2=\"565.4757421875\" y1=\"5.0\" y2=\"5.0\" stroke=\"black\" stroke-width=\"1\" /><line x1=\"189.517734375\" x2=\"565.4757421875\" y1=\"435.0\" y2=\"435.0\" stroke=\"black\" stroke-width=\"1\" /><line x1=\"237.98048828125002\" x2=\"237.98048828125002\" y1=\"45.0\" y2=\"245.0\" stroke=\"black\" stroke-width=\"3\" /><line x1=\"335.00880859375\" x2=\"335.00880859375\" y1=\"95.0\" y2=\"295.0\" stroke=\"black\" stroke-width=\"3\" /><line x1=\"420.9594921875\" x2=\"420.9594921875\" y1=\"145.0\" y2=\"345.0\" stroke=\"black\" stroke-width=\"3\" /><line x1=\"506.91017578125\" x2=\"506.91017578125\" y1=\"195.0\" y2=\"395.0\" stroke=\"black\" stroke-width=\"3\" /><line x1=\"750.92076171875\" x2=\"750.92076171875\" y1=\"95.0\" y2=\"145.0\" stroke=\"black\" stroke-width=\"3\" /><line x1=\"899.65861328125\" x2=\"899.65861328125\" y1=\"45.0\" y2=\"95.0\" stroke=\"black\" stroke-width=\"3\" /><line x1=\"1002.8045117187501\" x2=\"1002.8045117187501\" y1=\"145.0\" y2=\"195.0\" stroke=\"black\" stroke-width=\"3\" /><line x1=\"1151.54236328125\" x2=\"1151.54236328125\" y1=\"95.0\" y2=\"145.0\" stroke=\"black\" stroke-width=\"3\" /><line x1=\"1300.2802148437497\" x2=\"1300.2802148437497\" y1=\"45.0\" y2=\"95.0\" stroke=\"black\" stroke-width=\"3\" /><line x1=\"1465.7866210937495\" x2=\"1465.7866210937495\" y1=\"145.0\" y2=\"195.0\" stroke=\"black\" stroke-width=\"3\" /><line x1=\"1614.5244726562494\" x2=\"1614.5244726562494\" y1=\"95.0\" y2=\"145.0\" stroke=\"black\" stroke-width=\"3\" /><line x1=\"1746.4937695312492\" x2=\"1746.4937695312492\" y1=\"295.0\" y2=\"345.0\" stroke=\"black\" stroke-width=\"3\" /><line x1=\"1895.231621093749\" x2=\"1895.231621093749\" y1=\"245.0\" y2=\"295.0\" stroke=\"black\" stroke-width=\"3\" /><line x1=\"1998.377519531249\" x2=\"1998.377519531249\" y1=\"345.0\" y2=\"395.0\" stroke=\"black\" stroke-width=\"3\" /><line x1=\"2147.115371093749\" x2=\"2147.115371093749\" y1=\"295.0\" y2=\"345.0\" stroke=\"black\" stroke-width=\"3\" /><line x1=\"2295.8532226562493\" x2=\"2295.8532226562493\" y1=\"245.0\" y2=\"295.0\" stroke=\"black\" stroke-width=\"3\" /><line x1=\"2461.3596289062493\" x2=\"2461.3596289062493\" y1=\"345.0\" y2=\"395.0\" stroke=\"black\" stroke-width=\"3\" /><line x1=\"2610.0974804687494\" x2=\"2610.0974804687494\" y1=\"295.0\" y2=\"345.0\" stroke=\"black\" stroke-width=\"3\" /><line x1=\"189.517734375\" x2=\"189.517734375\" y1=\"5.0\" y2=\"15.0\" stroke=\"black\" stroke-width=\"3\" /><line x1=\"565.4757421875\" x2=\"565.4757421875\" y1=\"5.0\" y2=\"15.0\" stroke=\"black\" stroke-width=\"3\" /><line x1=\"189.517734375\" x2=\"189.517734375\" y1=\"425.0\" y2=\"435.0\" stroke=\"black\" stroke-width=\"3\" /><line x1=\"565.4757421875\" x2=\"565.4757421875\" y1=\"425.0\" y2=\"435.0\" stroke=\"black\" stroke-width=\"3\" /><rect x=\"10.0\" y=\"25.0\" width=\"49.517734375\" height=\"40\" stroke=\"black\" fill=\"white\" stroke-width=\"0\" /><text x=\"34.7588671875\" y=\"45.0\" dominant-baseline=\"middle\" text-anchor=\"middle\" font-size=\"14px\" font-family=\"Arial\">(0, 0): </text><rect x=\"10.0\" y=\"75.0\" width=\"49.517734375\" height=\"40\" stroke=\"black\" fill=\"white\" stroke-width=\"0\" /><text x=\"34.7588671875\" y=\"95.0\" dominant-baseline=\"middle\" text-anchor=\"middle\" font-size=\"14px\" font-family=\"Arial\">(0, 1): </text><rect x=\"10.0\" y=\"125.0\" width=\"49.517734375\" height=\"40\" stroke=\"black\" fill=\"white\" stroke-width=\"0\" /><text x=\"34.7588671875\" y=\"145.0\" dominant-baseline=\"middle\" text-anchor=\"middle\" font-size=\"14px\" font-family=\"Arial\">(0, 2): </text><rect x=\"10.0\" y=\"175.0\" width=\"49.517734375\" height=\"40\" stroke=\"black\" fill=\"white\" stroke-width=\"0\" /><text x=\"34.7588671875\" y=\"195.0\" dominant-baseline=\"middle\" text-anchor=\"middle\" font-size=\"14px\" font-family=\"Arial\">(0, 3): </text><rect x=\"10.0\" y=\"225.0\" width=\"49.517734375\" height=\"40\" stroke=\"black\" fill=\"white\" stroke-width=\"0\" /><text x=\"34.7588671875\" y=\"245.0\" dominant-baseline=\"middle\" text-anchor=\"middle\" font-size=\"14px\" font-family=\"Arial\">(1, 0): </text><rect x=\"10.0\" y=\"275.0\" width=\"49.517734375\" height=\"40\" stroke=\"black\" fill=\"white\" stroke-width=\"0\" /><text x=\"34.7588671875\" y=\"295.0\" dominant-baseline=\"middle\" text-anchor=\"middle\" font-size=\"14px\" font-family=\"Arial\">(1, 1): </text><rect x=\"10.0\" y=\"325.0\" width=\"49.517734375\" height=\"40\" stroke=\"black\" fill=\"white\" stroke-width=\"0\" /><text x=\"34.7588671875\" y=\"345.0\" dominant-baseline=\"middle\" text-anchor=\"middle\" font-size=\"14px\" font-family=\"Arial\">(1, 2): </text><rect x=\"10.0\" y=\"375.0\" width=\"49.517734375\" height=\"40\" stroke=\"black\" fill=\"white\" stroke-width=\"0\" /><text x=\"34.7588671875\" y=\"395.0\" dominant-baseline=\"middle\" text-anchor=\"middle\" font-size=\"14px\" font-family=\"Arial\">(1, 3): </text><rect x=\"79.517734375\" y=\"25.0\" width=\"40\" height=\"40\" stroke=\"black\" fill=\"white\" stroke-width=\"1\" /><text x=\"99.517734375\" y=\"45.0\" dominant-baseline=\"middle\" text-anchor=\"middle\" font-size=\"18px\" font-family=\"Arial\">X</text><rect x=\"79.517734375\" y=\"75.0\" width=\"40\" height=\"40\" stroke=\"black\" fill=\"white\" stroke-width=\"1\" /><text x=\"99.517734375\" y=\"95.0\" dominant-baseline=\"middle\" text-anchor=\"middle\" font-size=\"18px\" font-family=\"Arial\">X</text><rect x=\"79.517734375\" y=\"125.0\" width=\"40\" height=\"40\" stroke=\"black\" fill=\"white\" stroke-width=\"1\" /><text x=\"99.517734375\" y=\"145.0\" dominant-baseline=\"middle\" text-anchor=\"middle\" font-size=\"18px\" font-family=\"Arial\">X</text><rect x=\"79.517734375\" y=\"175.0\" width=\"40\" height=\"40\" stroke=\"black\" fill=\"white\" stroke-width=\"1\" /><text x=\"99.517734375\" y=\"195.0\" dominant-baseline=\"middle\" text-anchor=\"middle\" font-size=\"18px\" font-family=\"Arial\">X</text><rect x=\"139.517734375\" y=\"25.0\" width=\"40\" height=\"40\" stroke=\"black\" fill=\"white\" stroke-width=\"1\" /><text x=\"159.517734375\" y=\"45.0\" dominant-baseline=\"middle\" text-anchor=\"middle\" font-size=\"18px\" font-family=\"Arial\">S</text><rect x=\"139.517734375\" y=\"75.0\" width=\"40\" height=\"40\" stroke=\"black\" fill=\"white\" stroke-width=\"1\" /><text x=\"159.517734375\" y=\"95.0\" dominant-baseline=\"middle\" text-anchor=\"middle\" font-size=\"18px\" font-family=\"Arial\">S</text><rect x=\"139.517734375\" y=\"125.0\" width=\"40\" height=\"40\" stroke=\"black\" fill=\"white\" stroke-width=\"1\" /><text x=\"159.517734375\" y=\"145.0\" dominant-baseline=\"middle\" text-anchor=\"middle\" font-size=\"18px\" font-family=\"Arial\">S</text><rect x=\"139.517734375\" y=\"175.0\" width=\"40\" height=\"40\" stroke=\"black\" fill=\"white\" stroke-width=\"1\" /><text x=\"159.517734375\" y=\"195.0\" dominant-baseline=\"middle\" text-anchor=\"middle\" font-size=\"18px\" font-family=\"Arial\">S</text><rect x=\"189.51773437500003\" y=\"25.0\" width=\"96.9255078125\" height=\"40\" stroke=\"black\" fill=\"white\" stroke-width=\"1\" /><text x=\"237.98048828125002\" y=\"45.0\" dominant-baseline=\"middle\" text-anchor=\"middle\" font-size=\"14px\" font-family=\"Arial\">iSwap</text><rect x=\"189.51773437500003\" y=\"225.0\" width=\"96.9255078125\" height=\"40\" stroke=\"black\" fill=\"white\" stroke-width=\"1\" /><text x=\"237.98048828125002\" y=\"245.0\" dominant-baseline=\"middle\" text-anchor=\"middle\" font-size=\"14px\" font-family=\"Arial\">iSwap^-1.82</text><rect x=\"286.4432421875\" y=\"75.0\" width=\"97.13113281250001\" height=\"40\" stroke=\"black\" fill=\"white\" stroke-width=\"1\" /><text x=\"335.00880859375\" y=\"95.0\" dominant-baseline=\"middle\" text-anchor=\"middle\" font-size=\"14px\" font-family=\"Arial\">iSwap</text><rect x=\"286.4432421875\" y=\"275.0\" width=\"97.13113281250001\" height=\"40\" stroke=\"black\" fill=\"white\" stroke-width=\"1\" /><text x=\"335.00880859375\" y=\"295.0\" dominant-baseline=\"middle\" text-anchor=\"middle\" font-size=\"14px\" font-family=\"Arial\">iSwap^-1.67</text><rect x=\"383.57437500000003\" y=\"125.0\" width=\"74.770234375\" height=\"40\" stroke=\"black\" fill=\"white\" stroke-width=\"1\" /><text x=\"420.9594921875\" y=\"145.0\" dominant-baseline=\"middle\" text-anchor=\"middle\" font-size=\"14px\" font-family=\"Arial\">iSwap</text><rect x=\"383.57437500000003\" y=\"325.0\" width=\"74.770234375\" height=\"40\" stroke=\"black\" fill=\"white\" stroke-width=\"1\" /><text x=\"420.9594921875\" y=\"345.0\" dominant-baseline=\"middle\" text-anchor=\"middle\" font-size=\"14px\" font-family=\"Arial\">iSwap^-1</text><rect x=\"458.344609375\" y=\"175.0\" width=\"97.13113281250001\" height=\"40\" stroke=\"black\" fill=\"white\" stroke-width=\"1\" /><text x=\"506.91017578125\" y=\"195.0\" dominant-baseline=\"middle\" text-anchor=\"middle\" font-size=\"14px\" font-family=\"Arial\">iSwap</text><rect x=\"458.344609375\" y=\"375.0\" width=\"97.13113281250001\" height=\"40\" stroke=\"black\" fill=\"white\" stroke-width=\"1\" /><text x=\"506.91017578125\" y=\"395.0\" dominant-baseline=\"middle\" text-anchor=\"middle\" font-size=\"14px\" font-family=\"Arial\">iSwap^-1.67</text><rect x=\"585.4757421875\" y=\"25.0\" width=\"60.640625\" height=\"40\" stroke=\"black\" fill=\"white\" stroke-width=\"1\" /><text x=\"615.7960546875\" y=\"45.0\" dominant-baseline=\"middle\" text-anchor=\"middle\" font-size=\"14px\" font-family=\"Arial\">Z^0.75</text><rect x=\"585.4757421875\" y=\"75.0\" width=\"60.640625\" height=\"40\" stroke=\"black\" fill=\"white\" stroke-width=\"1\" /><text x=\"615.7960546875\" y=\"95.0\" dominant-baseline=\"middle\" text-anchor=\"middle\" font-size=\"14px\" font-family=\"Arial\">Z^0.75</text><rect x=\"585.4757421875\" y=\"125.0\" width=\"60.640625\" height=\"40\" stroke=\"black\" fill=\"white\" stroke-width=\"1\" /><text x=\"615.7960546875\" y=\"145.0\" dominant-baseline=\"middle\" text-anchor=\"middle\" font-size=\"14px\" font-family=\"Arial\">Z^0.75</text><rect x=\"585.4757421875\" y=\"175.0\" width=\"60.640625\" height=\"40\" stroke=\"black\" fill=\"white\" stroke-width=\"1\" /><text x=\"615.7960546875\" y=\"195.0\" dominant-baseline=\"middle\" text-anchor=\"middle\" font-size=\"14px\" font-family=\"Arial\">Z^0.75</text><rect x=\"666.1163671875\" y=\"25.0\" width=\"40\" height=\"40\" stroke=\"black\" fill=\"white\" stroke-width=\"1\" /><text x=\"686.1163671875\" y=\"45.0\" dominant-baseline=\"middle\" text-anchor=\"middle\" font-size=\"18px\" font-family=\"Arial\">X</text><rect x=\"666.1163671875\" y=\"75.0\" width=\"40\" height=\"40\" stroke=\"black\" fill=\"white\" stroke-width=\"1\" /><text x=\"686.1163671875\" y=\"95.0\" dominant-baseline=\"middle\" text-anchor=\"middle\" font-size=\"18px\" font-family=\"Arial\">X</text><rect x=\"666.1163671875\" y=\"125.0\" width=\"40\" height=\"40\" stroke=\"black\" fill=\"white\" stroke-width=\"1\" /><text x=\"686.1163671875\" y=\"145.0\" dominant-baseline=\"middle\" text-anchor=\"middle\" font-size=\"18px\" font-family=\"Arial\">X</text><rect x=\"666.1163671875\" y=\"175.0\" width=\"40\" height=\"40\" stroke=\"black\" fill=\"white\" stroke-width=\"1\" /><text x=\"686.1163671875\" y=\"195.0\" dominant-baseline=\"middle\" text-anchor=\"middle\" font-size=\"18px\" font-family=\"Arial\">X</text><rect x=\"726.1163671875\" y=\"125.0\" width=\"49.608789062499994\" height=\"40\" stroke=\"black\" fill=\"white\" stroke-width=\"1\" /><text x=\"750.92076171875\" y=\"145.0\" dominant-baseline=\"middle\" text-anchor=\"middle\" font-size=\"14px\" font-family=\"Arial\">iSwap</text><rect x=\"726.1163671875\" y=\"75.0\" width=\"49.608789062499994\" height=\"40\" stroke=\"black\" fill=\"white\" stroke-width=\"1\" /><text x=\"750.92076171875\" y=\"95.0\" dominant-baseline=\"middle\" text-anchor=\"middle\" font-size=\"14px\" font-family=\"Arial\">iSwap</text><rect x=\"726.1163671875\" y=\"25.0\" width=\"49.608789062499994\" height=\"40\" stroke=\"black\" fill=\"white\" stroke-width=\"1\" /><text x=\"750.92076171875\" y=\"45.0\" dominant-baseline=\"middle\" text-anchor=\"middle\" font-size=\"14px\" font-family=\"Arial\">S^-1</text><rect x=\"795.72515625\" y=\"75.0\" width=\"42.3605078125\" height=\"40\" stroke=\"black\" fill=\"white\" stroke-width=\"1\" /><text x=\"816.90541015625\" y=\"95.0\" dominant-baseline=\"middle\" text-anchor=\"middle\" font-size=\"14px\" font-family=\"Arial\">S^-1</text><rect x=\"795.72515625\" y=\"125.0\" width=\"42.3605078125\" height=\"40\" stroke=\"black\" fill=\"white\" stroke-width=\"1\" /><text x=\"816.90541015625\" y=\"145.0\" dominant-baseline=\"middle\" text-anchor=\"middle\" font-size=\"14px\" font-family=\"Arial\">S^-1</text><rect x=\"858.0856640625001\" y=\"75.0\" width=\"83.14589843750001\" height=\"40\" stroke=\"black\" fill=\"white\" stroke-width=\"1\" /><text x=\"899.65861328125\" y=\"95.0\" dominant-baseline=\"middle\" text-anchor=\"middle\" font-size=\"14px\" font-family=\"Arial\">iSwap^0.5</text><rect x=\"858.0856640625001\" y=\"25.0\" width=\"83.14589843750001\" height=\"40\" stroke=\"black\" fill=\"white\" stroke-width=\"1\" /><text x=\"899.65861328125\" y=\"45.0\" dominant-baseline=\"middle\" text-anchor=\"middle\" font-size=\"14px\" font-family=\"Arial\">iSwap</text><rect x=\"858.0856640625001\" y=\"125.0\" width=\"83.14589843750001\" height=\"40\" stroke=\"black\" fill=\"white\" stroke-width=\"1\" /><text x=\"899.65861328125\" y=\"145.0\" dominant-baseline=\"middle\" text-anchor=\"middle\" font-size=\"14px\" font-family=\"Arial\">S^-1</text><rect x=\"961.2315625000001\" y=\"25.0\" width=\"83.14589843750001\" height=\"40\" stroke=\"black\" fill=\"white\" stroke-width=\"1\" /><text x=\"1002.8045117187501\" y=\"45.0\" dominant-baseline=\"middle\" text-anchor=\"middle\" font-size=\"14px\" font-family=\"Arial\">S^-1</text><rect x=\"961.2315625000001\" y=\"175.0\" width=\"83.14589843750001\" height=\"40\" stroke=\"black\" fill=\"white\" stroke-width=\"1\" /><text x=\"1002.8045117187501\" y=\"195.0\" dominant-baseline=\"middle\" text-anchor=\"middle\" font-size=\"14px\" font-family=\"Arial\">iSwap^0.5</text><rect x=\"961.2315625000001\" y=\"125.0\" width=\"83.14589843750001\" height=\"40\" stroke=\"black\" fill=\"white\" stroke-width=\"1\" /><text x=\"1002.8045117187501\" y=\"145.0\" dominant-baseline=\"middle\" text-anchor=\"middle\" font-size=\"14px\" font-family=\"Arial\">iSwap</text><rect x=\"1064.3774609375\" y=\"125.0\" width=\"42.3605078125\" height=\"40\" stroke=\"black\" fill=\"white\" stroke-width=\"1\" /><text x=\"1085.55771484375\" y=\"145.0\" dominant-baseline=\"middle\" text-anchor=\"middle\" font-size=\"14px\" font-family=\"Arial\">S^-1</text><rect x=\"1064.3774609375\" y=\"25.0\" width=\"42.3605078125\" height=\"40\" stroke=\"black\" fill=\"white\" stroke-width=\"1\" /><text x=\"1085.55771484375\" y=\"45.0\" dominant-baseline=\"middle\" text-anchor=\"middle\" font-size=\"14px\" font-family=\"Arial\">S^-1</text><rect x=\"1126.73796875\" y=\"125.0\" width=\"49.608789062499994\" height=\"40\" stroke=\"black\" fill=\"white\" stroke-width=\"1\" /><text x=\"1151.54236328125\" y=\"145.0\" dominant-baseline=\"middle\" text-anchor=\"middle\" font-size=\"14px\" font-family=\"Arial\">iSwap</text><rect x=\"1126.73796875\" y=\"75.0\" width=\"49.608789062499994\" height=\"40\" stroke=\"black\" fill=\"white\" stroke-width=\"1\" /><text x=\"1151.54236328125\" y=\"95.0\" dominant-baseline=\"middle\" text-anchor=\"middle\" font-size=\"14px\" font-family=\"Arial\">iSwap</text><rect x=\"1196.3467578124998\" y=\"75.0\" width=\"42.3605078125\" height=\"40\" stroke=\"black\" fill=\"white\" stroke-width=\"1\" /><text x=\"1217.52701171875\" y=\"95.0\" dominant-baseline=\"middle\" text-anchor=\"middle\" font-size=\"14px\" font-family=\"Arial\">S^-1</text><rect x=\"1196.3467578124998\" y=\"125.0\" width=\"42.3605078125\" height=\"40\" stroke=\"black\" fill=\"white\" stroke-width=\"1\" /><text x=\"1217.52701171875\" y=\"145.0\" dominant-baseline=\"middle\" text-anchor=\"middle\" font-size=\"14px\" font-family=\"Arial\">S^-1</text><rect x=\"1258.7072656249998\" y=\"75.0\" width=\"83.14589843750001\" height=\"40\" stroke=\"black\" fill=\"white\" stroke-width=\"1\" /><text x=\"1300.2802148437497\" y=\"95.0\" dominant-baseline=\"middle\" text-anchor=\"middle\" font-size=\"14px\" font-family=\"Arial\">iSwap^0.5</text><rect x=\"1258.7072656249998\" y=\"25.0\" width=\"83.14589843750001\" height=\"40\" stroke=\"black\" fill=\"white\" stroke-width=\"1\" /><text x=\"1300.2802148437497\" y=\"45.0\" dominant-baseline=\"middle\" text-anchor=\"middle\" font-size=\"14px\" font-family=\"Arial\">iSwap</text><rect x=\"1258.7072656249998\" y=\"125.0\" width=\"83.14589843750001\" height=\"40\" stroke=\"black\" fill=\"white\" stroke-width=\"1\" /><text x=\"1300.2802148437497\" y=\"145.0\" dominant-baseline=\"middle\" text-anchor=\"middle\" font-size=\"18px\" font-family=\"Arial\">S</text><rect x=\"1361.8531640624997\" y=\"25.0\" width=\"42.3605078125\" height=\"40\" stroke=\"black\" fill=\"white\" stroke-width=\"1\" /><text x=\"1383.0334179687497\" y=\"45.0\" dominant-baseline=\"middle\" text-anchor=\"middle\" font-size=\"14px\" font-family=\"Arial\">S^-1</text><rect x=\"1361.8531640624997\" y=\"125.0\" width=\"42.3605078125\" height=\"40\" stroke=\"black\" fill=\"white\" stroke-width=\"1\" /><text x=\"1383.0334179687497\" y=\"145.0\" dominant-baseline=\"middle\" text-anchor=\"middle\" font-size=\"14px\" font-family=\"Arial\">S^-1</text><rect x=\"1424.2136718749996\" y=\"175.0\" width=\"83.14589843750001\" height=\"40\" stroke=\"black\" fill=\"white\" stroke-width=\"1\" /><text x=\"1465.7866210937495\" y=\"195.0\" dominant-baseline=\"middle\" text-anchor=\"middle\" font-size=\"14px\" font-family=\"Arial\">iSwap^0.5</text><rect x=\"1424.2136718749996\" y=\"125.0\" width=\"83.14589843750001\" height=\"40\" stroke=\"black\" fill=\"white\" stroke-width=\"1\" /><text x=\"1465.7866210937495\" y=\"145.0\" dominant-baseline=\"middle\" text-anchor=\"middle\" font-size=\"14px\" font-family=\"Arial\">iSwap</text><rect x=\"1527.3595703124995\" y=\"125.0\" width=\"42.3605078125\" height=\"40\" stroke=\"black\" fill=\"white\" stroke-width=\"1\" /><text x=\"1548.5398242187496\" y=\"145.0\" dominant-baseline=\"middle\" text-anchor=\"middle\" font-size=\"14px\" font-family=\"Arial\">S^-1</text><rect x=\"1589.7200781249994\" y=\"125.0\" width=\"49.608789062499994\" height=\"40\" stroke=\"black\" fill=\"white\" stroke-width=\"1\" /><text x=\"1614.5244726562494\" y=\"145.0\" dominant-baseline=\"middle\" text-anchor=\"middle\" font-size=\"14px\" font-family=\"Arial\">iSwap</text><rect x=\"1589.7200781249994\" y=\"75.0\" width=\"49.608789062499994\" height=\"40\" stroke=\"black\" fill=\"white\" stroke-width=\"1\" /><text x=\"1614.5244726562494\" y=\"95.0\" dominant-baseline=\"middle\" text-anchor=\"middle\" font-size=\"14px\" font-family=\"Arial\">iSwap</text><rect x=\"1659.3288671874993\" y=\"75.0\" width=\"42.3605078125\" height=\"40\" stroke=\"black\" fill=\"white\" stroke-width=\"1\" /><text x=\"1680.5091210937494\" y=\"95.0\" dominant-baseline=\"middle\" text-anchor=\"middle\" font-size=\"14px\" font-family=\"Arial\">S^-1</text><rect x=\"1659.3288671874993\" y=\"125.0\" width=\"42.3605078125\" height=\"40\" stroke=\"black\" fill=\"white\" stroke-width=\"1\" /><text x=\"1680.5091210937494\" y=\"145.0\" dominant-baseline=\"middle\" text-anchor=\"middle\" font-size=\"14px\" font-family=\"Arial\">S^-1</text><rect x=\"1721.6893749999992\" y=\"325.0\" width=\"49.608789062499994\" height=\"40\" stroke=\"black\" fill=\"white\" stroke-width=\"1\" /><text x=\"1746.4937695312492\" y=\"345.0\" dominant-baseline=\"middle\" text-anchor=\"middle\" font-size=\"14px\" font-family=\"Arial\">iSwap</text><rect x=\"1721.6893749999992\" y=\"275.0\" width=\"49.608789062499994\" height=\"40\" stroke=\"black\" fill=\"white\" stroke-width=\"1\" /><text x=\"1746.4937695312492\" y=\"295.0\" dominant-baseline=\"middle\" text-anchor=\"middle\" font-size=\"14px\" font-family=\"Arial\">iSwap</text><rect x=\"1721.6893749999992\" y=\"225.0\" width=\"49.608789062499994\" height=\"40\" stroke=\"black\" fill=\"white\" stroke-width=\"1\" /><text x=\"1746.4937695312492\" y=\"245.0\" dominant-baseline=\"middle\" text-anchor=\"middle\" font-size=\"14px\" font-family=\"Arial\">S^-1</text><rect x=\"1791.2981640624992\" y=\"275.0\" width=\"42.3605078125\" height=\"40\" stroke=\"black\" fill=\"white\" stroke-width=\"1\" /><text x=\"1812.4784179687492\" y=\"295.0\" dominant-baseline=\"middle\" text-anchor=\"middle\" font-size=\"14px\" font-family=\"Arial\">S^-1</text><rect x=\"1791.2981640624992\" y=\"325.0\" width=\"42.3605078125\" height=\"40\" stroke=\"black\" fill=\"white\" stroke-width=\"1\" /><text x=\"1812.4784179687492\" y=\"345.0\" dominant-baseline=\"middle\" text-anchor=\"middle\" font-size=\"14px\" font-family=\"Arial\">S^-1</text><rect x=\"1853.658671874999\" y=\"275.0\" width=\"83.14589843750001\" height=\"40\" stroke=\"black\" fill=\"white\" stroke-width=\"1\" /><text x=\"1895.231621093749\" y=\"295.0\" dominant-baseline=\"middle\" text-anchor=\"middle\" font-size=\"14px\" font-family=\"Arial\">iSwap^0.5</text><rect x=\"1853.658671874999\" y=\"225.0\" width=\"83.14589843750001\" height=\"40\" stroke=\"black\" fill=\"white\" stroke-width=\"1\" /><text x=\"1895.231621093749\" y=\"245.0\" dominant-baseline=\"middle\" text-anchor=\"middle\" font-size=\"14px\" font-family=\"Arial\">iSwap</text><rect x=\"1853.658671874999\" y=\"325.0\" width=\"83.14589843750001\" height=\"40\" stroke=\"black\" fill=\"white\" stroke-width=\"1\" /><text x=\"1895.231621093749\" y=\"345.0\" dominant-baseline=\"middle\" text-anchor=\"middle\" font-size=\"14px\" font-family=\"Arial\">S^-1</text><rect x=\"1956.804570312499\" y=\"225.0\" width=\"83.14589843750001\" height=\"40\" stroke=\"black\" fill=\"white\" stroke-width=\"1\" /><text x=\"1998.377519531249\" y=\"245.0\" dominant-baseline=\"middle\" text-anchor=\"middle\" font-size=\"14px\" font-family=\"Arial\">S^-1</text><rect x=\"1956.804570312499\" y=\"375.0\" width=\"83.14589843750001\" height=\"40\" stroke=\"black\" fill=\"white\" stroke-width=\"1\" /><text x=\"1998.377519531249\" y=\"395.0\" dominant-baseline=\"middle\" text-anchor=\"middle\" font-size=\"14px\" font-family=\"Arial\">iSwap^0.5</text><rect x=\"1956.804570312499\" y=\"325.0\" width=\"83.14589843750001\" height=\"40\" stroke=\"black\" fill=\"white\" stroke-width=\"1\" /><text x=\"1998.377519531249\" y=\"345.0\" dominant-baseline=\"middle\" text-anchor=\"middle\" font-size=\"14px\" font-family=\"Arial\">iSwap</text><rect x=\"2059.950468749999\" y=\"325.0\" width=\"42.3605078125\" height=\"40\" stroke=\"black\" fill=\"white\" stroke-width=\"1\" /><text x=\"2081.130722656249\" y=\"345.0\" dominant-baseline=\"middle\" text-anchor=\"middle\" font-size=\"14px\" font-family=\"Arial\">S^-1</text><rect x=\"2059.950468749999\" y=\"225.0\" width=\"42.3605078125\" height=\"40\" stroke=\"black\" fill=\"white\" stroke-width=\"1\" /><text x=\"2081.130722656249\" y=\"245.0\" dominant-baseline=\"middle\" text-anchor=\"middle\" font-size=\"14px\" font-family=\"Arial\">S^-1</text><rect x=\"2122.310976562499\" y=\"325.0\" width=\"49.608789062499994\" height=\"40\" stroke=\"black\" fill=\"white\" stroke-width=\"1\" /><text x=\"2147.115371093749\" y=\"345.0\" dominant-baseline=\"middle\" text-anchor=\"middle\" font-size=\"14px\" font-family=\"Arial\">iSwap</text><rect x=\"2122.310976562499\" y=\"275.0\" width=\"49.608789062499994\" height=\"40\" stroke=\"black\" fill=\"white\" stroke-width=\"1\" /><text x=\"2147.115371093749\" y=\"295.0\" dominant-baseline=\"middle\" text-anchor=\"middle\" font-size=\"14px\" font-family=\"Arial\">iSwap</text><rect x=\"2191.919765624999\" y=\"275.0\" width=\"42.3605078125\" height=\"40\" stroke=\"black\" fill=\"white\" stroke-width=\"1\" /><text x=\"2213.100019531249\" y=\"295.0\" dominant-baseline=\"middle\" text-anchor=\"middle\" font-size=\"14px\" font-family=\"Arial\">S^-1</text><rect x=\"2191.919765624999\" y=\"325.0\" width=\"42.3605078125\" height=\"40\" stroke=\"black\" fill=\"white\" stroke-width=\"1\" /><text x=\"2213.100019531249\" y=\"345.0\" dominant-baseline=\"middle\" text-anchor=\"middle\" font-size=\"14px\" font-family=\"Arial\">S^-1</text><rect x=\"2254.280273437499\" y=\"275.0\" width=\"83.14589843750001\" height=\"40\" stroke=\"black\" fill=\"white\" stroke-width=\"1\" /><text x=\"2295.8532226562493\" y=\"295.0\" dominant-baseline=\"middle\" text-anchor=\"middle\" font-size=\"14px\" font-family=\"Arial\">iSwap^0.5</text><rect x=\"2254.280273437499\" y=\"225.0\" width=\"83.14589843750001\" height=\"40\" stroke=\"black\" fill=\"white\" stroke-width=\"1\" /><text x=\"2295.8532226562493\" y=\"245.0\" dominant-baseline=\"middle\" text-anchor=\"middle\" font-size=\"14px\" font-family=\"Arial\">iSwap</text><rect x=\"2254.280273437499\" y=\"325.0\" width=\"83.14589843750001\" height=\"40\" stroke=\"black\" fill=\"white\" stroke-width=\"1\" /><text x=\"2295.8532226562493\" y=\"345.0\" dominant-baseline=\"middle\" text-anchor=\"middle\" font-size=\"14px\" font-family=\"Arial\">S^-1</text><rect x=\"2357.426171874999\" y=\"225.0\" width=\"42.3605078125\" height=\"40\" stroke=\"black\" fill=\"white\" stroke-width=\"1\" /><text x=\"2378.606425781249\" y=\"245.0\" dominant-baseline=\"middle\" text-anchor=\"middle\" font-size=\"14px\" font-family=\"Arial\">S^-1</text><rect x=\"2357.426171874999\" y=\"325.0\" width=\"42.3605078125\" height=\"40\" stroke=\"black\" fill=\"white\" stroke-width=\"1\" /><text x=\"2378.606425781249\" y=\"345.0\" dominant-baseline=\"middle\" text-anchor=\"middle\" font-size=\"14px\" font-family=\"Arial\">S^-1</text><rect x=\"2419.786679687499\" y=\"375.0\" width=\"83.14589843750001\" height=\"40\" stroke=\"black\" fill=\"white\" stroke-width=\"1\" /><text x=\"2461.3596289062493\" y=\"395.0\" dominant-baseline=\"middle\" text-anchor=\"middle\" font-size=\"14px\" font-family=\"Arial\">iSwap^0.5</text><rect x=\"2419.786679687499\" y=\"325.0\" width=\"83.14589843750001\" height=\"40\" stroke=\"black\" fill=\"white\" stroke-width=\"1\" /><text x=\"2461.3596289062493\" y=\"345.0\" dominant-baseline=\"middle\" text-anchor=\"middle\" font-size=\"14px\" font-family=\"Arial\">iSwap</text><rect x=\"2522.932578124999\" y=\"325.0\" width=\"42.3605078125\" height=\"40\" stroke=\"black\" fill=\"white\" stroke-width=\"1\" /><text x=\"2544.112832031249\" y=\"345.0\" dominant-baseline=\"middle\" text-anchor=\"middle\" font-size=\"14px\" font-family=\"Arial\">S^-1</text><rect x=\"2585.293085937499\" y=\"325.0\" width=\"49.608789062499994\" height=\"40\" stroke=\"black\" fill=\"white\" stroke-width=\"1\" /><text x=\"2610.0974804687494\" y=\"345.0\" dominant-baseline=\"middle\" text-anchor=\"middle\" font-size=\"14px\" font-family=\"Arial\">iSwap</text><rect x=\"2585.293085937499\" y=\"275.0\" width=\"49.608789062499994\" height=\"40\" stroke=\"black\" fill=\"white\" stroke-width=\"1\" /><text x=\"2610.0974804687494\" y=\"295.0\" dominant-baseline=\"middle\" text-anchor=\"middle\" font-size=\"14px\" font-family=\"Arial\">iSwap</text><rect x=\"2654.901874999999\" y=\"275.0\" width=\"42.3605078125\" height=\"40\" stroke=\"black\" fill=\"white\" stroke-width=\"1\" /><text x=\"2676.082128906249\" y=\"295.0\" dominant-baseline=\"middle\" text-anchor=\"middle\" font-size=\"14px\" font-family=\"Arial\">S^-1</text><rect x=\"2654.901874999999\" y=\"325.0\" width=\"42.3605078125\" height=\"40\" stroke=\"black\" fill=\"white\" stroke-width=\"1\" /><text x=\"2676.082128906249\" y=\"345.0\" dominant-baseline=\"middle\" text-anchor=\"middle\" font-size=\"14px\" font-family=\"Arial\">S^-1</text></svg>"
          },
          "metadata": {
            "tags": []
          },
          "execution_count": 6
        }
      ]
    },
    {
      "cell_type": "code",
      "metadata": {
        "id": "avhMpE6I2M8L",
        "colab": {
          "base_uri": "https://localhost:8080/",
          "height": 461
        },
        "outputId": "01fa3061-70c6-40a8-f7be-a80fd4fca8b0"
      },
      "source": [
        "SVGCircuit(bog_circuit)"
      ],
      "execution_count": null,
      "outputs": [
        {
          "output_type": "execute_result",
          "data": {
            "text/plain": [
              "<cirq.contrib.svg.svg.SVGCircuit at 0x7f9b04be1d30>"
            ],
            "image/svg+xml": "<svg xmlns=\"http://www.w3.org/2000/svg\" width=\"756.1163671875\" height=\"440.0\"><line x1=\"34.7588671875\" x2=\"726.1163671875\" y1=\"45.0\" y2=\"45.0\" stroke=\"#1967d2\" stroke-width=\"1\" /><line x1=\"34.7588671875\" x2=\"726.1163671875\" y1=\"95.0\" y2=\"95.0\" stroke=\"#1967d2\" stroke-width=\"1\" /><line x1=\"34.7588671875\" x2=\"726.1163671875\" y1=\"145.0\" y2=\"145.0\" stroke=\"#1967d2\" stroke-width=\"1\" /><line x1=\"34.7588671875\" x2=\"726.1163671875\" y1=\"195.0\" y2=\"195.0\" stroke=\"#1967d2\" stroke-width=\"1\" /><line x1=\"34.7588671875\" x2=\"726.1163671875\" y1=\"245.0\" y2=\"245.0\" stroke=\"#1967d2\" stroke-width=\"1\" /><line x1=\"34.7588671875\" x2=\"726.1163671875\" y1=\"295.0\" y2=\"295.0\" stroke=\"#1967d2\" stroke-width=\"1\" /><line x1=\"34.7588671875\" x2=\"726.1163671875\" y1=\"345.0\" y2=\"345.0\" stroke=\"#1967d2\" stroke-width=\"1\" /><line x1=\"34.7588671875\" x2=\"726.1163671875\" y1=\"395.0\" y2=\"395.0\" stroke=\"#1967d2\" stroke-width=\"1\" /><line x1=\"189.517734375\" x2=\"565.4757421875\" y1=\"5.0\" y2=\"5.0\" stroke=\"black\" stroke-width=\"1\" /><line x1=\"189.517734375\" x2=\"565.4757421875\" y1=\"435.0\" y2=\"435.0\" stroke=\"black\" stroke-width=\"1\" /><line x1=\"237.98048828125002\" x2=\"237.98048828125002\" y1=\"45.0\" y2=\"245.0\" stroke=\"black\" stroke-width=\"3\" /><line x1=\"335.00880859375\" x2=\"335.00880859375\" y1=\"95.0\" y2=\"295.0\" stroke=\"black\" stroke-width=\"3\" /><line x1=\"420.9594921875\" x2=\"420.9594921875\" y1=\"145.0\" y2=\"345.0\" stroke=\"black\" stroke-width=\"3\" /><line x1=\"506.91017578125\" x2=\"506.91017578125\" y1=\"195.0\" y2=\"395.0\" stroke=\"black\" stroke-width=\"3\" /><line x1=\"189.517734375\" x2=\"189.517734375\" y1=\"5.0\" y2=\"15.0\" stroke=\"black\" stroke-width=\"3\" /><line x1=\"565.4757421875\" x2=\"565.4757421875\" y1=\"5.0\" y2=\"15.0\" stroke=\"black\" stroke-width=\"3\" /><line x1=\"189.517734375\" x2=\"189.517734375\" y1=\"425.0\" y2=\"435.0\" stroke=\"black\" stroke-width=\"3\" /><line x1=\"565.4757421875\" x2=\"565.4757421875\" y1=\"425.0\" y2=\"435.0\" stroke=\"black\" stroke-width=\"3\" /><rect x=\"10.0\" y=\"25.0\" width=\"49.517734375\" height=\"40\" stroke=\"black\" fill=\"white\" stroke-width=\"0\" /><text x=\"34.7588671875\" y=\"45.0\" dominant-baseline=\"middle\" text-anchor=\"middle\" font-size=\"14px\" font-family=\"Arial\">(0, 0): </text><rect x=\"10.0\" y=\"75.0\" width=\"49.517734375\" height=\"40\" stroke=\"black\" fill=\"white\" stroke-width=\"0\" /><text x=\"34.7588671875\" y=\"95.0\" dominant-baseline=\"middle\" text-anchor=\"middle\" font-size=\"14px\" font-family=\"Arial\">(0, 1): </text><rect x=\"10.0\" y=\"125.0\" width=\"49.517734375\" height=\"40\" stroke=\"black\" fill=\"white\" stroke-width=\"0\" /><text x=\"34.7588671875\" y=\"145.0\" dominant-baseline=\"middle\" text-anchor=\"middle\" font-size=\"14px\" font-family=\"Arial\">(0, 2): </text><rect x=\"10.0\" y=\"175.0\" width=\"49.517734375\" height=\"40\" stroke=\"black\" fill=\"white\" stroke-width=\"0\" /><text x=\"34.7588671875\" y=\"195.0\" dominant-baseline=\"middle\" text-anchor=\"middle\" font-size=\"14px\" font-family=\"Arial\">(0, 3): </text><rect x=\"10.0\" y=\"225.0\" width=\"49.517734375\" height=\"40\" stroke=\"black\" fill=\"white\" stroke-width=\"0\" /><text x=\"34.7588671875\" y=\"245.0\" dominant-baseline=\"middle\" text-anchor=\"middle\" font-size=\"14px\" font-family=\"Arial\">(1, 0): </text><rect x=\"10.0\" y=\"275.0\" width=\"49.517734375\" height=\"40\" stroke=\"black\" fill=\"white\" stroke-width=\"0\" /><text x=\"34.7588671875\" y=\"295.0\" dominant-baseline=\"middle\" text-anchor=\"middle\" font-size=\"14px\" font-family=\"Arial\">(1, 1): </text><rect x=\"10.0\" y=\"325.0\" width=\"49.517734375\" height=\"40\" stroke=\"black\" fill=\"white\" stroke-width=\"0\" /><text x=\"34.7588671875\" y=\"345.0\" dominant-baseline=\"middle\" text-anchor=\"middle\" font-size=\"14px\" font-family=\"Arial\">(1, 2): </text><rect x=\"10.0\" y=\"375.0\" width=\"49.517734375\" height=\"40\" stroke=\"black\" fill=\"white\" stroke-width=\"0\" /><text x=\"34.7588671875\" y=\"395.0\" dominant-baseline=\"middle\" text-anchor=\"middle\" font-size=\"14px\" font-family=\"Arial\">(1, 3): </text><rect x=\"79.517734375\" y=\"25.0\" width=\"40\" height=\"40\" stroke=\"black\" fill=\"white\" stroke-width=\"1\" /><text x=\"99.517734375\" y=\"45.0\" dominant-baseline=\"middle\" text-anchor=\"middle\" font-size=\"18px\" font-family=\"Arial\">X</text><rect x=\"79.517734375\" y=\"75.0\" width=\"40\" height=\"40\" stroke=\"black\" fill=\"white\" stroke-width=\"1\" /><text x=\"99.517734375\" y=\"95.0\" dominant-baseline=\"middle\" text-anchor=\"middle\" font-size=\"18px\" font-family=\"Arial\">X</text><rect x=\"79.517734375\" y=\"125.0\" width=\"40\" height=\"40\" stroke=\"black\" fill=\"white\" stroke-width=\"1\" /><text x=\"99.517734375\" y=\"145.0\" dominant-baseline=\"middle\" text-anchor=\"middle\" font-size=\"18px\" font-family=\"Arial\">X</text><rect x=\"79.517734375\" y=\"175.0\" width=\"40\" height=\"40\" stroke=\"black\" fill=\"white\" stroke-width=\"1\" /><text x=\"99.517734375\" y=\"195.0\" dominant-baseline=\"middle\" text-anchor=\"middle\" font-size=\"18px\" font-family=\"Arial\">X</text><rect x=\"139.517734375\" y=\"25.0\" width=\"40\" height=\"40\" stroke=\"black\" fill=\"white\" stroke-width=\"1\" /><text x=\"159.517734375\" y=\"45.0\" dominant-baseline=\"middle\" text-anchor=\"middle\" font-size=\"18px\" font-family=\"Arial\">S</text><rect x=\"139.517734375\" y=\"75.0\" width=\"40\" height=\"40\" stroke=\"black\" fill=\"white\" stroke-width=\"1\" /><text x=\"159.517734375\" y=\"95.0\" dominant-baseline=\"middle\" text-anchor=\"middle\" font-size=\"18px\" font-family=\"Arial\">S</text><rect x=\"139.517734375\" y=\"125.0\" width=\"40\" height=\"40\" stroke=\"black\" fill=\"white\" stroke-width=\"1\" /><text x=\"159.517734375\" y=\"145.0\" dominant-baseline=\"middle\" text-anchor=\"middle\" font-size=\"18px\" font-family=\"Arial\">S</text><rect x=\"139.517734375\" y=\"175.0\" width=\"40\" height=\"40\" stroke=\"black\" fill=\"white\" stroke-width=\"1\" /><text x=\"159.517734375\" y=\"195.0\" dominant-baseline=\"middle\" text-anchor=\"middle\" font-size=\"18px\" font-family=\"Arial\">S</text><rect x=\"189.51773437500003\" y=\"25.0\" width=\"96.9255078125\" height=\"40\" stroke=\"black\" fill=\"white\" stroke-width=\"1\" /><text x=\"237.98048828125002\" y=\"45.0\" dominant-baseline=\"middle\" text-anchor=\"middle\" font-size=\"14px\" font-family=\"Arial\">iSwap</text><rect x=\"189.51773437500003\" y=\"225.0\" width=\"96.9255078125\" height=\"40\" stroke=\"black\" fill=\"white\" stroke-width=\"1\" /><text x=\"237.98048828125002\" y=\"245.0\" dominant-baseline=\"middle\" text-anchor=\"middle\" font-size=\"14px\" font-family=\"Arial\">iSwap^-1.82</text><rect x=\"286.4432421875\" y=\"75.0\" width=\"97.13113281250001\" height=\"40\" stroke=\"black\" fill=\"white\" stroke-width=\"1\" /><text x=\"335.00880859375\" y=\"95.0\" dominant-baseline=\"middle\" text-anchor=\"middle\" font-size=\"14px\" font-family=\"Arial\">iSwap</text><rect x=\"286.4432421875\" y=\"275.0\" width=\"97.13113281250001\" height=\"40\" stroke=\"black\" fill=\"white\" stroke-width=\"1\" /><text x=\"335.00880859375\" y=\"295.0\" dominant-baseline=\"middle\" text-anchor=\"middle\" font-size=\"14px\" font-family=\"Arial\">iSwap^-1.67</text><rect x=\"383.57437500000003\" y=\"125.0\" width=\"74.770234375\" height=\"40\" stroke=\"black\" fill=\"white\" stroke-width=\"1\" /><text x=\"420.9594921875\" y=\"145.0\" dominant-baseline=\"middle\" text-anchor=\"middle\" font-size=\"14px\" font-family=\"Arial\">iSwap</text><rect x=\"383.57437500000003\" y=\"325.0\" width=\"74.770234375\" height=\"40\" stroke=\"black\" fill=\"white\" stroke-width=\"1\" /><text x=\"420.9594921875\" y=\"345.0\" dominant-baseline=\"middle\" text-anchor=\"middle\" font-size=\"14px\" font-family=\"Arial\">iSwap^-1</text><rect x=\"458.344609375\" y=\"175.0\" width=\"97.13113281250001\" height=\"40\" stroke=\"black\" fill=\"white\" stroke-width=\"1\" /><text x=\"506.91017578125\" y=\"195.0\" dominant-baseline=\"middle\" text-anchor=\"middle\" font-size=\"14px\" font-family=\"Arial\">iSwap</text><rect x=\"458.344609375\" y=\"375.0\" width=\"97.13113281250001\" height=\"40\" stroke=\"black\" fill=\"white\" stroke-width=\"1\" /><text x=\"506.91017578125\" y=\"395.0\" dominant-baseline=\"middle\" text-anchor=\"middle\" font-size=\"14px\" font-family=\"Arial\">iSwap^-1.67</text><rect x=\"585.4757421875\" y=\"25.0\" width=\"60.640625\" height=\"40\" stroke=\"black\" fill=\"white\" stroke-width=\"1\" /><text x=\"615.7960546875\" y=\"45.0\" dominant-baseline=\"middle\" text-anchor=\"middle\" font-size=\"14px\" font-family=\"Arial\">Z^0.75</text><rect x=\"585.4757421875\" y=\"75.0\" width=\"60.640625\" height=\"40\" stroke=\"black\" fill=\"white\" stroke-width=\"1\" /><text x=\"615.7960546875\" y=\"95.0\" dominant-baseline=\"middle\" text-anchor=\"middle\" font-size=\"14px\" font-family=\"Arial\">Z^0.75</text><rect x=\"585.4757421875\" y=\"125.0\" width=\"60.640625\" height=\"40\" stroke=\"black\" fill=\"white\" stroke-width=\"1\" /><text x=\"615.7960546875\" y=\"145.0\" dominant-baseline=\"middle\" text-anchor=\"middle\" font-size=\"14px\" font-family=\"Arial\">Z^0.75</text><rect x=\"585.4757421875\" y=\"175.0\" width=\"60.640625\" height=\"40\" stroke=\"black\" fill=\"white\" stroke-width=\"1\" /><text x=\"615.7960546875\" y=\"195.0\" dominant-baseline=\"middle\" text-anchor=\"middle\" font-size=\"14px\" font-family=\"Arial\">Z^0.75</text><rect x=\"666.1163671875\" y=\"25.0\" width=\"40\" height=\"40\" stroke=\"black\" fill=\"white\" stroke-width=\"1\" /><text x=\"686.1163671875\" y=\"45.0\" dominant-baseline=\"middle\" text-anchor=\"middle\" font-size=\"18px\" font-family=\"Arial\">X</text><rect x=\"666.1163671875\" y=\"75.0\" width=\"40\" height=\"40\" stroke=\"black\" fill=\"white\" stroke-width=\"1\" /><text x=\"686.1163671875\" y=\"95.0\" dominant-baseline=\"middle\" text-anchor=\"middle\" font-size=\"18px\" font-family=\"Arial\">X</text><rect x=\"666.1163671875\" y=\"125.0\" width=\"40\" height=\"40\" stroke=\"black\" fill=\"white\" stroke-width=\"1\" /><text x=\"686.1163671875\" y=\"145.0\" dominant-baseline=\"middle\" text-anchor=\"middle\" font-size=\"18px\" font-family=\"Arial\">X</text><rect x=\"666.1163671875\" y=\"175.0\" width=\"40\" height=\"40\" stroke=\"black\" fill=\"white\" stroke-width=\"1\" /><text x=\"686.1163671875\" y=\"195.0\" dominant-baseline=\"middle\" text-anchor=\"middle\" font-size=\"18px\" font-family=\"Arial\">X</text></svg>"
          },
          "metadata": {
            "tags": []
          },
          "execution_count": 7
        }
      ]
    },
    {
      "cell_type": "code",
      "metadata": {
        "id": "CkfQ3h7h3pXb",
        "colab": {
          "base_uri": "https://localhost:8080/",
          "height": 221
        },
        "outputId": "60b9862a-cec3-4df5-d028-0d229cc22528"
      },
      "source": [
        "SVGCircuit(fourier_circuit_spin_up)"
      ],
      "execution_count": null,
      "outputs": [
        {
          "output_type": "execute_result",
          "data": {
            "text/plain": [
              "<cirq.contrib.svg.svg.SVGCircuit at 0x7f9b04bca080>"
            ],
            "image/svg+xml": "<svg xmlns=\"http://www.w3.org/2000/svg\" width=\"1105.0907421875002\" height=\"200.0\"><line x1=\"34.7588671875\" x2=\"1075.0907421875002\" y1=\"25.0\" y2=\"25.0\" stroke=\"#1967d2\" stroke-width=\"1\" /><line x1=\"34.7588671875\" x2=\"1075.0907421875002\" y1=\"75.0\" y2=\"75.0\" stroke=\"#1967d2\" stroke-width=\"1\" /><line x1=\"34.7588671875\" x2=\"1075.0907421875002\" y1=\"125.0\" y2=\"125.0\" stroke=\"#1967d2\" stroke-width=\"1\" /><line x1=\"34.7588671875\" x2=\"1075.0907421875002\" y1=\"175.0\" y2=\"175.0\" stroke=\"#1967d2\" stroke-width=\"1\" /><line x1=\"104.32212890625\" x2=\"104.32212890625\" y1=\"75.0\" y2=\"125.0\" stroke=\"black\" stroke-width=\"3\" /><line x1=\"253.05998046875\" x2=\"253.05998046875\" y1=\"25.0\" y2=\"75.0\" stroke=\"black\" stroke-width=\"3\" /><line x1=\"356.20587890625\" x2=\"356.20587890625\" y1=\"125.0\" y2=\"175.0\" stroke=\"black\" stroke-width=\"3\" /><line x1=\"504.94373046875006\" x2=\"504.94373046875006\" y1=\"75.0\" y2=\"125.0\" stroke=\"black\" stroke-width=\"3\" /><line x1=\"653.6815820312501\" x2=\"653.6815820312501\" y1=\"25.0\" y2=\"75.0\" stroke=\"black\" stroke-width=\"3\" /><line x1=\"819.1879882812501\" x2=\"819.1879882812501\" y1=\"125.0\" y2=\"175.0\" stroke=\"black\" stroke-width=\"3\" /><line x1=\"967.9258398437502\" x2=\"967.9258398437502\" y1=\"75.0\" y2=\"125.0\" stroke=\"black\" stroke-width=\"3\" /><rect x=\"10.0\" y=\"5.0\" width=\"49.517734375\" height=\"40\" stroke=\"black\" fill=\"white\" stroke-width=\"0\" /><text x=\"34.7588671875\" y=\"25.0\" dominant-baseline=\"middle\" text-anchor=\"middle\" font-size=\"14px\" font-family=\"Arial\">(0, 0): </text><rect x=\"10.0\" y=\"55.0\" width=\"49.517734375\" height=\"40\" stroke=\"black\" fill=\"white\" stroke-width=\"0\" /><text x=\"34.7588671875\" y=\"75.0\" dominant-baseline=\"middle\" text-anchor=\"middle\" font-size=\"14px\" font-family=\"Arial\">(0, 1): </text><rect x=\"10.0\" y=\"105.0\" width=\"49.517734375\" height=\"40\" stroke=\"black\" fill=\"white\" stroke-width=\"0\" /><text x=\"34.7588671875\" y=\"125.0\" dominant-baseline=\"middle\" text-anchor=\"middle\" font-size=\"14px\" font-family=\"Arial\">(0, 2): </text><rect x=\"10.0\" y=\"155.0\" width=\"49.517734375\" height=\"40\" stroke=\"black\" fill=\"white\" stroke-width=\"0\" /><text x=\"34.7588671875\" y=\"175.0\" dominant-baseline=\"middle\" text-anchor=\"middle\" font-size=\"14px\" font-family=\"Arial\">(0, 3): </text><rect x=\"79.517734375\" y=\"105.0\" width=\"49.608789062499994\" height=\"40\" stroke=\"black\" fill=\"white\" stroke-width=\"1\" /><text x=\"104.32212890625\" y=\"125.0\" dominant-baseline=\"middle\" text-anchor=\"middle\" font-size=\"14px\" font-family=\"Arial\">iSwap</text><rect x=\"79.517734375\" y=\"55.0\" width=\"49.608789062499994\" height=\"40\" stroke=\"black\" fill=\"white\" stroke-width=\"1\" /><text x=\"104.32212890625\" y=\"75.0\" dominant-baseline=\"middle\" text-anchor=\"middle\" font-size=\"14px\" font-family=\"Arial\">iSwap</text><rect x=\"79.517734375\" y=\"5.0\" width=\"49.608789062499994\" height=\"40\" stroke=\"black\" fill=\"white\" stroke-width=\"1\" /><text x=\"104.32212890625\" y=\"25.0\" dominant-baseline=\"middle\" text-anchor=\"middle\" font-size=\"14px\" font-family=\"Arial\">S^-1</text><rect x=\"149.1265234375\" y=\"55.0\" width=\"42.3605078125\" height=\"40\" stroke=\"black\" fill=\"white\" stroke-width=\"1\" /><text x=\"170.30677734375\" y=\"75.0\" dominant-baseline=\"middle\" text-anchor=\"middle\" font-size=\"14px\" font-family=\"Arial\">S^-1</text><rect x=\"149.1265234375\" y=\"105.0\" width=\"42.3605078125\" height=\"40\" stroke=\"black\" fill=\"white\" stroke-width=\"1\" /><text x=\"170.30677734375\" y=\"125.0\" dominant-baseline=\"middle\" text-anchor=\"middle\" font-size=\"14px\" font-family=\"Arial\">S^-1</text><rect x=\"211.48703125\" y=\"55.0\" width=\"83.14589843750001\" height=\"40\" stroke=\"black\" fill=\"white\" stroke-width=\"1\" /><text x=\"253.05998046875\" y=\"75.0\" dominant-baseline=\"middle\" text-anchor=\"middle\" font-size=\"14px\" font-family=\"Arial\">iSwap^0.5</text><rect x=\"211.48703125\" y=\"5.0\" width=\"83.14589843750001\" height=\"40\" stroke=\"black\" fill=\"white\" stroke-width=\"1\" /><text x=\"253.05998046875\" y=\"25.0\" dominant-baseline=\"middle\" text-anchor=\"middle\" font-size=\"14px\" font-family=\"Arial\">iSwap</text><rect x=\"211.48703125\" y=\"105.0\" width=\"83.14589843750001\" height=\"40\" stroke=\"black\" fill=\"white\" stroke-width=\"1\" /><text x=\"253.05998046875\" y=\"125.0\" dominant-baseline=\"middle\" text-anchor=\"middle\" font-size=\"14px\" font-family=\"Arial\">S^-1</text><rect x=\"314.6329296875\" y=\"5.0\" width=\"83.14589843750001\" height=\"40\" stroke=\"black\" fill=\"white\" stroke-width=\"1\" /><text x=\"356.20587890625\" y=\"25.0\" dominant-baseline=\"middle\" text-anchor=\"middle\" font-size=\"14px\" font-family=\"Arial\">S^-1</text><rect x=\"314.6329296875\" y=\"155.0\" width=\"83.14589843750001\" height=\"40\" stroke=\"black\" fill=\"white\" stroke-width=\"1\" /><text x=\"356.20587890625\" y=\"175.0\" dominant-baseline=\"middle\" text-anchor=\"middle\" font-size=\"14px\" font-family=\"Arial\">iSwap^0.5</text><rect x=\"314.6329296875\" y=\"105.0\" width=\"83.14589843750001\" height=\"40\" stroke=\"black\" fill=\"white\" stroke-width=\"1\" /><text x=\"356.20587890625\" y=\"125.0\" dominant-baseline=\"middle\" text-anchor=\"middle\" font-size=\"14px\" font-family=\"Arial\">iSwap</text><rect x=\"417.778828125\" y=\"105.0\" width=\"42.3605078125\" height=\"40\" stroke=\"black\" fill=\"white\" stroke-width=\"1\" /><text x=\"438.95908203125003\" y=\"125.0\" dominant-baseline=\"middle\" text-anchor=\"middle\" font-size=\"14px\" font-family=\"Arial\">S^-1</text><rect x=\"417.778828125\" y=\"5.0\" width=\"42.3605078125\" height=\"40\" stroke=\"black\" fill=\"white\" stroke-width=\"1\" /><text x=\"438.95908203125003\" y=\"25.0\" dominant-baseline=\"middle\" text-anchor=\"middle\" font-size=\"14px\" font-family=\"Arial\">S^-1</text><rect x=\"480.13933593750005\" y=\"105.0\" width=\"49.608789062499994\" height=\"40\" stroke=\"black\" fill=\"white\" stroke-width=\"1\" /><text x=\"504.94373046875006\" y=\"125.0\" dominant-baseline=\"middle\" text-anchor=\"middle\" font-size=\"14px\" font-family=\"Arial\">iSwap</text><rect x=\"480.13933593750005\" y=\"55.0\" width=\"49.608789062499994\" height=\"40\" stroke=\"black\" fill=\"white\" stroke-width=\"1\" /><text x=\"504.94373046875006\" y=\"75.0\" dominant-baseline=\"middle\" text-anchor=\"middle\" font-size=\"14px\" font-family=\"Arial\">iSwap</text><rect x=\"549.7481250000001\" y=\"55.0\" width=\"42.3605078125\" height=\"40\" stroke=\"black\" fill=\"white\" stroke-width=\"1\" /><text x=\"570.92837890625\" y=\"75.0\" dominant-baseline=\"middle\" text-anchor=\"middle\" font-size=\"14px\" font-family=\"Arial\">S^-1</text><rect x=\"549.7481250000001\" y=\"105.0\" width=\"42.3605078125\" height=\"40\" stroke=\"black\" fill=\"white\" stroke-width=\"1\" /><text x=\"570.92837890625\" y=\"125.0\" dominant-baseline=\"middle\" text-anchor=\"middle\" font-size=\"14px\" font-family=\"Arial\">S^-1</text><rect x=\"612.1086328125001\" y=\"55.0\" width=\"83.14589843750001\" height=\"40\" stroke=\"black\" fill=\"white\" stroke-width=\"1\" /><text x=\"653.6815820312501\" y=\"75.0\" dominant-baseline=\"middle\" text-anchor=\"middle\" font-size=\"14px\" font-family=\"Arial\">iSwap^0.5</text><rect x=\"612.1086328125001\" y=\"5.0\" width=\"83.14589843750001\" height=\"40\" stroke=\"black\" fill=\"white\" stroke-width=\"1\" /><text x=\"653.6815820312501\" y=\"25.0\" dominant-baseline=\"middle\" text-anchor=\"middle\" font-size=\"14px\" font-family=\"Arial\">iSwap</text><rect x=\"612.1086328125001\" y=\"105.0\" width=\"83.14589843750001\" height=\"40\" stroke=\"black\" fill=\"white\" stroke-width=\"1\" /><text x=\"653.6815820312501\" y=\"125.0\" dominant-baseline=\"middle\" text-anchor=\"middle\" font-size=\"18px\" font-family=\"Arial\">S</text><rect x=\"715.2545312500001\" y=\"5.0\" width=\"42.3605078125\" height=\"40\" stroke=\"black\" fill=\"white\" stroke-width=\"1\" /><text x=\"736.4347851562501\" y=\"25.0\" dominant-baseline=\"middle\" text-anchor=\"middle\" font-size=\"14px\" font-family=\"Arial\">S^-1</text><rect x=\"715.2545312500001\" y=\"105.0\" width=\"42.3605078125\" height=\"40\" stroke=\"black\" fill=\"white\" stroke-width=\"1\" /><text x=\"736.4347851562501\" y=\"125.0\" dominant-baseline=\"middle\" text-anchor=\"middle\" font-size=\"14px\" font-family=\"Arial\">S^-1</text><rect x=\"777.6150390625002\" y=\"155.0\" width=\"83.14589843750001\" height=\"40\" stroke=\"black\" fill=\"white\" stroke-width=\"1\" /><text x=\"819.1879882812501\" y=\"175.0\" dominant-baseline=\"middle\" text-anchor=\"middle\" font-size=\"14px\" font-family=\"Arial\">iSwap^0.5</text><rect x=\"777.6150390625002\" y=\"105.0\" width=\"83.14589843750001\" height=\"40\" stroke=\"black\" fill=\"white\" stroke-width=\"1\" /><text x=\"819.1879882812501\" y=\"125.0\" dominant-baseline=\"middle\" text-anchor=\"middle\" font-size=\"14px\" font-family=\"Arial\">iSwap</text><rect x=\"880.7609375000002\" y=\"105.0\" width=\"42.3605078125\" height=\"40\" stroke=\"black\" fill=\"white\" stroke-width=\"1\" /><text x=\"901.9411914062501\" y=\"125.0\" dominant-baseline=\"middle\" text-anchor=\"middle\" font-size=\"14px\" font-family=\"Arial\">S^-1</text><rect x=\"943.1214453125002\" y=\"105.0\" width=\"49.608789062499994\" height=\"40\" stroke=\"black\" fill=\"white\" stroke-width=\"1\" /><text x=\"967.9258398437502\" y=\"125.0\" dominant-baseline=\"middle\" text-anchor=\"middle\" font-size=\"14px\" font-family=\"Arial\">iSwap</text><rect x=\"943.1214453125002\" y=\"55.0\" width=\"49.608789062499994\" height=\"40\" stroke=\"black\" fill=\"white\" stroke-width=\"1\" /><text x=\"967.9258398437502\" y=\"75.0\" dominant-baseline=\"middle\" text-anchor=\"middle\" font-size=\"14px\" font-family=\"Arial\">iSwap</text><rect x=\"1012.7302343750004\" y=\"55.0\" width=\"42.3605078125\" height=\"40\" stroke=\"black\" fill=\"white\" stroke-width=\"1\" /><text x=\"1033.9104882812503\" y=\"75.0\" dominant-baseline=\"middle\" text-anchor=\"middle\" font-size=\"14px\" font-family=\"Arial\">S^-1</text><rect x=\"1012.7302343750004\" y=\"105.0\" width=\"42.3605078125\" height=\"40\" stroke=\"black\" fill=\"white\" stroke-width=\"1\" /><text x=\"1033.9104882812503\" y=\"125.0\" dominant-baseline=\"middle\" text-anchor=\"middle\" font-size=\"14px\" font-family=\"Arial\">S^-1</text></svg>"
          },
          "metadata": {
            "tags": []
          },
          "execution_count": 8
        }
      ]
    },
    {
      "cell_type": "code",
      "metadata": {
        "id": "w9S0cIIi445Z",
        "colab": {
          "base_uri": "https://localhost:8080/",
          "height": 221
        },
        "outputId": "610f5e13-1522-4bcb-fed8-3e73c47cf1e8"
      },
      "source": [
        "SVGCircuit(fourier_circuit_spin_down)"
      ],
      "execution_count": null,
      "outputs": [
        {
          "output_type": "execute_result",
          "data": {
            "text/plain": [
              "<cirq.contrib.svg.svg.SVGCircuit at 0x7f9b04bc1c18>"
            ],
            "image/svg+xml": "<svg xmlns=\"http://www.w3.org/2000/svg\" width=\"1105.0907421875002\" height=\"200.0\"><line x1=\"34.7588671875\" x2=\"1075.0907421875002\" y1=\"25.0\" y2=\"25.0\" stroke=\"#1967d2\" stroke-width=\"1\" /><line x1=\"34.7588671875\" x2=\"1075.0907421875002\" y1=\"75.0\" y2=\"75.0\" stroke=\"#1967d2\" stroke-width=\"1\" /><line x1=\"34.7588671875\" x2=\"1075.0907421875002\" y1=\"125.0\" y2=\"125.0\" stroke=\"#1967d2\" stroke-width=\"1\" /><line x1=\"34.7588671875\" x2=\"1075.0907421875002\" y1=\"175.0\" y2=\"175.0\" stroke=\"#1967d2\" stroke-width=\"1\" /><line x1=\"104.32212890625\" x2=\"104.32212890625\" y1=\"75.0\" y2=\"125.0\" stroke=\"black\" stroke-width=\"3\" /><line x1=\"253.05998046875\" x2=\"253.05998046875\" y1=\"25.0\" y2=\"75.0\" stroke=\"black\" stroke-width=\"3\" /><line x1=\"356.20587890625\" x2=\"356.20587890625\" y1=\"125.0\" y2=\"175.0\" stroke=\"black\" stroke-width=\"3\" /><line x1=\"504.94373046875006\" x2=\"504.94373046875006\" y1=\"75.0\" y2=\"125.0\" stroke=\"black\" stroke-width=\"3\" /><line x1=\"653.6815820312501\" x2=\"653.6815820312501\" y1=\"25.0\" y2=\"75.0\" stroke=\"black\" stroke-width=\"3\" /><line x1=\"819.1879882812501\" x2=\"819.1879882812501\" y1=\"125.0\" y2=\"175.0\" stroke=\"black\" stroke-width=\"3\" /><line x1=\"967.9258398437502\" x2=\"967.9258398437502\" y1=\"75.0\" y2=\"125.0\" stroke=\"black\" stroke-width=\"3\" /><rect x=\"10.0\" y=\"5.0\" width=\"49.517734375\" height=\"40\" stroke=\"black\" fill=\"white\" stroke-width=\"0\" /><text x=\"34.7588671875\" y=\"25.0\" dominant-baseline=\"middle\" text-anchor=\"middle\" font-size=\"14px\" font-family=\"Arial\">(1, 0): </text><rect x=\"10.0\" y=\"55.0\" width=\"49.517734375\" height=\"40\" stroke=\"black\" fill=\"white\" stroke-width=\"0\" /><text x=\"34.7588671875\" y=\"75.0\" dominant-baseline=\"middle\" text-anchor=\"middle\" font-size=\"14px\" font-family=\"Arial\">(1, 1): </text><rect x=\"10.0\" y=\"105.0\" width=\"49.517734375\" height=\"40\" stroke=\"black\" fill=\"white\" stroke-width=\"0\" /><text x=\"34.7588671875\" y=\"125.0\" dominant-baseline=\"middle\" text-anchor=\"middle\" font-size=\"14px\" font-family=\"Arial\">(1, 2): </text><rect x=\"10.0\" y=\"155.0\" width=\"49.517734375\" height=\"40\" stroke=\"black\" fill=\"white\" stroke-width=\"0\" /><text x=\"34.7588671875\" y=\"175.0\" dominant-baseline=\"middle\" text-anchor=\"middle\" font-size=\"14px\" font-family=\"Arial\">(1, 3): </text><rect x=\"79.517734375\" y=\"105.0\" width=\"49.608789062499994\" height=\"40\" stroke=\"black\" fill=\"white\" stroke-width=\"1\" /><text x=\"104.32212890625\" y=\"125.0\" dominant-baseline=\"middle\" text-anchor=\"middle\" font-size=\"14px\" font-family=\"Arial\">iSwap</text><rect x=\"79.517734375\" y=\"55.0\" width=\"49.608789062499994\" height=\"40\" stroke=\"black\" fill=\"white\" stroke-width=\"1\" /><text x=\"104.32212890625\" y=\"75.0\" dominant-baseline=\"middle\" text-anchor=\"middle\" font-size=\"14px\" font-family=\"Arial\">iSwap</text><rect x=\"79.517734375\" y=\"5.0\" width=\"49.608789062499994\" height=\"40\" stroke=\"black\" fill=\"white\" stroke-width=\"1\" /><text x=\"104.32212890625\" y=\"25.0\" dominant-baseline=\"middle\" text-anchor=\"middle\" font-size=\"14px\" font-family=\"Arial\">S^-1</text><rect x=\"149.1265234375\" y=\"55.0\" width=\"42.3605078125\" height=\"40\" stroke=\"black\" fill=\"white\" stroke-width=\"1\" /><text x=\"170.30677734375\" y=\"75.0\" dominant-baseline=\"middle\" text-anchor=\"middle\" font-size=\"14px\" font-family=\"Arial\">S^-1</text><rect x=\"149.1265234375\" y=\"105.0\" width=\"42.3605078125\" height=\"40\" stroke=\"black\" fill=\"white\" stroke-width=\"1\" /><text x=\"170.30677734375\" y=\"125.0\" dominant-baseline=\"middle\" text-anchor=\"middle\" font-size=\"14px\" font-family=\"Arial\">S^-1</text><rect x=\"211.48703125\" y=\"55.0\" width=\"83.14589843750001\" height=\"40\" stroke=\"black\" fill=\"white\" stroke-width=\"1\" /><text x=\"253.05998046875\" y=\"75.0\" dominant-baseline=\"middle\" text-anchor=\"middle\" font-size=\"14px\" font-family=\"Arial\">iSwap^0.5</text><rect x=\"211.48703125\" y=\"5.0\" width=\"83.14589843750001\" height=\"40\" stroke=\"black\" fill=\"white\" stroke-width=\"1\" /><text x=\"253.05998046875\" y=\"25.0\" dominant-baseline=\"middle\" text-anchor=\"middle\" font-size=\"14px\" font-family=\"Arial\">iSwap</text><rect x=\"211.48703125\" y=\"105.0\" width=\"83.14589843750001\" height=\"40\" stroke=\"black\" fill=\"white\" stroke-width=\"1\" /><text x=\"253.05998046875\" y=\"125.0\" dominant-baseline=\"middle\" text-anchor=\"middle\" font-size=\"14px\" font-family=\"Arial\">S^-1</text><rect x=\"314.6329296875\" y=\"5.0\" width=\"83.14589843750001\" height=\"40\" stroke=\"black\" fill=\"white\" stroke-width=\"1\" /><text x=\"356.20587890625\" y=\"25.0\" dominant-baseline=\"middle\" text-anchor=\"middle\" font-size=\"14px\" font-family=\"Arial\">S^-1</text><rect x=\"314.6329296875\" y=\"155.0\" width=\"83.14589843750001\" height=\"40\" stroke=\"black\" fill=\"white\" stroke-width=\"1\" /><text x=\"356.20587890625\" y=\"175.0\" dominant-baseline=\"middle\" text-anchor=\"middle\" font-size=\"14px\" font-family=\"Arial\">iSwap^0.5</text><rect x=\"314.6329296875\" y=\"105.0\" width=\"83.14589843750001\" height=\"40\" stroke=\"black\" fill=\"white\" stroke-width=\"1\" /><text x=\"356.20587890625\" y=\"125.0\" dominant-baseline=\"middle\" text-anchor=\"middle\" font-size=\"14px\" font-family=\"Arial\">iSwap</text><rect x=\"417.778828125\" y=\"105.0\" width=\"42.3605078125\" height=\"40\" stroke=\"black\" fill=\"white\" stroke-width=\"1\" /><text x=\"438.95908203125003\" y=\"125.0\" dominant-baseline=\"middle\" text-anchor=\"middle\" font-size=\"14px\" font-family=\"Arial\">S^-1</text><rect x=\"417.778828125\" y=\"5.0\" width=\"42.3605078125\" height=\"40\" stroke=\"black\" fill=\"white\" stroke-width=\"1\" /><text x=\"438.95908203125003\" y=\"25.0\" dominant-baseline=\"middle\" text-anchor=\"middle\" font-size=\"14px\" font-family=\"Arial\">S^-1</text><rect x=\"480.13933593750005\" y=\"105.0\" width=\"49.608789062499994\" height=\"40\" stroke=\"black\" fill=\"white\" stroke-width=\"1\" /><text x=\"504.94373046875006\" y=\"125.0\" dominant-baseline=\"middle\" text-anchor=\"middle\" font-size=\"14px\" font-family=\"Arial\">iSwap</text><rect x=\"480.13933593750005\" y=\"55.0\" width=\"49.608789062499994\" height=\"40\" stroke=\"black\" fill=\"white\" stroke-width=\"1\" /><text x=\"504.94373046875006\" y=\"75.0\" dominant-baseline=\"middle\" text-anchor=\"middle\" font-size=\"14px\" font-family=\"Arial\">iSwap</text><rect x=\"549.7481250000001\" y=\"55.0\" width=\"42.3605078125\" height=\"40\" stroke=\"black\" fill=\"white\" stroke-width=\"1\" /><text x=\"570.92837890625\" y=\"75.0\" dominant-baseline=\"middle\" text-anchor=\"middle\" font-size=\"14px\" font-family=\"Arial\">S^-1</text><rect x=\"549.7481250000001\" y=\"105.0\" width=\"42.3605078125\" height=\"40\" stroke=\"black\" fill=\"white\" stroke-width=\"1\" /><text x=\"570.92837890625\" y=\"125.0\" dominant-baseline=\"middle\" text-anchor=\"middle\" font-size=\"14px\" font-family=\"Arial\">S^-1</text><rect x=\"612.1086328125001\" y=\"55.0\" width=\"83.14589843750001\" height=\"40\" stroke=\"black\" fill=\"white\" stroke-width=\"1\" /><text x=\"653.6815820312501\" y=\"75.0\" dominant-baseline=\"middle\" text-anchor=\"middle\" font-size=\"14px\" font-family=\"Arial\">iSwap^0.5</text><rect x=\"612.1086328125001\" y=\"5.0\" width=\"83.14589843750001\" height=\"40\" stroke=\"black\" fill=\"white\" stroke-width=\"1\" /><text x=\"653.6815820312501\" y=\"25.0\" dominant-baseline=\"middle\" text-anchor=\"middle\" font-size=\"14px\" font-family=\"Arial\">iSwap</text><rect x=\"612.1086328125001\" y=\"105.0\" width=\"83.14589843750001\" height=\"40\" stroke=\"black\" fill=\"white\" stroke-width=\"1\" /><text x=\"653.6815820312501\" y=\"125.0\" dominant-baseline=\"middle\" text-anchor=\"middle\" font-size=\"14px\" font-family=\"Arial\">S^-1</text><rect x=\"715.2545312500001\" y=\"5.0\" width=\"42.3605078125\" height=\"40\" stroke=\"black\" fill=\"white\" stroke-width=\"1\" /><text x=\"736.4347851562501\" y=\"25.0\" dominant-baseline=\"middle\" text-anchor=\"middle\" font-size=\"14px\" font-family=\"Arial\">S^-1</text><rect x=\"715.2545312500001\" y=\"105.0\" width=\"42.3605078125\" height=\"40\" stroke=\"black\" fill=\"white\" stroke-width=\"1\" /><text x=\"736.4347851562501\" y=\"125.0\" dominant-baseline=\"middle\" text-anchor=\"middle\" font-size=\"14px\" font-family=\"Arial\">S^-1</text><rect x=\"777.6150390625002\" y=\"155.0\" width=\"83.14589843750001\" height=\"40\" stroke=\"black\" fill=\"white\" stroke-width=\"1\" /><text x=\"819.1879882812501\" y=\"175.0\" dominant-baseline=\"middle\" text-anchor=\"middle\" font-size=\"14px\" font-family=\"Arial\">iSwap^0.5</text><rect x=\"777.6150390625002\" y=\"105.0\" width=\"83.14589843750001\" height=\"40\" stroke=\"black\" fill=\"white\" stroke-width=\"1\" /><text x=\"819.1879882812501\" y=\"125.0\" dominant-baseline=\"middle\" text-anchor=\"middle\" font-size=\"14px\" font-family=\"Arial\">iSwap</text><rect x=\"880.7609375000002\" y=\"105.0\" width=\"42.3605078125\" height=\"40\" stroke=\"black\" fill=\"white\" stroke-width=\"1\" /><text x=\"901.9411914062501\" y=\"125.0\" dominant-baseline=\"middle\" text-anchor=\"middle\" font-size=\"14px\" font-family=\"Arial\">S^-1</text><rect x=\"943.1214453125002\" y=\"105.0\" width=\"49.608789062499994\" height=\"40\" stroke=\"black\" fill=\"white\" stroke-width=\"1\" /><text x=\"967.9258398437502\" y=\"125.0\" dominant-baseline=\"middle\" text-anchor=\"middle\" font-size=\"14px\" font-family=\"Arial\">iSwap</text><rect x=\"943.1214453125002\" y=\"55.0\" width=\"49.608789062499994\" height=\"40\" stroke=\"black\" fill=\"white\" stroke-width=\"1\" /><text x=\"967.9258398437502\" y=\"75.0\" dominant-baseline=\"middle\" text-anchor=\"middle\" font-size=\"14px\" font-family=\"Arial\">iSwap</text><rect x=\"1012.7302343750004\" y=\"55.0\" width=\"42.3605078125\" height=\"40\" stroke=\"black\" fill=\"white\" stroke-width=\"1\" /><text x=\"1033.9104882812503\" y=\"75.0\" dominant-baseline=\"middle\" text-anchor=\"middle\" font-size=\"14px\" font-family=\"Arial\">S^-1</text><rect x=\"1012.7302343750004\" y=\"105.0\" width=\"42.3605078125\" height=\"40\" stroke=\"black\" fill=\"white\" stroke-width=\"1\" /><text x=\"1033.9104882812503\" y=\"125.0\" dominant-baseline=\"middle\" text-anchor=\"middle\" font-size=\"14px\" font-family=\"Arial\">S^-1</text></svg>"
          },
          "metadata": {
            "tags": []
          },
          "execution_count": 9
        }
      ]
    },
    {
      "cell_type": "code",
      "metadata": {
        "id": "T5psWcOAJZDh"
      },
      "source": [
        ""
      ],
      "execution_count": null,
      "outputs": []
    }
  ]
}