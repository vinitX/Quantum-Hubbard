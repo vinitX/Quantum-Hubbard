{
  "nbformat": 4,
  "nbformat_minor": 0,
  "metadata": {
    "colab": {
      "name": "Hubbard: Lanczos_2D",
      "provenance": [],
      "collapsed_sections": []
    },
    "kernelspec": {
      "display_name": "Python 3",
      "name": "python3"
    }
  },
  "cells": [
    {
      "cell_type": "code",
      "metadata": {
        "id": "KpHyPor0q4qs"
      },
      "source": [
        "from scipy.sparse import lil_matrix\n",
        "from scipy.sparse.linalg import eigsh, norm\n",
        "import numpy as np\n",
        "import matplotlib.pyplot as plt\n",
        "import itertools\n",
        "import operator as op\n",
        "from functools import reduce\n",
        "import time"
      ],
      "execution_count": null,
      "outputs": []
    },
    {
      "cell_type": "code",
      "metadata": {
        "id": "_gfQ4kWiTYFw"
      },
      "source": [
        "def ncr(n, r):\n",
        "    r = min(r, n-r)\n",
        "    numer = reduce(op.mul, range(n, n-r, -1), 1)\n",
        "    denom = reduce(op.mul, range(1, r+1), 1)\n",
        "    return numer // denom  # or / in Python 2"
      ],
      "execution_count": null,
      "outputs": []
    },
    {
      "cell_type": "code",
      "metadata": {
        "id": "SRgfQaAqSCGU"
      },
      "source": [
        "def binary_to_comb(num):\n",
        "  a=[]\n",
        "  for i in range(len(num)):\n",
        "    if num[i]=='1': a.append(i)\n",
        "  \n",
        "  print(a)\n",
        "  comb=0\n",
        "  for i in range(len(a)):\n",
        "    comb+=ncr(a[i],i)\n",
        "  return comb"
      ],
      "execution_count": null,
      "outputs": []
    },
    {
      "cell_type": "code",
      "metadata": {
        "id": "mDF7maasb5E5"
      },
      "source": [
        "def choose2num(thelist):\n",
        "    n = len(thelist)\n",
        "    k = sum([int(i) for i in thelist]) # total number of 1's\n",
        "    if ((n==0) or (k==0) or (n==k)): \n",
        "        return 0 # base cases of form [], [0,0,...] or [1,1,...]\n",
        "    num = 0\n",
        "    for firstbit in range(n-k+1):\n",
        "        if (thelist[firstbit] == '1'):\n",
        "            return num + choose2num(thelist[firstbit+1:])\n",
        "        num += ncr(n-firstbit-1,k-1)\n",
        "\n",
        "def num2choose(num,n,k):\n",
        "    if (n < k) or (k < 0): raise ValueError(\"num2choose: \" + str(n) + \", \" + str(k))\n",
        "    if (n==k): return '1'*n  # base case of form [1,1,...]\n",
        "    if (k==0): return '0'*n  # base case of form [0,0,...]\n",
        "    num %= ncr(n,k)\n",
        "    thedigit = 0\n",
        "    sum = 0\n",
        "    for thedigit in range(n-k+1):\n",
        "        oldsum = sum\n",
        "        sum += ncr(n-1-thedigit,k-1)\n",
        "        if (num < sum):\n",
        "            return '0'*thedigit + '1' + num2choose(num-oldsum, n-(thedigit+1),k-1)"
      ],
      "execution_count": null,
      "outputs": []
    },
    {
      "cell_type": "code",
      "metadata": {
        "colab": {
          "base_uri": "https://localhost:8080/"
        },
        "id": "nJj92ZimcDZT",
        "outputId": "c575f3cb-6f5f-4a61-ce3e-a56b2c9bb944"
      },
      "source": [
        "num2choose(95,10,3), choose2num(['0', '0', '0', '1', '0', '0', '1', '0', '1', '0'])"
      ],
      "execution_count": null,
      "outputs": [
        {
          "output_type": "execute_result",
          "data": {
            "text/plain": [
              "('0001001010', 95)"
            ]
          },
          "metadata": {
            "tags": []
          },
          "execution_count": 167
        }
      ]
    },
    {
      "cell_type": "code",
      "metadata": {
        "id": "Tu397HXlaS61"
      },
      "source": [
        "def Small_Hamiltonian(H,U,n,m):\n",
        "  for i in range(ncr(2*n*n, m)):\n",
        "    key=num2choose(i,2*n*n,m)\n",
        "    key=(2*n*n-len(key))*'0' + key #Appending additional zeros in the beginning\n",
        "    #print(i,key)\n",
        "    key=[x for x in key]\n",
        "\n",
        "    #Calculate Self-interaction energies\n",
        "    for j in range(0,2*n*n,2):\n",
        "      if key[j]=='1' and key[j+1]=='1':\n",
        "        H[i,i]+=U\n",
        "    \n",
        "    #Calculate Hopping energies\n",
        "    for j in range(n):\n",
        "      for k in range(2*n):\n",
        "        if key[j*2*n+k]=='1':\n",
        "          #Hopp right\n",
        "          new_key=key.copy()\n",
        "          new_key[j*2*n+k]='0'\n",
        "          if k+2<2*n and key[j*2*n+k+2]=='0':\n",
        "            new_key[j*2*n+k+2]='1'\n",
        "            str1=\"\"\n",
        "            new_key=str1.join(new_key)\n",
        "            H[i,choose2num(new_key)]=t\n",
        "\n",
        "          #Hopp left\n",
        "          new_key=key.copy()\n",
        "          new_key[j*2*n+k]='0'\n",
        "          if k-2>=0 and key[j*2*n+k-2]=='0':\n",
        "            new_key[j*2*n+k-2]='1'\n",
        "            str1=\"\"\n",
        "            new_key=str1.join(new_key)\n",
        "            H[i,choose2num(new_key)]=t\n",
        "\n",
        "          #Hopp bottom\n",
        "          new_key=key.copy()\n",
        "          new_key[j*2*n+k]='0'\n",
        "          if j+1<n and key[(j+1)*2*n+k]=='0':\n",
        "            new_key[(j+1)*2*n+k]='1'\n",
        "            str1=\"\"\n",
        "            new_key=str1.join(new_key)\n",
        "            H[i,choose2num(new_key)]=t\n",
        "\n",
        "          #Hopp top\n",
        "          new_key=key.copy()\n",
        "          new_key[j*2*n+k]='0'\n",
        "          if j>0 and key[(j-1)*2*n+k]=='0':\n",
        "            new_key[(j-1)*2*n+k]='1'\n",
        "            str1=\"\"\n",
        "            new_key=str1.join(new_key)\n",
        "            H[i,choose2num(new_key)]=t\n",
        "            '''print(\"top\", i,j,k)\n",
        "            graphic(str1.join(key))\n",
        "            graphic(new_key)'''\n",
        "\n",
        "  return H"
      ],
      "execution_count": null,
      "outputs": []
    },
    {
      "cell_type": "code",
      "metadata": {
        "id": "50A4Z0vA4pL4"
      },
      "source": [
        "def graphic(key):\n",
        "  n=int(np.sqrt(len(key)/2))\n",
        "  for i in range(n):\n",
        "    print(key[i*2*n:(i+1)*2*n])"
      ],
      "execution_count": null,
      "outputs": []
    },
    {
      "cell_type": "code",
      "metadata": {
        "id": "LdtfoM01plaq"
      },
      "source": [
        "def Hamiltonian(H,U,n,m):\n",
        "  for i in range(4**(n**2)):\n",
        "    key=bin(i)[2:]\n",
        "    key=(2*n*n-len(key))*'0' + key #Appending additional zeros in the beginning\n",
        "\n",
        "    key=[x for x in key]\n",
        "\n",
        "    #Calculate Self-interaction energies\n",
        "    for j in range(0,2*n*n,2):\n",
        "      if key[j]=='1' and key[j+1]=='1':\n",
        "        H[i,i]+=U\n",
        "    \n",
        "    #Calculate Hopping energies\n",
        "    for j in range(n):\n",
        "      for k in range(2*n):\n",
        "        if key[j*2*n+k]=='1':\n",
        "          #Hopp right\n",
        "          new_key=key.copy()\n",
        "          new_key[j*2*n+k]='0'\n",
        "          if key[j*2*n+(k+2)%(2*n)]=='0':\n",
        "            new_key[j*2*n+(k+2)%(2*n)]='1'\n",
        "            str1=\"\"\n",
        "            new_key=str1.join(new_key)\n",
        "            H[i,int(new_key,2)]=t\n",
        "\n",
        "          #Hopp left\n",
        "          new_key=key.copy()\n",
        "          new_key[j*2*n+k]='0'\n",
        "          if key[j*2*n+(k-2)%(2*n)]=='0':\n",
        "            new_key[j*2*n+(k-2)%(2*n)]='1'\n",
        "            str1=\"\"\n",
        "            new_key=str1.join(new_key)\n",
        "            H[i,int(new_key,2)]=t\n",
        "\n",
        "          #Hopp bottom\n",
        "          new_key=key.copy()\n",
        "          new_key[j*2*n+k]='0'\n",
        "          if key[((j+1)%n)*2*n+k]=='0':\n",
        "            new_key[((j+1)%n)*2*n+k]='1'\n",
        "            str1=\"\"\n",
        "            new_key=str1.join(new_key)\n",
        "            H[i,int(new_key,2)]=t\n",
        "\n",
        "          #Hopp top\n",
        "          new_key=key.copy()\n",
        "          new_key[j*2*n+k]='0'\n",
        "          if key[((j-1)%n)*2*n+k]=='0':\n",
        "            new_key[((j-1)%n)*2*n+k]='1'\n",
        "            str1=\"\"\n",
        "            new_key=str1.join(new_key)\n",
        "            H[i,int(new_key,2)]=t\n",
        "\n",
        "  return H"
      ],
      "execution_count": null,
      "outputs": []
    },
    {
      "cell_type": "code",
      "metadata": {
        "id": "bFQOwmgcPc2r"
      },
      "source": [
        "def Hubbard(t,U,n,m):\n",
        "  k=ncr(2*n*n, m) #total no. of states\n",
        "  #k=4**(n**2)\n",
        "\n",
        "  H = lil_matrix((k,k))\n",
        "  tm=time.time()\n",
        "  H=Small_Hamiltonian(H,U,n,m)\n",
        "  print(time.time()-tm)\n",
        "\n",
        "  plt.figure(figsize=(8,8))\n",
        "  plt.spy(H,markersize=0.1)\n",
        "  plt.show()\n",
        "  tm=time.time()\n",
        "  l,v=eigsh(H, 1, which='SA') #Only one eigenvalue\n",
        "  print(\"U: \",U,\"  m: \",m,\"  \", time.time()-tm)\n",
        "\n",
        "  return l, v[:,0]"
      ],
      "execution_count": null,
      "outputs": []
    },
    {
      "cell_type": "code",
      "metadata": {
        "id": "2mkg0oDMy9_D"
      },
      "source": [
        "def most_stable_config(gs,n,m):  #Most stable configurations\n",
        "  print(\"Most stable configurations:\")\n",
        "\n",
        "  keys=np.argsort(np.abs(gs))\n",
        "\n",
        "  for i in range(-1,-5,-1):\n",
        "    temp=num2choose(keys[i],2*n*n,m)\n",
        "    temp=(2*n*n-len(temp))*'0' + temp\n",
        "    print(round(gs[keys[i]],3))\n",
        "    graphic(temp)"
      ],
      "execution_count": null,
      "outputs": []
    },
    {
      "cell_type": "code",
      "metadata": {
        "id": "iNetX2kWE642"
      },
      "source": [
        "def pairing_order(gs,n,m):\n",
        "  gs_new=lil_matrix((ncr(2*n*n,m+2),1))\n",
        "\n",
        "  for i in range(len(gs)):\n",
        "    key=num2choose(i,2*n*n,m)\n",
        "    key=(2*n*n-len(key))*'0' + key #Appending additional zeros in the beginning\n",
        "\n",
        "    key=[x for x in key]\n",
        "    \n",
        "    #Calculate Pairing Order\n",
        "    for j in range(n):\n",
        "      for k in range(2*n):\n",
        "        if key[j*2*n+k]=='0':\n",
        "          if k%2==0: #up_spin   \n",
        "            for l in [k-1,k+3]: #left_right\n",
        "              new_key=key.copy()\n",
        "              new_key[j*2*n+k]='1'\n",
        "\n",
        "              if key[j*2*n+l%(2*n)]=='0':\n",
        "                new_key[j*2*n+l%(2*n)]='1'\n",
        "                str1=\"\"\n",
        "                new_key=str1.join(new_key)\n",
        "                gs_new[choose2num(new_key),0]+=(gs[i]**2)\n",
        "\n",
        "            for l in [j-1,j+1]: #top_bottom\n",
        "              new_key=key.copy()\n",
        "              new_key[j*2*n+k]='1'\n",
        "\n",
        "              if key[(l%n)*2*n+k+1]=='0':\n",
        "                new_key[(l%n)*2*n+k+1]='1'\n",
        "                str1=\"\"\n",
        "                new_key=str1.join(new_key)\n",
        "                gs_new[choose2num(new_key),0]+=(gs[i]**2)\n",
        "\n",
        "          if k%2==0: #down_spin   \n",
        "            for l in [k-3,k+1]: #left_right\n",
        "              new_key=key.copy()\n",
        "              new_key[j*2*n+k]='1'\n",
        "\n",
        "              if key[j*2*n+l%(2*n)]=='0':\n",
        "                new_key[j*2*n+l%(2*n)]='1'\n",
        "                str1=\"\"\n",
        "                new_key=str1.join(new_key)\n",
        "                gs_new[choose2num(new_key),0]+=(gs[i]**2)\n",
        "\n",
        "            for l in [j-1,j+1]: #top_bottom\n",
        "              new_key=key.copy()\n",
        "              new_key[j*2*n+k]='1'\n",
        "\n",
        "              if key[(l%n)*2*n+k-1]=='0':\n",
        "                new_key[(l%n)*2*n+k-1]='1'\n",
        "                str1=\"\"\n",
        "                new_key=str1.join(new_key)\n",
        "                gs_new[choose2num(new_key),0]+=(gs[i]**2)\n",
        "\n",
        "  return gs_new"
      ],
      "execution_count": null,
      "outputs": []
    },
    {
      "cell_type": "code",
      "metadata": {
        "id": "Y2Jc1azlylqQ"
      },
      "source": [
        "def electron_density(gs,n):\n",
        "  l=len(gs)\n",
        "  density=np.zeros(2*n*n)\n",
        "  \n",
        "  for i in range(l):\n",
        "    temp=num2choose(i,2*n*n,m) #bin(i)[2:]\n",
        "    temp=(2*n*n-len(temp))*'0' + temp\n",
        "    temp=np.array([int(x) for x in temp])\n",
        "    density+=(gs[i]**2)*temp\n",
        "  return density\n",
        "\n",
        "def local_electron_density(gs,n):\n",
        "  density=electron_density(gs,n)\n",
        "\n",
        "  loc=np.zeros(n*n)\n",
        "  for i in range(n*n):\n",
        "    loc[i]=density[2*i]+density[2*i+1]\n",
        "  return loc\n",
        "\n",
        "def magnetic_moment(gs,n):\n",
        "  density=electron_density(gs,n)\n",
        "\n",
        "  mag=np.zeros(n*n)\n",
        "  for i in range(n*n):\n",
        "    mag[i]=density[2*i]-density[2*i+1]\n",
        "  return mag"
      ],
      "execution_count": null,
      "outputs": []
    },
    {
      "cell_type": "code",
      "metadata": {
        "id": "WSXRGPKTFmVB"
      },
      "source": [
        "t=-1\n",
        "U=0\n",
        "n=4 #no. of sites\n",
        "m=4 #no. of electrons"
      ],
      "execution_count": null,
      "outputs": []
    },
    {
      "cell_type": "code",
      "metadata": {
        "id": "8uaCzgWVwEEE",
        "colab": {
          "base_uri": "https://localhost:8080/",
          "height": 537
        },
        "outputId": "eb3e9a31-9f10-4422-806b-a828843b579a"
      },
      "source": [
        "tm=time.time()\n",
        "l,gs=Hubbard(t,U,n,m)\n",
        "print(time.time()-tm)"
      ],
      "execution_count": null,
      "outputs": [
        {
          "output_type": "stream",
          "text": [
            "28.245449781417847\n"
          ],
          "name": "stdout"
        },
        {
          "output_type": "display_data",
          "data": {
            "image/png": "[encoded data removed]",
            "text/plain": [
              "<Figure size 576x576 with 1 Axes>"
            ]
          },
          "metadata": {
            "tags": [],
            "needs_background": "light"
          }
        },
        {
          "output_type": "stream",
          "text": [
            "U:  0   m:  4    11.952828645706177\n",
            "40.72394371032715\n"
          ],
          "name": "stdout"
        }
      ]
    },
    {
      "cell_type": "code",
      "metadata": {
        "colab": {
          "base_uri": "https://localhost:8080/"
        },
        "id": "WymTdzOG3uTS",
        "outputId": "25399b7e-82c5-4fc1-8025-4d2805d31a1e"
      },
      "source": [
        "l"
      ],
      "execution_count": null,
      "outputs": [
        {
          "output_type": "execute_result",
          "data": {
            "text/plain": [
              "array([-12.03116853])"
            ]
          },
          "metadata": {
            "tags": []
          },
          "execution_count": 177
        }
      ]
    },
    {
      "cell_type": "code",
      "metadata": {
        "colab": {
          "base_uri": "https://localhost:8080/"
        },
        "id": "4flX2o4ZrvRS",
        "outputId": "b460571c-ff12-49b8-befe-d1d9159d6b8d"
      },
      "source": [
        "np.reshape(local_electron_density(gs,n),(n,n))"
      ],
      "execution_count": null,
      "outputs": [
        {
          "output_type": "execute_result",
          "data": {
            "text/plain": [
              "array([[0.1101599 , 0.23226635, 0.23226635, 0.1101599 ],\n",
              "       [0.23226635, 0.42530739, 0.42530739, 0.23226635],\n",
              "       [0.23226635, 0.42530739, 0.42530739, 0.23226635],\n",
              "       [0.1101599 , 0.23226635, 0.23226635, 0.1101599 ]])"
            ]
          },
          "metadata": {
            "tags": []
          },
          "execution_count": 178
        }
      ]
    },
    {
      "cell_type": "code",
      "metadata": {
        "colab": {
          "base_uri": "https://localhost:8080/"
        },
        "id": "tYWRAhKzu-XU",
        "outputId": "cf3f6cff-1b3a-4538-ab05-b6f944154a33"
      },
      "source": [
        "np.reshape(magnetic_moment(gs,n),(n,n))"
      ],
      "execution_count": null,
      "outputs": [
        {
          "output_type": "execute_result",
          "data": {
            "text/plain": [
              "array([[-4.16333634e-17, -4.44089210e-16, -5.41233725e-16,\n",
              "        -3.19189120e-16],\n",
              "       [-4.16333634e-17, -3.60822483e-16, -3.05311332e-16,\n",
              "        -8.32667268e-17],\n",
              "       [ 6.38378239e-16,  3.05311332e-16,  5.55111512e-17,\n",
              "         2.91433544e-16],\n",
              "       [ 4.23272528e-16,  3.19189120e-16,  1.80411242e-16,\n",
              "         3.33066907e-16]])"
            ]
          },
          "metadata": {
            "tags": []
          },
          "execution_count": 179
        }
      ]
    },
    {
      "cell_type": "code",
      "metadata": {
        "colab": {
          "base_uri": "https://localhost:8080/"
        },
        "id": "camMwZmJvEEn",
        "outputId": "064923a3-5d0a-4b57-f180-e5a5509db3e7"
      },
      "source": [
        "tm=time.time()\n",
        "po=pairing_order(gs,n,m)\n",
        "print(time.time()-tm)"
      ],
      "execution_count": null,
      "outputs": [
        {
          "output_type": "stream",
          "text": [
            "301.9879484176636\n"
          ],
          "name": "stdout"
        }
      ]
    },
    {
      "cell_type": "code",
      "metadata": {
        "colab": {
          "base_uri": "https://localhost:8080/"
        },
        "id": "akWSRx6TI3YW",
        "outputId": "32f6bb7b-b311-4227-f5cd-ee91bcd95cd2"
      },
      "source": [
        "norm(po)"
      ],
      "execution_count": null,
      "outputs": [
        {
          "output_type": "execute_result",
          "data": {
            "text/plain": [
              "0.2553116410277821"
            ]
          },
          "metadata": {
            "tags": []
          },
          "execution_count": 181
        }
      ]
    },
    {
      "cell_type": "code",
      "metadata": {
        "id": "3gftZHQiULpz"
      },
      "source": [
        ""
      ],
      "execution_count": null,
      "outputs": []
    }
  ]
}