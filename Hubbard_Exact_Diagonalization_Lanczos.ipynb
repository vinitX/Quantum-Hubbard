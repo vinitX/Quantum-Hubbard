{
  "nbformat": 4,
  "nbformat_minor": 0,
  "metadata": {
    "colab": {
      "name": "Hubbard: Exact Diagonalization_Lanczos",
      "provenance": [],
      "collapsed_sections": []
    },
    "kernelspec": {
      "display_name": "Python 3",
      "name": "python3"
    }
  },
  "cells": [
    {
      "cell_type": "code",
      "metadata": {
        "id": "KpHyPor0q4qs"
      },
      "source": [
        "from scipy.sparse import lil_matrix\n",
        "from scipy.sparse.linalg import eigsh\n",
        "import numpy as np\n",
        "import matplotlib.pyplot as plt\n",
        "import itertools\n",
        "import operator as op\n",
        "from functools import reduce\n",
        "import time"
      ],
      "execution_count": null,
      "outputs": []
    },
    {
      "cell_type": "code",
      "metadata": {
        "id": "_gfQ4kWiTYFw"
      },
      "source": [
        "def ncr(n, r):\n",
        "    r = min(r, n-r)\n",
        "    numer = reduce(op.mul, range(n, n-r, -1), 1)\n",
        "    denom = reduce(op.mul, range(1, r+1), 1)\n",
        "    return numer // denom  # or / in Python 2"
      ],
      "execution_count": null,
      "outputs": []
    },
    {
      "cell_type": "code",
      "metadata": {
        "id": "Ak-vgPCC4ZsU",
        "colab": {
          "base_uri": "https://localhost:8080/",
          "height": 52
        },
        "outputId": "0d6a453d-dc10-43c6-e004-be11d89ce7fd"
      },
      "source": [
        "'''\n",
        "C1 = {'up': lil_matrix((4,4)), 'down': lil_matrix((4,4))}  # single-site creation/anihilation operators\n",
        "C1['up'][0,1] = 1\n",
        "C1['up'][2,3] = 1\n",
        "C1['down'][0,2] = 1\n",
        "C1['down'][1,3] = 1\n",
        "\n",
        "C2 = {'up': kron(C1['up'],C1['up']), 'down': kron(C1['down'],C1['down'])}'''"
      ],
      "execution_count": null,
      "outputs": [
        {
          "output_type": "execute_result",
          "data": {
            "application/vnd.google.colaboratory.intrinsic+json": {
              "type": "string"
            },
            "text/plain": [
              "\"\\nC1 = {'up': lil_matrix((4,4)), 'down': lil_matrix((4,4))}  # single-site creation/anihilation operators\\nC1['up'][0,1] = 1\\nC1['up'][2,3] = 1\\nC1['down'][0,2] = 1\\nC1['down'][1,3] = 1\\n\\nC2 = {'up': kron(C1['up'],C1['up']), 'down': kron(C1['down'],C1['down'])}\""
            ]
          },
          "metadata": {
            "tags": []
          },
          "execution_count": 121
        }
      ]
    },
    {
      "cell_type": "code",
      "metadata": {
        "id": "Tu397HXlaS61"
      },
      "source": [
        "def Complete_Hamiltonian(H,U,n):\n",
        "  k=4**n #total no. of states\n",
        "\n",
        "  for i in range(k):\n",
        "    key=bin(i)[2:]\n",
        "    key=(2*n-len(key))*'0' + key #Appending additional zeros in the beginning\n",
        "\n",
        "    key=[x for x in key]\n",
        "\n",
        "    #Calculate Self-interaction energies\n",
        "    for j in range(0,2*n,2):\n",
        "      if key[j]=='1' and key[j+1]=='1':\n",
        "        H[i,i]+=U\n",
        "    \n",
        "    #Calculate Hopping energies\n",
        "    for j in range(2*n):\n",
        "      if key[j]=='1':\n",
        "        #Hopp right\n",
        "        new_key=key.copy()\n",
        "        new_key[j]='0'\n",
        "        if j+2<2*n and key[j+2]=='0':\n",
        "          new_key[j+2]='1'\n",
        "          str1=\"\"\n",
        "          new_key=str1.join(new_key)\n",
        "          H[i,int(new_key,2)]=t\n",
        "\n",
        "        #Hopp left\n",
        "        new_key=key.copy()\n",
        "        new_key[j]='0'\n",
        "        if j-2>=0 and key[j-2]=='0':\n",
        "          new_key[j-2]='1'\n",
        "          str1=\"\"\n",
        "          new_key=str1.join(new_key)\n",
        "          H[i,int(new_key,2)]=t\n",
        "\n",
        "  #plt.imshow(H)\n",
        "  #plt.show()\n",
        "  return H"
      ],
      "execution_count": null,
      "outputs": []
    },
    {
      "cell_type": "code",
      "metadata": {
        "id": "bFQOwmgcPc2r"
      },
      "source": [
        "def Hubbard(t,U,n):\n",
        "  k=4**n #total no. of states\n",
        "\n",
        "  H = lil_matrix((k,k))\n",
        "  #tm=time.time()\n",
        "  H=Complete_Hamiltonian(H,U,n)\n",
        "  #print(time.time()-tm)\n",
        "\n",
        "  tm=time.time()\n",
        "  l,v=eigsh(H, 1, which='SA') #Only one eigenvalue\n",
        "  print(\"U: \",U,\"  \", time.time()-tm)\n",
        "\n",
        "  return l, v[:,0]"
      ],
      "execution_count": null,
      "outputs": []
    },
    {
      "cell_type": "code",
      "metadata": {
        "id": "PKUhx1aN4AAA"
      },
      "source": [
        "def pairing_order(gs,n):\n",
        "  gs_new=np.zeros(len(gs))\n",
        "\n",
        "  for i in range(len(gs)):\n",
        "    key=bin(i)[2:]\n",
        "    key=(2*n-len(key))*'0' + key #Appending additional zeros in the beginning\n",
        "\n",
        "    key=[x for x in key]\n",
        "    \n",
        "    #Calculate Pairing Order\n",
        "    for j in range(0,2*n,2): #up_spin\n",
        "      if key[j]=='0':\n",
        "        for k in [j-1,j+3]:\n",
        "          new_key=key.copy()\n",
        "          new_key[j]='1'\n",
        "          if k<2*n and k>=0 and key[k]=='0':\n",
        "            new_key[k]='1'\n",
        "            str1=\"\"\n",
        "            new_key=str1.join(new_key)\n",
        "            gs_new[int(new_key,2)]+=(gs[i]**2)\n",
        "\n",
        "    for j in range(1,2*n,2): #down_spin\n",
        "      if key[j]=='0':\n",
        "        for k in [j-3,j+1]:\n",
        "          new_key=key.copy()\n",
        "          new_key[j]='1'\n",
        "          if k<2*n and k>=0 and key[k]=='0':\n",
        "            new_key[k]='1'\n",
        "            str1=\"\"\n",
        "            new_key=str1.join(new_key)\n",
        "            gs_new[int(new_key,2)]+=(gs[i]**2)\n",
        "\n",
        "  return gs_new"
      ],
      "execution_count": null,
      "outputs": []
    },
    {
      "cell_type": "code",
      "metadata": {
        "id": "KQgNmAItOI1r"
      },
      "source": [
        "def electron_density(gs,n):\n",
        "  l=len(gs)\n",
        "  density=np.zeros(2*n)\n",
        "  for i in range(l):\n",
        "    temp=bin(i)[2:]\n",
        "    temp=(2*n-len(temp))*'0' + temp\n",
        "    temp=np.array([int(x) for x in temp])\n",
        "    density+=(gs[i]**2)*temp\n",
        "  return density"
      ],
      "execution_count": null,
      "outputs": []
    },
    {
      "cell_type": "code",
      "metadata": {
        "id": "gsDgvtHhXPVW"
      },
      "source": [
        "def local_electron_density(gs,n):\n",
        "  density=electron_density(gs,n)\n",
        "\n",
        "  loc=np.zeros(n)\n",
        "  for i in range(n):\n",
        "    loc[i]=density[2*i]+density[2*i+1]\n",
        "  return loc"
      ],
      "execution_count": null,
      "outputs": []
    },
    {
      "cell_type": "code",
      "metadata": {
        "id": "4FeCOQJhS103"
      },
      "source": [
        "def magnetic_moment(gs,n):\n",
        "  density=electron_density(gs,n)\n",
        "\n",
        "  mag=np.zeros(n)\n",
        "  for i in range(n):\n",
        "    mag[i]=density[2*i]-density[2*i+1]\n",
        "  return mag"
      ],
      "execution_count": null,
      "outputs": []
    },
    {
      "cell_type": "code",
      "metadata": {
        "id": "WSXRGPKTFmVB"
      },
      "source": [
        "t=-1\n",
        "n=10 #no. of sites\n",
        "U=8"
      ],
      "execution_count": null,
      "outputs": []
    },
    {
      "cell_type": "code",
      "metadata": {
        "colab": {
          "base_uri": "https://localhost:8080/"
        },
        "id": "fvm_LIJ_Zfmh",
        "outputId": "9533408a-1f81-4af8-b302-4110bac84035"
      },
      "source": [
        "tm=time.time()\n",
        "l,gs=Hubbard(t,U,n)\n",
        "print(l, time.time()-tm)"
      ],
      "execution_count": null,
      "outputs": [
        {
          "output_type": "stream",
          "text": [
            "U:  8    852.0477025508881\n",
            "[-6.85773887] 925.3455739021301\n"
          ],
          "name": "stdout"
        }
      ]
    },
    {
      "cell_type": "code",
      "metadata": {
        "colab": {
          "base_uri": "https://localhost:8080/"
        },
        "id": "sn_O2NfNcMgD",
        "outputId": "25e46fa4-c670-42b6-c95c-050351e227d3"
      },
      "source": [
        "magnetic_moment(gs,n)"
      ],
      "execution_count": null,
      "outputs": [
        {
          "output_type": "execute_result",
          "data": {
            "text/plain": [
              "array([ 4.68514116e-14,  2.07056594e-14, -2.85327317e-14,  1.37667655e-14,\n",
              "        3.00870440e-14, -2.91988655e-14, -1.63202785e-14,  2.70339306e-14,\n",
              "       -1.95399252e-14, -4.59077221e-14])"
            ]
          },
          "metadata": {
            "tags": []
          },
          "execution_count": 130
        }
      ]
    },
    {
      "cell_type": "code",
      "metadata": {
        "colab": {
          "base_uri": "https://localhost:8080/"
        },
        "id": "z4RzrWN-1sul",
        "outputId": "63dbf11a-7915-4548-bee5-866bd3ad72a1"
      },
      "source": [
        "local_electron_density(gs,n)"
      ],
      "execution_count": null,
      "outputs": [
        {
          "output_type": "execute_result",
          "data": {
            "text/plain": [
              "array([0.58302895, 0.59947571, 0.63476488, 0.56138918, 0.62134128,\n",
              "       0.62134128, 0.56138918, 0.63476488, 0.59947571, 0.58302895])"
            ]
          },
          "metadata": {
            "tags": []
          },
          "execution_count": 131
        }
      ]
    },
    {
      "cell_type": "code",
      "metadata": {
        "id": "pCahTX4XAZCh"
      },
      "source": [
        "po=pairing_order(gs,n)"
      ],
      "execution_count": null,
      "outputs": []
    },
    {
      "cell_type": "code",
      "metadata": {
        "colab": {
          "base_uri": "https://localhost:8080/"
        },
        "id": "wtLpwVH6B4Ht",
        "outputId": "4e70f265-b3a0-4958-8001-a1b29e3585ed"
      },
      "source": [
        "plt.plot(np.sort(po))"
      ],
      "execution_count": null,
      "outputs": [
        {
          "output_type": "execute_result",
          "data": {
            "text/plain": [
              "[<matplotlib.lines.Line2D at 0x7fd636833d10>]"
            ]
          },
          "metadata": {
            "tags": []
          },
          "execution_count": 133
        },
        {
          "output_type": "display_data",
          "data": {
            "image/png": "[encoded data removed]",
            "text/plain": [
              "<Figure size 432x288 with 1 Axes>"
            ]
          },
          "metadata": {
            "tags": [],
            "needs_background": "light"
          }
        }
      ]
    },
    {
      "cell_type": "code",
      "metadata": {
        "colab": {
          "base_uri": "https://localhost:8080/"
        },
        "id": "Ou9YL4LdCdk6",
        "outputId": "8700c359-0c45-4b41-891a-16b9fda2d1b7"
      },
      "source": [
        "np.linalg.norm(po)"
      ],
      "execution_count": null,
      "outputs": [
        {
          "output_type": "execute_result",
          "data": {
            "text/plain": [
              "0.24566696490697704"
            ]
          },
          "metadata": {
            "tags": []
          },
          "execution_count": 134
        }
      ]
    },
    {
      "cell_type": "code",
      "metadata": {
        "id": "ivJFTjtRCe6B"
      },
      "source": [
        ""
      ],
      "execution_count": null,
      "outputs": []
    }
  ]
}