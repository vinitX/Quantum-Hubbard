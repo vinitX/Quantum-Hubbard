{
  "nbformat": 4,
  "nbformat_minor": 0,
  "metadata": {
    "colab": {
      "name": "Hubbard: Exact Diagonalization",
      "provenance": [],
      "collapsed_sections": []
    },
    "kernelspec": {
      "display_name": "Python 3",
      "name": "python3"
    }
  },
  "cells": [
    {
      "cell_type": "code",
      "metadata": {
        "id": "KpHyPor0q4qs"
      },
      "source": [
        "import numpy as np\n",
        "import matplotlib.pyplot as plt\n",
        "import itertools\n",
        "import operator as op\n",
        "from functools import reduce"
      ],
      "execution_count": null,
      "outputs": []
    },
    {
      "cell_type": "code",
      "metadata": {
        "id": "_gfQ4kWiTYFw"
      },
      "source": [
        "def ncr(n, r):\n",
        "    r = min(r, n-r)\n",
        "    numer = reduce(op.mul, range(n, n-r, -1), 1)\n",
        "    denom = reduce(op.mul, range(1, r+1), 1)\n",
        "    return numer // denom  # or / in Python 2"
      ],
      "execution_count": null,
      "outputs": []
    },
    {
      "cell_type": "code",
      "metadata": {
        "id": "WSXRGPKTFmVB"
      },
      "source": [
        "t=-0.18\n",
        "U=1\n",
        "n=4 #no. of sites\n",
        "m=3 #no. of electrons"
      ],
      "execution_count": null,
      "outputs": []
    },
    {
      "cell_type": "code",
      "metadata": {
        "id": "Tu397HXlaS61"
      },
      "source": [
        "def Complete_Hamiltonian(H,n):\n",
        "  k=4**n #total no. of states\n",
        "\n",
        "  for i in range(k):\n",
        "    key=bin(i)[2:]\n",
        "    key=(2*n-len(key))*'0' + key #Appending additional zeros in the beginning\n",
        "\n",
        "    key=[x for x in key]\n",
        "\n",
        "    #Calculate Self-interaction energies\n",
        "    for j in range(0,2*n,2):\n",
        "      if key[j]=='1' and key[j+1]=='1':\n",
        "        H[i,i]+=U\n",
        "    \n",
        "    #Calculate Hopping energies\n",
        "    for j in range(2*n):\n",
        "      if key[j]=='1':\n",
        "        #Hopp right\n",
        "        new_key=key.copy()\n",
        "        new_key[j]='0'\n",
        "        if j+2<2*n and key[j+2]=='0':\n",
        "          new_key[j+2]='1'\n",
        "          str1=\"\"\n",
        "          new_key=str1.join(new_key)\n",
        "          H[i,int(new_key,2)]=t\n",
        "\n",
        "        #Hopp left\n",
        "        new_key=key.copy()\n",
        "        new_key[j]='0'\n",
        "        if j-2>=0 and key[j-2]=='0':\n",
        "          new_key[j-2]='1'\n",
        "          str1=\"\"\n",
        "          new_key=str1.join(new_key)\n",
        "          H[i,int(new_key,2)]=t\n",
        "\n",
        "  #plt.imshow(H)\n",
        "  #plt.show()\n",
        "  return H"
      ],
      "execution_count": null,
      "outputs": []
    },
    {
      "cell_type": "code",
      "metadata": {
        "id": "bFQOwmgcPc2r"
      },
      "source": [
        "def Hubbard(t,U,n,m):\n",
        "  k=4**n #total no. of states\n",
        "  H=np.zeros((k,k))\n",
        "  H=Complete_Hamiltonian(H,4)\n",
        "\n",
        "  new_H=np.zeros((ncr(2*n, m),ncr(2*n, m)))\n",
        "  #print(np.shape(new_H))\n",
        "\n",
        "  coin=[]\n",
        "\n",
        "  for i in range(k):\n",
        "    key=bin(i)[2:]\n",
        "    key=[int(x) for x in key]\n",
        "    if sum(key)==m: coin.append(i)\n",
        "  #print(coin)\n",
        "\n",
        "  i0=0\n",
        "  for i in coin:\n",
        "    j0=0\n",
        "    for j in coin:\n",
        "      new_H[i0,j0]=H[i,j]\n",
        "      j0+=1\n",
        "    i0+=1\n",
        "  \n",
        "  #plt.imshow(new_H)\n",
        "  #plt.show()\n",
        "\n",
        "  l,v=np.linalg.eig(new_H)\n",
        "  #plt.plot(l)\n",
        "  #plt.show()\n",
        "\n",
        "  gs=np.abs(v[:,0])\n",
        "  #plt.figure(figsize=(10,6))\n",
        "  #plt.bar(np.arange(len(l)),gs**2)\n",
        "  #plt.show()\n",
        "\n",
        "  #Most stable configurations\n",
        "  '''\n",
        "  print(\"Most stable configurations:\")\n",
        "  bin(coin[np.argmax(np.abs(v[:,0]))])\n",
        "\n",
        "  keys=np.argsort(np.abs(v[:,0]))\n",
        "\n",
        "  for i in range(-1,-5,-1):\n",
        "    temp=bin(coin[keys[i]])[2:]\n",
        "    temp=(2*n-len(temp))*'0' + temp\n",
        "    print(temp)\n",
        "  '''\n",
        "\n",
        "  def magnetization(gs,coin):\n",
        "    l=len(gs)\n",
        "    net_mag=0\n",
        "    for i in range(l):\n",
        "      state_mag=0\n",
        "      temp=bin(coin[i])[2:]\n",
        "      temp=(2*n-len(temp))*'0' + temp\n",
        "\n",
        "      for j in range(2*n):\n",
        "        if j%2==0 and temp[j]=='1': state_mag+=1\n",
        "        elif j%2==1 and temp[j]=='1': state_mag-=1\n",
        "      #print(temp, state_mag, round(gs[i]**2,2))\n",
        "      net_mag+=(gs[i]**2)*state_mag\n",
        "    return net_mag\n",
        "\n",
        "  return magnetization(gs,coin)"
      ],
      "execution_count": null,
      "outputs": []
    },
    {
      "cell_type": "code",
      "metadata": {
        "colab": {
          "base_uri": "https://localhost:8080/"
        },
        "id": "8uaCzgWVwEEE",
        "outputId": "79afa9a4-e771-499e-9fcd-a632695101a9"
      },
      "source": [
        "Hubbard(-1,1,4,4)"
      ],
      "execution_count": null,
      "outputs": [
        {
          "output_type": "execute_result",
          "data": {
            "text/plain": [
              "6.760076247927187e-32"
            ]
          },
          "metadata": {
            "tags": []
          },
          "execution_count": 38
        }
      ]
    },
    {
      "cell_type": "code",
      "metadata": {
        "id": "EsgbLwlFAAwG"
      },
      "source": [
        "U=-1\n",
        "n=4\n",
        "T=np.round(np.arange(-0.05,-0.3,-0.02),2)\n",
        "M=np.arange(2*n+1)\n",
        "mag=np.zeros((len(T),len(M)))\n",
        "for i in range(len(T)):\n",
        "  for j in range(len(M)):\n",
        "    mag[i,j]=Hubbard(T[i],U,n,M[j])\n",
        "    #print(T[i],M[j],np.round(mag[i,j],4))"
      ],
      "execution_count": null,
      "outputs": []
    },
    {
      "cell_type": "code",
      "metadata": {
        "colab": {
          "base_uri": "https://localhost:8080/",
          "height": 278
        },
        "id": "8y6j8HpSI-5m",
        "outputId": "8c8bf34c-c98f-4f9f-da02-ab3962508c2f"
      },
      "source": [
        "plt.imshow(mag,extent=(0,2,-0.05,-0.3),aspect=6)\n",
        "plt.colorbar()"
      ],
      "execution_count": null,
      "outputs": [
        {
          "output_type": "execute_result",
          "data": {
            "text/plain": [
              "<matplotlib.colorbar.Colorbar at 0x7f852b5d87b8>"
            ]
          },
          "metadata": {
            "tags": []
          },
          "execution_count": 40
        },
        {
          "output_type": "display_data",
          "data": {
            "image/png": "[encoded data removed]",
            "text/plain": [
              "<Figure size 432x288 with 2 Axes>"
            ]
          },
          "metadata": {
            "tags": [],
            "needs_background": "light"
          }
        }
      ]
    },
    {
      "cell_type": "code",
      "metadata": {
        "id": "T5psWcOAJZDh"
      },
      "source": [
        ""
      ],
      "execution_count": null,
      "outputs": []
    }
  ]
}